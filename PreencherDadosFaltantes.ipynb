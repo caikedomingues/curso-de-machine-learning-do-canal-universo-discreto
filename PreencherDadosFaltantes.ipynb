{
 "cells": [
  {
   "cell_type": "markdown",
   "id": "41d07616",
   "metadata": {},
   "source": [
    "O objetivo dessa aula é mostrar como devemos preencher linhas sem valores,\n",
    "ou seja, linhas nulas"
   ]
  },
  {
   "cell_type": "code",
   "execution_count": 2,
   "id": "f6736f77",
   "metadata": {},
   "outputs": [],
   "source": [
    "# Biblioteca que possibilita acessar o dataset e manipular os seus valores\n",
    "import pandas as pd\n",
    "\n",
    "# Bibloteca que possibilita a realização de calculos e manipukações com\n",
    "# arrays\n",
    "import numpy as np"
   ]
  },
  {
   "cell_type": "markdown",
   "id": "3758fcbd",
   "metadata": {},
   "source": [
    "Acessando o dataset com o pandas"
   ]
  },
  {
   "cell_type": "code",
   "execution_count": null,
   "id": "a3de0c88",
   "metadata": {},
   "outputs": [],
   "source": [
    "# Em alguns casos, é necessário especificar o tipo de delimitador que separa\n",
    "# os valores do dataset. Para isso basta atribuir ao argumento 'delimiter'\n",
    "# o tipo de delimitador do dataset\n",
    "base_de_dados = pd.read_csv('Dados/svbr.csv', delimiter=';')"
   ]
  },
  {
   "cell_type": "markdown",
   "id": "5bd7c526",
   "metadata": {},
   "source": [
    "Acessando apenas os valores do dataset"
   ]
  },
  {
   "cell_type": "code",
   "execution_count": null,
   "id": "6e934572",
   "metadata": {},
   "outputs": [
    {
     "name": "stdout",
     "output_type": "stream",
     "text": [
      "[['Site Arqueologia Egípcia' 13438.0 406590.0]\n",
      " ['Terra Negra' 35241.0 868235.0]\n",
      " ['Frank Jaava' 31680.0 2856508.0]\n",
      " ['Dispersciência' 25100.0 150000.0]\n",
      " ['Olá Ciência' 32788.0 1575456.0]\n",
      " ['A matemaníaca por Julia Jaccoud' 65453.0 1667892.0]\n",
      " ['Delta T - Os super lentos' 12000.0 171361.0]\n",
      " ['Bláblálogia' 161951.0 11027386.0]\n",
      " ['Efarsas' 78876.0 6226235.0]\n",
      " ['Minuto da Terra' 274196.0 30166457.0]\n",
      " ['Canal Cura Quântica' 13148.0 250020.0]\n",
      " ['Mensageiro Sideral' 72425.0 7551491.0]\n",
      " ['Universo Racionalista' 7858.0 43662.0]\n",
      " ['Xadrez Verbal' 110549.0 4151548.0]\n",
      " ['Reinaldo José Lopes' 11188.0 541832.0]\n",
      " [\"Bio's Fera\" 5299.0 44312.0]\n",
      " ['QuerQueDesenhe' 56006.0 1329268.0]\n",
      " ['Prof André Azevedo da Fonseca' 45756.0 1825724.0]\n",
      " ['Matemática Rio com Prof Rafael Procópio' 1423056.0 93036517.0]\n",
      " ['Ponto em Comum' 129466.0 5027880.0]\n",
      " ['Canal do Slow' 137409.0 5363423.0]\n",
      " ['Boteco Behaviorista' 18404.0 1427977.0]\n",
      " ['Papo de Primata' 42063.0 1111334.0]\n",
      " ['Minutos Psíquicos' 648892.0 22555134.0]\n",
      " ['Alimente o Cérebro' 135118.0 3375528.0]\n",
      " ['Canal Zoa' 9118.0 683190.0]\n",
      " ['Papo de Biólogo' 374057.0 12139385.0]\n",
      " ['Eu, Ciência' 88211.0 1616496.0]\n",
      " ['Peixe Babel' nan nan]\n",
      " ['SpaceToday' 321068.0 26277335.0]\n",
      " ['Ciência todo dia' 528761.0 16969332.0]\n",
      " ['Colecionadores de Ossos' 24894.0 806815.0]\n",
      " ['Canal do Pirula' 752573.0 76462787.0]\n",
      " ['Jornal Ciensacional' 6216.0 104217.0]\n",
      " ['iBioMovies - Canal de Biologia' 17388.0 563535.0]\n",
      " ['Primata Falante' 110840.0 4540321.0]\n",
      " ['Dragões de Garagem' 6421.0 82599.0]\n",
      " ['Café e Ciência' 38494.0 916320.0]\n",
      " ['Mimimidias' 66122.0 2009621.0]\n",
      " ['Schwarza - Poligonautas' 860493.0 118741623.0]\n",
      " ['Caio na Aula' 13661.0 748018.0]\n",
      " ['ComCiência Corporal' 2308.0 16150.0]\n",
      " ['Leitura ObrigaHISTORIA' 138132.0 3013264.0]\n",
      " ['Portal da Ciência' 64100.0 2139717.0]\n",
      " ['Universo Discreto' 2330.0 74680.0]\n",
      " ['Astrotubers' 4357.0 41228.0]\n",
      " ['O Físico Turista' 53838.0 1004921.0]]\n"
     ]
    }
   ],
   "source": [
    "# Antes de acessar os valores, é necessário passar no intervalo todas as\n",
    "# colunas do dataset (se não pegarmos o intervalo, o fit que usaremos depois\n",
    "# não funcionará, pois, ele necessita da existências das colunas)\n",
    "valores_dataset = base_de_dados.iloc[:,:].values\n",
    "\n",
    "print(valores_dataset)"
   ]
  },
  {
   "cell_type": "code",
   "execution_count": null,
   "id": "a3ab6f1e",
   "metadata": {},
   "outputs": [
    {
     "name": "stdout",
     "output_type": "stream",
     "text": [
      "[['Site Arqueologia Egípcia' '13438.0' '406590.0']\n",
      " ['Terra Negra' '35241.0' '868235.0']\n",
      " ['Frank Jaava' '31680.0' '2856508.0']\n",
      " ['Dispersciência' '25100.0' '150000.0']\n",
      " ['Olá Ciência' '32788.0' '1575456.0']\n",
      " ['A matemaníaca por Julia Jaccoud' '65453.0' '1667892.0']\n",
      " ['Delta T - Os super lentos' '12000.0' '171361.0']\n",
      " ['Bláblálogia' '161951.0' '11027386.0']\n",
      " ['Efarsas' '78876.0' '6226235.0']\n",
      " ['Minuto da Terra' '274196.0' '30166457.0']\n",
      " ['Canal Cura Quântica' '13148.0' '250020.0']\n",
      " ['Mensageiro Sideral' '72425.0' '7551491.0']\n",
      " ['Universo Racionalista' '7858.0' '43662.0']\n",
      " ['Xadrez Verbal' '110549.0' '4151548.0']\n",
      " ['Reinaldo José Lopes' '11188.0' '541832.0']\n",
      " [\"Bio's Fera\" '5299.0' '44312.0']\n",
      " ['QuerQueDesenhe' '56006.0' '1329268.0']\n",
      " ['Prof André Azevedo da Fonseca' '45756.0' '1825724.0']\n",
      " ['Matemática Rio com Prof Rafael P' '1423056.0' '93036517.0']\n",
      " ['Ponto em Comum' '129466.0' '5027880.0']\n",
      " ['Canal do Slow' '137409.0' '5363423.0']\n",
      " ['Boteco Behaviorista' '18404.0' '1427977.0']\n",
      " ['Papo de Primata' '42063.0' '1111334.0']\n",
      " ['Minutos Psíquicos' '648892.0' '22555134.0']\n",
      " ['Alimente o Cérebro' '135118.0' '3375528.0']\n",
      " ['Canal Zoa' '9118.0' '683190.0']\n",
      " ['Papo de Biólogo' '374057.0' '12139385.0']\n",
      " ['Eu, Ciência' '88211.0' '1616496.0']\n",
      " ['Peixe Babel' '153711.78260869565' '10254420.086956521']\n",
      " ['SpaceToday' '321068.0' '26277335.0']\n",
      " ['Ciência todo dia' '528761.0' '16969332.0']\n",
      " ['Colecionadores de Ossos' '24894.0' '806815.0']\n",
      " ['Canal do Pirula' '752573.0' '76462787.0']\n",
      " ['Jornal Ciensacional' '6216.0' '104217.0']\n",
      " ['iBioMovies - Canal de Biologia' '17388.0' '563535.0']\n",
      " ['Primata Falante' '110840.0' '4540321.0']\n",
      " ['Dragões de Garagem' '6421.0' '82599.0']\n",
      " ['Café e Ciência' '38494.0' '916320.0']\n",
      " ['Mimimidias' '66122.0' '2009621.0']\n",
      " ['Schwarza - Poligonautas' '860493.0' '118741623.0']\n",
      " ['Caio na Aula' '13661.0' '748018.0']\n",
      " ['ComCiência Corporal' '2308.0' '16150.0']\n",
      " ['Leitura ObrigaHISTORIA' '138132.0' '3013264.0']\n",
      " ['Portal da Ciência' '64100.0' '2139717.0']\n",
      " ['Universo Discreto' '2330.0' '74680.0']\n",
      " ['Astrotubers' '4357.0' '41228.0']\n",
      " ['O Físico Turista' '53838.0' '1004921.0']]\n"
     ]
    }
   ],
   "source": [
    "# Esta linha importa a classe SimpleImputer do módulo sklearn.impute. \n",
    "# O scikit-learn(geralmente abreviado como sklearn) é uma biblioteca\n",
    "# super popular em python para Machine Learning, e o SimpleImputer é\n",
    "# uma ferramenta especifica para preencher valores ausentes\n",
    "from sklearn.impute import SimpleImputer\n",
    "\n",
    "# Aqui, estamos criando uma instância (um objeto) do SimpleImputer.\n",
    "\n",
    "# Missing_values=np.nan: Isso informa ao imputer qual valor ele deve\n",
    "# considerar como \"ausente\". Neste caso, estamos dizendo para ele procurar\n",
    "# por np.nan.\n",
    "\n",
    "# strategy = mean: Esta é a estratégia que o imputer usará para preencher\n",
    "# os valores ausentes. A estratégia 'mean' significa que ele substituira cada\n",
    "# valor ausente pela média dos valores não ausentes daquela coluna. Existem\n",
    "# outras estratégias, como median (mediana) ou  most_frequent (valor mais frequente), mas a média é uma escolha comum para dados numéricos\n",
    "imputer = SimpleImputer(missing_values=np.nan, strategy='mean')\n",
    "\n",
    "# O método fit serve para \"ensinar\" o imputer sobre os dados. Quando chamamos\n",
    "# fit(): O imputer ira calcular a média (método escolhido na strategy \n",
    "# da instancia do simpleimputer) de cada coluna. Note que estamos passando\n",
    "# valores_dataset[:,1:3]. Isso significa que o imputer vai aprender as médias\n",
    "# apenas das colunas de indice 1 e 2 do seu valores_dataset(lembre-se que em\n",
    "# python), a indexação começa em 0, e 1:3 inclui o indice 1 e 2, mas não o 3).\n",
    "# Ou seja, ele vai ignorar a primeira coluna (indice 0) para o cálculo da média\n",
    "# e preenchimento.\n",
    "imputer = imputer.fit(valores_dataset[:,1:3])\n",
    "\n",
    "# Agora que o imputer aprendeu as médias, usamos o método .transform para\n",
    "# realmente preencher os valores ausentes.\n",
    "# imputer.transform(valores_dataset[:,1:3]): Ele pega as colunas 1 e 2\n",
    "# do valores-dataset e substitui todos os valores np.nan que encontrar\n",
    "# pelas médias calculadas na etapa anterior.\n",
    "# Após preencher os valores, esta parte converte todos os dados dessa coluna\n",
    "# para o tipo string.  \n",
    "valores_dataset = imputer.transform(valores_dataset[:,1:3]).astype(str)\n",
    "\n",
    "# Nesta linha, estamos usando np.insert(do numpy) para reinserir a primeira\n",
    "# coluna original de volta no seu valores dataset.\n",
    "# Valores dataset: conjunto de dados que ira receber a inserção da coluna\n",
    "# 0: Posição que os valores serão inseridos\n",
    "# base_de_dados.iloc.values: Ira pegar todos os valores da primeira coluna\n",
    "# do dataset original.\n",
    "valores_dataset = np.insert(valores_dataset, 0, base_de_dados.iloc[:,0].values, axis=1)\n",
    "\n",
    "# Ira mostrar na tela todos os valores\n",
    "print(valores_dataset)"
   ]
  }
 ],
 "metadata": {
  "kernelspec": {
   "display_name": "Python 3",
   "language": "python",
   "name": "python3"
  },
  "language_info": {
   "codemirror_mode": {
    "name": "ipython",
    "version": 3
   },
   "file_extension": ".py",
   "mimetype": "text/x-python",
   "name": "python",
   "nbconvert_exporter": "python",
   "pygments_lexer": "ipython3",
   "version": "3.12.10"
  }
 },
 "nbformat": 4,
 "nbformat_minor": 5
}
