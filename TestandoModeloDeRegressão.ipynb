{
 "cells": [
  {
   "cell_type": "markdown",
   "id": "35b48324",
   "metadata": {},
   "source": [
    "                                R2_SCORE\n",
    "-> O r2_score (R-quadrado ou Coeficiente de Determinação) é a métrica \n",
    "mais popular para avaliar a performance de modelos de regressão. Para\n",
    "explicar melhor, vamos usar uma analogia.\n",
    "\n",
    "-> Imagine que você esta tentando prever os salários das pessoas, mas a\n",
    "única informação que você tem é a média dos salários. Sua previsão seria\n",
    "sempre a mesma: a média. Se a média de salário é $100.000, sua previsão\n",
    "para qualquer pessoa é $100.000, independentemente da experiência ou cargo\n",
    "dela. Agora vamos supor que construimos um modelo de Floresta Aleatória.\n",
    "Esse modelo usa a experiência para fazer uma previsão e definir através da\n",
    "média dos salários, o local que esse novo dado irá ocupar.\n",
    "\n",
    "-> O r2_score basicamente responde á seguinte pergunta: \"O modelo de floresta\n",
    "aleatória (pode ser qualquer modelo de regressão) é melhor do que apenas usar\n",
    "a média para prever saláros?\" \n",
    "\n",
    "                                Escala do r2_score\n",
    "-> r2_score = 1: Perfeição significa que o seu modelo consegue prever 100%\n",
    "da variabiliade dos dados. A linha de previsão do seu modelo se encaixa\n",
    "perfeitamente em todos os pontos de dados. Isso raramente acontece com dados\n",
    "reais.\n",
    "\n",
    "-> r2_score = 0: Inutilidade. Significa que o seu modelo é tão bom quanto \n",
    "usar apenas a média para prever os valores. Ele não consegue explicar a \n",
    "variabiliade dos dados.\n",
    "\n",
    "-> r2_score < 0: Pior que inutil. Isso acontece quando o seu modelo é realmente\n",
    "ruim e comete erros piores do que se você simplesmente tivesse usado a média."
   ]
  },
  {
   "cell_type": "markdown",
   "id": "802ebe78",
   "metadata": {},
   "source": [
    "                           Como Funciona nos Bastidores?\n",
    "-> O r2_score é calculado comparando o erro do seu modelo com o erro de \n",
    "um modelo que prevê a média.\n",
    "\n",
    "-> Erros do nosso modelo: A soma dos quadrados da diferença entre os valores\n",
    "reais e os valores previstos.\n",
    "\n",
    "-> Erro do modelo da média: A soma dos quadrados da diferença entre os valores\n",
    "reais e a média geral dos valores reais.\n",
    "\n",
    "-> O r2_score basicamente compara a quantidade de erros do seu modelo\n",
    "com a quantidade de erros gerada pelo cálculo da média. Se o nosso modelo\n",
    "erra 90% menos que o modelo de média, o nosso R-Quadrado é 0.90 que é um\n",
    "excelente resultado"
   ]
  },
  {
   "cell_type": "markdown",
   "id": "434b8eda",
   "metadata": {},
   "source": [
    "Para acessar as funções de regressão será necessário converter os notebooks\n",
    "jupyter em arquivos py, dessa maneira, poderemos importar as funções e \n",
    "testar as métricas utilizando o r2_score. Para realizar a conversão temos que seguir o seguinte passo a passo.\n",
    "\n",
    "-> 1: Criar uma pasta que irá conter as cópias de todos os arquivos jupyter\n",
    "que irão ser convertidos em py.\n",
    "\n",
    "-> 2: Acessar a pasta que contém os arquivos via terminal\n",
    "\n",
    "-> 3: Usar o comando: \"jupyter nbconvert --to script nome_do_arquivo.ipynb\" para converter os arquivos da pasta"
   ]
  },
  {
   "cell_type": "markdown",
   "id": "5766417d",
   "metadata": {},
   "source": [
    "Import das funções que contém as regressões que serão testadas"
   ]
  },
  {
   "cell_type": "code",
   "execution_count": null,
   "id": "564b0218",
   "metadata": {},
   "outputs": [],
   "source": [
    "from regressoes import RegressaoArvoreDeDecisao as ad\n",
    "\n",
    "from regressoes import RegressaoFlorestaAleatoria as fa\n",
    "\n",
    "from regressoes import RegressaoLinear as rl\n",
    "\n",
    "from regressoes import RegressaoLinearMultipla as rm\n",
    "\n",
    "from regressoes import RegressaoLinearMultipla2 as rm2\n",
    "\n",
    "from regressoes import RegressaoPolinomial as rp\n",
    "\n",
    "from regressoes import RegressaoVetorSuporte as rvs\n",
    "\n"
   ]
  }
 ],
 "metadata": {
  "kernelspec": {
   "display_name": "Python 3",
   "language": "python",
   "name": "python3"
  },
  "language_info": {
   "codemirror_mode": {
    "name": "ipython",
    "version": 3
   },
   "file_extension": ".py",
   "mimetype": "text/x-python",
   "name": "python",
   "nbconvert_exporter": "python",
   "pygments_lexer": "ipython3",
   "version": "3.12.10"
  }
 },
 "nbformat": 4,
 "nbformat_minor": 5
}
