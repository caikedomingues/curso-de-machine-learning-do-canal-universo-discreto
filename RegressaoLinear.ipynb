{
 "cells": [
  {
   "cell_type": "markdown",
   "id": "82e191de",
   "metadata": {},
   "source": [
    "Descrição da aula: Nessa aula o professor irá apresentar brevemente o conceito de Regressão Linear. Ele Explicara o que é, como funciona, para que serve, como implementar usando a linguagem Python e a biblioteca Scikit-Learn e irá terminar gerando um gráfico para uma base de dados de exemplo."
   ]
  },
  {
   "cell_type": "markdown",
   "id": "31bc32ef",
   "metadata": {},
   "source": [
    "A ideia aqui é criar um modelo de predição através da regressão linear(linha \n",
    "que mostra a relação entre variáveis numéricas) para descobrir se o modelo consegue prever o numero de visualizações de cada canal do youtube"
   ]
  },
  {
   "cell_type": "code",
   "execution_count": 3,
   "id": "47e977aa",
   "metadata": {},
   "outputs": [],
   "source": [
    "from minhasfuncoes import funcoes\n",
    "\n",
    "def computarRegressaoLinear( x_train, x_test, y_train, y_test):\n",
    "    \n",
    "    from sklearn.linear_model import LinearRegression\n",
    "    \n",
    "    regressao = LinearRegression()\n",
    "    \n",
    "    regressao.fit(x_train, y_train)\n",
    "    \n",
    "    ypredicao = regressao.predict(x_test)\n",
    "    \n",
    "    print(y_test, ypredicao)\n",
    "    \n",
    "\n",
    "def regressao_linear(nome_do_arquivo, delimitador = None):\n",
    "    \n",
    "    x, y = funcoes.carregar_Dataset(nome_do_arquivo, delimitador)\n",
    "    \n",
    "    x = funcoes.preencherDadosFaltantes(x, 'median')\n",
    "    \n",
    "    x = funcoes.rotulacao(x)\n",
    "    \n",
    "    x_train, x_test, y_train, y_test = funcoes.treino_teste(x, y, 0.8)\n",
    "    \n",
    "    computarRegressaoLinear( x_train, x_test, y_train, y_test)\n",
    "    "
   ]
  },
  {
   "cell_type": "code",
   "execution_count": 4,
   "id": "711bb0cc",
   "metadata": {},
   "outputs": [
    {
     "name": "stdout",
     "output_type": "stream",
     "text": [
      "[1.04217000e+05 2.13971700e+06            nan 1.32926800e+06\n",
      " 8.68235000e+05 4.12280000e+04 2.85650800e+06 1.82572400e+06\n",
      " 4.43120000e+04 3.01664570e+07 8.06815000e+05 1.10273860e+07\n",
      " 9.30365170e+07 3.37552800e+06 4.06590000e+05 7.64627870e+07\n",
      " 4.54032100e+06 1.11133400e+06 1.50000000e+05 5.41832000e+05\n",
      " 2.62773350e+07 7.55149100e+06 1.61500000e+04 1.21393850e+07\n",
      " 1.71361000e+05 1.61649600e+06 5.02788000e+06 2.00962100e+06\n",
      " 1.42797700e+06 5.63535000e+05 1.18741623e+08 2.25551340e+07\n",
      " 1.57545600e+06 5.36342300e+06 9.16320000e+05 8.25990000e+04\n",
      " 2.50020000e+05 4.15154800e+06] [  452735.06749889  2084157.25605365  1664740.04367753  1791267.05059617\n",
      "  1076111.39233857   650146.31620392  1260743.55799859  1484874.46212708\n",
      "   666096.91433193  8747428.19534323  1143098.30297346  5540741.35818517\n",
      " 44636187.28277745  4743787.62330712   422668.08117022 23889544.54835257\n",
      "  3529164.82384658  1436855.41048328  1109196.98017939   379346.41129314\n",
      " 10008351.50415072  2478357.02451602   424893.4274503  11809666.57602092\n",
      "   713874.47416925  3038150.55665542  4137246.99908774  2268238.41121073\n",
      "  1048132.35786097   465263.34725234 26867174.77604501 20425804.19720376\n",
      "  1174329.29473747  4680843.99681521  1661567.18794548   512904.10038707\n",
      "   843797.62818647  3385653.81241045]\n"
     ]
    }
   ],
   "source": [
    "if __name__ == \"__main__\":\n",
    "    \n",
    "    regressao_linear('Dados/svbr.csv', ';')"
   ]
  },
  {
   "cell_type": "markdown",
   "id": "afa83e68",
   "metadata": {},
   "source": [
    "Podemos observar que o modelo não chegou perto dos valores reais da base de dados. Infelizmente, acredito que isso tenha acontecido por conta dos valores \n",
    "Nans que apareceram na nossa variável alvo, pois, como esses valores são ausentes, 0 modelo fica sem dados suficientes para treinar. Ainda não sei bem como solucionar esse problema"
   ]
  }
 ],
 "metadata": {
  "kernelspec": {
   "display_name": "Python 3",
   "language": "python",
   "name": "python3"
  },
  "language_info": {
   "codemirror_mode": {
    "name": "ipython",
    "version": 3
   },
   "file_extension": ".py",
   "mimetype": "text/x-python",
   "name": "python",
   "nbconvert_exporter": "python",
   "pygments_lexer": "ipython3",
   "version": "3.12.10"
  }
 },
 "nbformat": 4,
 "nbformat_minor": 5
}
