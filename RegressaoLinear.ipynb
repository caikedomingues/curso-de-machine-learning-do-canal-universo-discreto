{
 "cells": [
  {
   "cell_type": "markdown",
   "id": "82e191de",
   "metadata": {},
   "source": [
    "Descrição da aula: Nessa aula o professor irá apresentar brevemente o conceito de Regressão Linear. Ele Explicara o que é, como funciona, para que serve, como implementar usando a linguagem Python e a biblioteca Scikit-Learn e irá terminar gerando um gráfico para uma base de dados de exemplo."
   ]
  },
  {
   "cell_type": "code",
   "execution_count": null,
   "id": "47e977aa",
   "metadata": {},
   "outputs": [],
   "source": []
  }
 ],
 "metadata": {
  "kernelspec": {
   "display_name": "Python 3",
   "language": "python",
   "name": "python3"
  },
  "language_info": {
   "name": "python",
   "version": "3.12.10"
  }
 },
 "nbformat": 4,
 "nbformat_minor": 5
}
