{
 "cells": [
  {
   "cell_type": "markdown",
   "id": "e04a3cc7",
   "metadata": {},
   "source": []
  }
 ],
 "metadata": {
  "language_info": {
   "name": "python"
  }
 },
 "nbformat": 4,
 "nbformat_minor": 5
}
