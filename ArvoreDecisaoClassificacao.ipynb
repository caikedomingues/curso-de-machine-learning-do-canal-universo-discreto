{
 "cells": [
  {
   "cell_type": "markdown",
   "id": "0e9e7e9f",
   "metadata": {},
   "source": [
    "                    Arvore de decisão de classificação\n",
    "\n",
    "-> A árvore de decisão de classificação é um dos modelos de aprendizado de máquina\n",
    "mais intuitivos e fáceis de entender, por que a sua lógica é muito parecida com a\n",
    "forma como nós humanos, tomamos decisões.\n",
    "\n",
    "-> Imagine que você esta tentando decidir se deve ou não levar um guarda-chuva\n",
    "ao sair de casa. Você faria uma série de perguntas, em uma sequência lógica,\n",
    "para chegar a uma conclusão. Por exemplo:\n",
    "\n",
    "-> Primeira Pergunta: \"Esta chovendo agora?\"\n",
    "\n",
    "    -> se sim: Leve o guarda-chuva.\n",
    "\n",
    "    -> se não: Faça a próxima pergunta.\n",
    "\n",
    "-> Segunda Pergunta: \"O céu está nublado?\"\n",
    "\n",
    "    -> se sim: Leve o guarda-chuva\n",
    "    \n",
    "    -> se não: Faça a próxima pergunta\n",
    "\n",
    "-> Terceira Pergunta: \"A previsão do tempo diz que vai chover?\"\n",
    "\n",
    "    -> se sim: Leve o guarda-chuva\n",
    "\n",
    "    -> se não: Não leve o guarda-chuva\n",
    "\n",
    "-> A árvore de decisão funciona exatamente assim. Ela cria uma estrutura em forma\n",
    "de árvore com \"nós\" que representam perguntas sobre as caracteristicas dos seus\n",
    "dados. A partir da primeira pergunta (chamada de nó raiz), a árvore se ramifica\n",
    "em diferentes caminhos, levando a novas perguntas até chegar a uma resposta final,\n",
    "que é a sua classificação."
   ]
  },
  {
   "cell_type": "markdown",
   "id": "499625a7",
   "metadata": {},
   "source": [
    "                Principais Componentes da Arvore de Decisão\n",
    "\n",
    "-> Nó Raiz: É a primeira e principal pergunta da árvore.\n",
    "\n",
    "-> Nós Internos: São as perguntas subsequentes que dividem os dados.\n",
    "\n",
    "-> Folhas (Nós de Saida): São as respostas finais ou classificações"
   ]
  },
  {
   "cell_type": "markdown",
   "id": "2f928eda",
   "metadata": {},
   "source": [
    "Função que irá construir o modelo de arvores de decisão"
   ]
  },
  {
   "cell_type": "code",
   "execution_count": 1,
   "id": "3ec14879",
   "metadata": {},
   "outputs": [],
   "source": [
    "# A função irá receber como argumentos os dados de treino de x e y\n",
    "def computarModelo(xtrain, ytrain):\n",
    "    \n",
    "    # Import da classe DecisionTreeClassifier da biblioteca tree do módulo\n",
    "    # sklearn que tem como objetivo construir arvores de decisão de classifica-\n",
    "    # ção.\n",
    "    from sklearn.tree import DecisionTreeClassifier\n",
    "    \n",
    "    # Instância da classe DecisionTreeClassifier. O construtor da classe\n",
    "    # irá receber como argumento o criterion que tem como objetivo definir\n",
    "    # a métrica que a árvore de decisão usará para medir a qualidade de \n",
    "    # uma divisão dos dados. O objetico da árvore é encontrar a melhor forma \n",
    "    # de dividir os dados em cada nó para torna-los o mais \"puros\" possivel,\n",
    "    # ou seja, para que cada nó contenha amostras de apenas uma classe.\n",
    "    \n",
    "    # entropy: é uma medida de impureza ou desordem. Um nó com baixa entropia\n",
    "    # é puro e homogêneo (contém amostras de apenas uma classe). A árvore de\n",
    "    # decisão usa o critério de entropia para encontrar a divisão que resulta\n",
    "    # na maior redução de entropia. Em outras palavras, ela busca a divisão que \n",
    "    # mais organiza dados.\n",
    "    classificador = DecisionTreeClassifier(criterion='entropy')\n",
    "    \n",
    "    # Ira treinar o modelo com o objetivo de ensina-lo a encontrar padrões\n",
    "    # e tendências usando os dados de treino\n",
    "    classificador.fit(xtrain, ytrain)\n",
    "    \n",
    "    # Retorno do modelo construido e treinado.\n",
    "    return classificador\n",
    "    \n",
    "    "
   ]
  },
  {
   "cell_type": "markdown",
   "id": "784b77b9",
   "metadata": {},
   "source": [
    "Construindo a predição do modelo"
   ]
  },
  {
   "cell_type": "code",
   "execution_count": 2,
   "id": "fe3582da",
   "metadata": {},
   "outputs": [],
   "source": [
    "# Função que irá conter a classificação do modelo\n",
    "def predicaoModelo(classificador, xtest):\n",
    "    \n",
    "    return classificador.predict(xtest)"
   ]
  },
  {
   "cell_type": "code",
   "execution_count": 3,
   "id": "225e34ad",
   "metadata": {},
   "outputs": [],
   "source": [
    "def matrizConfusao(ytest, ypredicao, rotulos):\n",
    "    \n",
    "    from sklearn.metrics import confusion_matrix\n",
    "    \n",
    "    matriz = confusion_matrix(ytest, ypredicao, labels=rotulos)\n",
    "    \n",
    "    \n",
    "    return matriz             "
   ]
  },
  {
   "cell_type": "code",
   "execution_count": 4,
   "id": "3b7656df",
   "metadata": {},
   "outputs": [],
   "source": [
    "from minhasfuncoes import funcoes\n",
    "\n",
    "def ArvoreDecisao(nome_do_arquivo, delimitador=',', inicio_preenchimento=None, fim_preenchimento = None, lista_rotulacao = None):\n",
    "    \n",
    "    x, y = funcoes.carregar_Dataset(nome_do_arquivo, delimitador)\n",
    "    \n",
    "    if inicio_preenchimento != None and fim_preenchimento != None:\n",
    "        \n",
    "        x = funcoes.preencherDadosFaltantes(x, inicio_preenchimento, fim_preenchimento)\n",
    "    \n",
    "    if lista_rotulacao != None:\n",
    "        \n",
    "        for i in lista_rotulacao:\n",
    "            \n",
    "            x = funcoes.rotulacao(x, i)\n",
    "    \n",
    "    \n",
    "    xtrain, xtest, ytrain, ytest = funcoes.treino_teste(x, y, 0.2)\n",
    "    \n",
    "    xtrain_normalizado, escala = funcoes.normalizacao(xtrain)\n",
    "    \n",
    "    xtest_normalizado = escala.transform(xtest)\n",
    "    \n",
    "    classificador = computarModelo(xtrain_normalizado, ytrain)\n",
    "    \n",
    "    ypredicao = predicaoModelo(classificador, xtest_normalizado)\n",
    "    \n",
    "    rotulos = [0,1]\n",
    "    \n",
    "    return matrizConfusao(ytest, ypredicao, rotulos)\n",
    "    "
   ]
  },
  {
   "cell_type": "markdown",
   "id": "ea3728e4",
   "metadata": {},
   "source": [
    "Visualizando os resultados da classificação"
   ]
  },
  {
   "cell_type": "code",
   "execution_count": 5,
   "id": "6708031e",
   "metadata": {},
   "outputs": [
    {
     "data": {
      "text/plain": [
       "array([[2, 0],\n",
       "       [0, 0]])"
      ]
     },
     "execution_count": 5,
     "metadata": {},
     "output_type": "execute_result"
    }
   ],
   "source": [
    "ArvoreDecisao(nome_do_arquivo='Dados/admission.csv', delimitador=';', lista_rotulacao=[0])"
   ]
  },
  {
   "cell_type": "markdown",
   "id": "332d3b78",
   "metadata": {},
   "source": [
    "Testando a eficiência do modelo"
   ]
  },
  {
   "cell_type": "code",
   "execution_count": 6,
   "id": "0d1cab10",
   "metadata": {},
   "outputs": [],
   "source": [
    "arvore = lambda: ArvoreDecisao(nome_do_arquivo='Dados/admission.csv', delimitador=';', lista_rotulacao=[0])\n"
   ]
  },
  {
   "cell_type": "code",
   "execution_count": 7,
   "id": "f1531602",
   "metadata": {},
   "outputs": [
    {
     "name": "stderr",
     "output_type": "stream",
     "text": [
      "porcentagem de execução do teste de acurácia: 100%|██████████| 20/20 [00:00<00:00, 112.08it/s]"
     ]
    },
    {
     "name": "stdout",
     "output_type": "stream",
     "text": [
      "Média das acurácias do modelo de classificação: 0.85\n"
     ]
    },
    {
     "name": "stderr",
     "output_type": "stream",
     "text": [
      "\n"
     ]
    }
   ],
   "source": [
    "funcoes.testar_modelo_classificacao(arvore, 20, 'porcentagem de execução do teste de acurácia')"
   ]
  }
 ],
 "metadata": {
  "kernelspec": {
   "display_name": "Python 3",
   "language": "python",
   "name": "python3"
  },
  "language_info": {
   "codemirror_mode": {
    "name": "ipython",
    "version": 3
   },
   "file_extension": ".py",
   "mimetype": "text/x-python",
   "name": "python",
   "nbconvert_exporter": "python",
   "pygments_lexer": "ipython3",
   "version": "3.12.10"
  }
 },
 "nbformat": 4,
 "nbformat_minor": 5
}
