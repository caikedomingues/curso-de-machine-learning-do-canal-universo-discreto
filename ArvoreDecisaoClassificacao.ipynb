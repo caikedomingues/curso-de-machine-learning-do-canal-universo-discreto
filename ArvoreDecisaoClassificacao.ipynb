{
 "cells": [
  {
   "cell_type": "markdown",
   "id": "0e9e7e9f",
   "metadata": {},
   "source": [
    "                    Arvore de decisão de classificação\n",
    "\n",
    "-> A árvore de decisão de classificação é um dos modelos de aprendizado de máquina\n",
    "mais intuitivos e fáceis de entender, por que a sua lógica é muito parecida com a\n",
    "forma como nós humanos, tomamos decisões.\n",
    "\n",
    "-> Imagine que você esta tentando decidir se deve ou não levar um guarda-chuva\n",
    "ao sair de casa. Você faria uma série de perguntas, em uma sequência lógica,\n",
    "para chegar a uma conclusão. Por exemplo:\n",
    "\n",
    "-> Primeira Pergunta: \"Esta chovendo agora?\"\n",
    "\n",
    "    -> se sim: Leve o guarda-chuva.\n",
    "\n",
    "    -> se não: Faça a próxima pergunta."
   ]
  },
  {
   "cell_type": "code",
   "execution_count": null,
   "id": "3ec14879",
   "metadata": {},
   "outputs": [],
   "source": [
    "def computarModelo(xtrain, ytrain):\n",
    "    \n",
    "    from sklearn.tree import DecisionTreeClassifier\n",
    "    \n",
    "    classificador = DecisionTreeClassifier(criterion='entropy')\n",
    "    \n",
    "    classificador.fit(xtrain, ytrain)\n",
    "    \n",
    "    return classificador\n",
    "    \n",
    "    "
   ]
  },
  {
   "cell_type": "code",
   "execution_count": 19,
   "id": "fe3582da",
   "metadata": {},
   "outputs": [],
   "source": [
    "def predicaoModelo(classificador, xtest):\n",
    "    \n",
    "    return classificador.predict(xtest)"
   ]
  },
  {
   "cell_type": "code",
   "execution_count": 20,
   "id": "225e34ad",
   "metadata": {},
   "outputs": [],
   "source": [
    "def matrizConfusao(ytest, ypredicao, rotulos):\n",
    "    \n",
    "    from sklearn.metrics import confusion_matrix\n",
    "    \n",
    "    matriz = confusion_matrix(ytest, ypredicao, labels=rotulos)\n",
    "    \n",
    "    \n",
    "    return matriz             "
   ]
  },
  {
   "cell_type": "code",
   "execution_count": 21,
   "id": "3b7656df",
   "metadata": {},
   "outputs": [],
   "source": [
    "from minhasfuncoes import funcoes\n",
    "\n",
    "def ArvoreDecisao(nome_do_arquivo, delimitador=',', inicio_preenchimento=None, fim_preenchimento = None, lista_rotulacao = None):\n",
    "    \n",
    "    x, y = funcoes.carregar_Dataset(nome_do_arquivo, delimitador)\n",
    "    \n",
    "    if inicio_preenchimento != None and fim_preenchimento != None:\n",
    "        \n",
    "        x = funcoes.preencherDadosFaltantes(x, inicio_preenchimento, fim_preenchimento)\n",
    "    \n",
    "    if lista_rotulacao != None:\n",
    "        \n",
    "        for i in lista_rotulacao:\n",
    "            \n",
    "            x = funcoes.rotulacao(x, i)\n",
    "    \n",
    "    \n",
    "    xtrain, xtest, ytrain, ytest = funcoes.treino_teste(x, y, 0.2)\n",
    "    \n",
    "    xtrain_normalizado, escala = funcoes.normalizacao(xtrain)\n",
    "    \n",
    "    xtest_normalizado = escala.transform(xtest)\n",
    "    \n",
    "    classificador = computarModelo(xtrain_normalizado, ytrain)\n",
    "    \n",
    "    ypredicao = predicaoModelo(classificador, xtest_normalizado)\n",
    "    \n",
    "    rotulos = [0, 1]\n",
    "    \n",
    "    return matrizConfusao(ytest, ypredicao, rotulos)\n",
    "    "
   ]
  },
  {
   "cell_type": "markdown",
   "id": "ea3728e4",
   "metadata": {},
   "source": [
    "Visualizando os resultados da classificação"
   ]
  },
  {
   "cell_type": "code",
   "execution_count": 22,
   "id": "6708031e",
   "metadata": {},
   "outputs": [
    {
     "data": {
      "text/plain": [
       "array([[1, 0],\n",
       "       [0, 1]])"
      ]
     },
     "execution_count": 22,
     "metadata": {},
     "output_type": "execute_result"
    }
   ],
   "source": [
    "ArvoreDecisao(nome_do_arquivo='Dados/admission.csv', delimitador=';', lista_rotulacao=[0])"
   ]
  },
  {
   "cell_type": "markdown",
   "id": "332d3b78",
   "metadata": {},
   "source": [
    "Testando a eficiência do modelo"
   ]
  },
  {
   "cell_type": "code",
   "execution_count": 23,
   "id": "0d1cab10",
   "metadata": {},
   "outputs": [],
   "source": [
    "arvore = lambda: ArvoreDecisao(nome_do_arquivo='Dados/admission.csv', delimitador=';', lista_rotulacao=[0])\n"
   ]
  },
  {
   "cell_type": "code",
   "execution_count": 24,
   "id": "f1531602",
   "metadata": {},
   "outputs": [],
   "source": [
    "\n",
    "import numpy as np\n",
    "\n",
    "def testar_modelo_classificacao(funcao, tamanho_do_loop, descricao='Não há descrição'):\n",
    "    \n",
    "    from tqdm import tqdm\n",
    "\n",
    "    array_acuracias = []\n",
    "    \n",
    "    for i in tqdm(range(0, tamanho_do_loop), desc=descricao):\n",
    "        \n",
    "        modelo = funcao()\n",
    "        \n",
    "        array_acuracias.append(funcoes.acuracia(modelo))\n",
    "    \n",
    "    print(\"Média das acurácias do modelo de classificação: %.2f\"% np.mean(array_acuracias))\n",
    "    "
   ]
  },
  {
   "cell_type": "code",
   "execution_count": 25,
   "id": "3ce403f4",
   "metadata": {},
   "outputs": [
    {
     "name": "stderr",
     "output_type": "stream",
     "text": [
      "porcentagem de execução do teste de acurácia: 100%|██████████| 20/20 [00:00<00:00, 126.28it/s]"
     ]
    },
    {
     "name": "stdout",
     "output_type": "stream",
     "text": [
      "Média das acurácias do modelo de classificação: 0.95\n"
     ]
    },
    {
     "name": "stderr",
     "output_type": "stream",
     "text": [
      "\n"
     ]
    }
   ],
   "source": [
    "testar_modelo_classificacao(arvore, 20, 'porcentagem de execução do teste de acurácia')"
   ]
  }
 ],
 "metadata": {
  "kernelspec": {
   "display_name": "Python 3",
   "language": "python",
   "name": "python3"
  },
  "language_info": {
   "codemirror_mode": {
    "name": "ipython",
    "version": 3
   },
   "file_extension": ".py",
   "mimetype": "text/x-python",
   "name": "python",
   "nbconvert_exporter": "python",
   "pygments_lexer": "ipython3",
   "version": "3.12.10"
  }
 },
 "nbformat": 4,
 "nbformat_minor": 5
}
