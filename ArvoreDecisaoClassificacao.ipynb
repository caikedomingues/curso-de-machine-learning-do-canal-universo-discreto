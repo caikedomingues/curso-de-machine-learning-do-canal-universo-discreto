{
 "cells": [
  {
   "cell_type": "markdown",
   "id": "0e9e7e9f",
   "metadata": {},
   "source": [
    "                    Arvore de decisão de classificação\n",
    "\n",
    "-> A árvore de decisão de classificação é um dos modelos de aprendizado de máquina\n",
    "mais intuitivos e fáceis de entender, por que a sua lógica é muito parecida com a\n",
    "forma como nós humanos, tomamos decisões.\n",
    "\n",
    "-> Imagine que você esta tentando decidir se deve ou não levar um guarda-chuva\n",
    "ao sair de casa. Você faria uma série de perguntas, em uma sequência lógica,\n",
    "para chegar a uma conclusão. Por exemplo:\n",
    "\n",
    "-> Primeira Pergunta: \"Esta chovendo agora?\"\n",
    "\n",
    "    -> se sim: Leve o guarda-chuva.\n",
    "\n",
    "    -> se não: Faça a próxima pergunta.\n",
    "\n",
    "-> Segunda Pergunta: \"O céu está nublado?\"\n",
    "\n",
    "    -> se sim: Leve o guarda-chuva\n",
    "    \n",
    "    -> se não: Faça a próxima pergunta\n",
    "\n",
    "-> Terceira Pergunta: \"A previsão do tempo diz que vai chover?\"\n",
    "\n",
    "    -> se sim: Leve o guarda-chuva\n",
    "\n",
    "    -> se não: Não leve o guarda-chuva\n",
    "\n",
    "-> A árvore de decisão funciona exatamente assim. Ela cria uma estrutura em forma\n",
    "de árvore com \"nós\" que representam perguntas sobre as caracteristicas dos seus\n",
    "dados. A partir da primeira pergunta (chamada de nó raiz), a árvore se ramifica\n",
    "em diferentes caminhos, levando a novas perguntas até chegar a uma resposta final,\n",
    "que é a sua classificação."
   ]
  },
  {
   "cell_type": "markdown",
   "id": "499625a7",
   "metadata": {},
   "source": [
    "                Principais Componentes da Arvore de Decisão\n",
    "\n",
    "-> Nó Raiz: É a primeira e principal pergunta da árvore.\n",
    "\n",
    "-> Nós Internos: São as perguntas subsequentes que dividem os dados.\n",
    "\n",
    "-> Folhas (Nós de Saida): São as respostas finais ou classificações"
   ]
  },
  {
   "cell_type": "markdown",
   "id": "2f928eda",
   "metadata": {},
   "source": [
    "Função que irá construir o modelo de arvores de decisão"
   ]
  },
  {
   "cell_type": "code",
   "execution_count": 1,
   "id": "3ec14879",
   "metadata": {},
   "outputs": [],
   "source": [
    "# A função irá receber como argumentos os dados de treino de x e y\n",
    "def computarModelo(xtrain, ytrain):\n",
    "    \n",
    "    # Import da classe DecisionTreeClassifier da biblioteca tree do módulo\n",
    "    # sklearn que tem como objetivo construir arvores de decisão de classifica-\n",
    "    # ção.\n",
    "    from sklearn.tree import DecisionTreeClassifier\n",
    "    \n",
    "    # Instância da classe DecisionTreeClassifier. O construtor da classe\n",
    "    # irá receber como argumento o criterion que tem como objetivo definir\n",
    "    # a métrica que a árvore de decisão usará para medir a qualidade de \n",
    "    # uma divisão dos dados. O objetico da árvore é encontrar a melhor forma \n",
    "    # de dividir os dados em cada nó para torna-los o mais \"puros\" possivel,\n",
    "    # ou seja, para que cada nó contenha amostras de apenas uma classe.\n",
    "    \n",
    "    # entropy: é uma medida de impureza ou desordem. Um nó com baixa entropia\n",
    "    # é puro e homogêneo (contém amostras de apenas uma classe). A árvore de\n",
    "    # decisão usa o critério de entropia para encontrar a divisão que resulta\n",
    "    # na maior redução de entropia. Em outras palavras, ela busca a divisão que \n",
    "    # mais organiza dados.\n",
    "    classificador = DecisionTreeClassifier(criterion='entropy')\n",
    "    \n",
    "    # Ira treinar o modelo com o objetivo de ensina-lo a encontrar padrões\n",
    "    # e tendências usando os dados de treino\n",
    "    classificador.fit(xtrain, ytrain)\n",
    "    \n",
    "    # Retorno do modelo construido e treinado.\n",
    "    return classificador\n",
    "    \n",
    "    "
   ]
  },
  {
   "cell_type": "markdown",
   "id": "784b77b9",
   "metadata": {},
   "source": [
    "Construindo a predição do modelo"
   ]
  },
  {
   "cell_type": "code",
   "execution_count": null,
   "id": "fe3582da",
   "metadata": {},
   "outputs": [],
   "source": [
    "# Função que irá conter a classificação do modelo. A função irá receber\n",
    "# como argumento:\n",
    "# classificador: Modelo treinado para classificação\n",
    "# xtest: Dados que serão utilizados na classificação do modelo\n",
    "def predicaoModelo(classificador, xtest):\n",
    "    \n",
    "    # Retorno da predição do modelo usando a função predict que utiliza\n",
    "    # como argumento os dados de xtest\n",
    "    return classificador.predict(xtest)"
   ]
  },
  {
   "cell_type": "markdown",
   "id": "72cae5c2",
   "metadata": {},
   "source": [
    "Construindo a matriz confusão "
   ]
  },
  {
   "cell_type": "code",
   "execution_count": null,
   "id": "225e34ad",
   "metadata": {},
   "outputs": [],
   "source": [
    "# Função que irá construir a matriz da confusão que mostra a quantidade \n",
    "# de erros e acertos do modelo de classificação. A função irá receber como\n",
    "# argumento:\n",
    "# ytest: Dados reais da classificação\n",
    "# ypredição: Classificação do modelo\n",
    "# rotulos: Ira conter os rotulos dos dados que serão classificados\n",
    "def matrizConfusao(ytest, ypredicao, rotulos):\n",
    "    \n",
    "    # Import da classe confusion_matrix da biblioteca metrics do módulo \n",
    "    # sklearn\n",
    "    from sklearn.metrics import confusion_matrix\n",
    "    \n",
    "    # Instância da classe (criação do objeto). O construtor da classe irá\n",
    "    # receber como argumento: ytest, ypredição e rotulos.\n",
    "    # Observação: Como a maioria dos nossos dados da coluna alvo\n",
    "    # são classificados como 1, precisamos passar os rotulos dos\n",
    "    # dados para que ele identifique as minorias (no nosso o caso\n",
    "    # os valores classificados como 0)\n",
    "    matriz = confusion_matrix(ytest, ypredicao, labels=rotulos)\n",
    "    \n",
    "    # Retorno da matriz com os acertos e erros da classificação.\n",
    "    return matriz             "
   ]
  },
  {
   "cell_type": "markdown",
   "id": "749aba54",
   "metadata": {},
   "source": [
    "Aplicando o modelo de classificação nos dados."
   ]
  },
  {
   "cell_type": "code",
   "execution_count": null,
   "id": "3b7656df",
   "metadata": {},
   "outputs": [],
   "source": [
    "# Import do nosso arquivo de funções\n",
    "from minhasfuncoes import funcoes\n",
    "\n",
    "# Construção da função que irá aplicar o modelo nos dados. A função irá receber\n",
    "# como argumento:\n",
    "\n",
    "# nome_do_arquivo: Irá conter o local que o arquivo utilizado está armazenado\n",
    "\n",
    "# delimitador: Irá representar o sinal que separa os dados no arquivo. O \n",
    "# argumento irá conter como valor padrão a ',' que é o sinal padrão de \n",
    "# arquivos csv.\n",
    "\n",
    "# inicio_preenchimento: Ira conter o indice da primeira coluna que será\n",
    "# preenchida no intervalo. Como nem sempre precisaremos atribuir um valor\n",
    "# a esse argumento, vamos definir o None como valor padrão.\n",
    "\n",
    "# fim_preenchimento: Ira conter o indice da ultima coluna que será\n",
    "# preenchida no intervalo. Como nem sempre precisaremos atribuir um valor\n",
    "# a esse argumento, vamos definir o None como valor padrão.\n",
    "\n",
    "# lista_rotulacao: Irá conter uma lista com os indices das colunas categóricas\n",
    "# que deverão ser rotuladas numericamente com o objetivo de possibilitar que\n",
    "# o modelo interprete essas colunas em sua classificação. Como há arquivos\n",
    "# que não possuem valores categóricos, vamos definir como valor padrão do\n",
    "# argumento o None.\n",
    "def ArvoreDecisao(nome_do_arquivo, delimitador=',', inicio_preenchimento=None, fim_preenchimento = None, lista_rotulacao = None):\n",
    "   \n",
    "   # Trecho que irá carregar dataset na memória ram: Como no arquivo de\n",
    "   # funções nós dividimos os dados em x (caracteristicas) e y (variável alvo)\n",
    "   # usando a função values do pandas (que tem como objetivo transformar os\n",
    "   # dados em um array numpy), precisamos atribuir os valores da função \n",
    "   # carregar dataset em 2 variáveis:\n",
    "   \n",
    "   # x: Irá conter as caracteristicas.\n",
    "   \n",
    "   # y: Ira conter a variável alvo.\n",
    "   \n",
    "   # carregar_Dataset: Função que irá carregar o dataset. A função irá \n",
    "   # receber como argumento o nome do arquivo e o seu delimitador.\n",
    "    x, y = funcoes.carregar_Dataset(nome_do_arquivo, delimitador)\n",
    "    \n",
    "    # Nessa etapa iremos fazer verificações que irão definir se \n",
    "    # devemos ou não passar valores para os argumentos opcionais.\n",
    "    \n",
    "    # Ira verificar se os argumentos inicio_preenchimento e fim_preenchimento\n",
    "    # são diferentes de None\n",
    "    if inicio_preenchimento != None and fim_preenchimento != None:\n",
    "        \n",
    "        # Se a condição for verdadeira, vamos chamar a função que usa\n",
    "        # a classe simple imputer para preencher dados faltantes nas\n",
    "        # colunas. A função irá receber como argumento o x (conjunto\n",
    "        # que será preenchido), o inicio_preenchimento (inicio do\n",
    "        # intervalo) e o fim_preenchimento (final do intervalo). \n",
    "        x = funcoes.preencherDadosFaltantes(x, inicio_preenchimento, fim_preenchimento)\n",
    "    \n",
    "    # Ira verificar se a lista_rotulacao possui um valor diferente de \n",
    "    # None\n",
    "    if lista_rotulacao != None:\n",
    "        \n",
    "        # Se a condição for verdadeira, vamos percorrer a lista de\n",
    "        # indices que serão rotulados com o objetivo de aplicar a\n",
    "        # função rotulacao.\n",
    "        for i in lista_rotulacao:\n",
    "            \n",
    "            # Chamada da função rotulacao que será aplicada em todas as\n",
    "            # colunas. A função irá receber como argumento o x (conjunto categórico que será rotulado) e o i (indice da coluna que será rotulada).        \n",
    "            x = funcoes.rotulacao(x, i)\n",
    "    \n",
    "    # Trecho que irá separar os dados em treino e teste\n",
    "    \n",
    "    # xtrain: Ira conter o conjunto de treino de x que irá \n",
    "    # ensinar o modelo a identificar padrões e tendências. \n",
    "    \n",
    "    # xtest: Dados que o modelo irá utilizar para classificar os dados\n",
    "    \n",
    "    # ytrain: Conjunto de treino de y que irá ensinar o modelo como ele deve\n",
    "    # classificar os dados.\n",
    "    \n",
    "    # ytest: Dados reais que serão comparados com a predição do modelo.\n",
    "    \n",
    "    # treino_teste: Função que irá separar os dados. A função irá \n",
    "    # receber como argumento:\n",
    "    \n",
    "    # x: Caracteristicas\n",
    "    \n",
    "    # y: variável alvo\n",
    "    \n",
    "    # 0.2: tamanho do conjunto de teste (20% para testes e 80% treino).\n",
    "    xtrain, xtest, ytrain, ytest = funcoes.treino_teste(x, y, 0.2)\n",
    "    \n",
    "    xtrain_normalizado, escala = funcoes.normalizacao(xtrain)\n",
    "    \n",
    "    xtest_normalizado = escala.transform(xtest)\n",
    "    \n",
    "    # Ira conter o modelo treinado com os dados de x treino normalizados\n",
    "    # e ytrain\n",
    "    classificador = computarModelo(xtrain_normalizado, ytrain)\n",
    "    \n",
    "    # Ira conter a predição usando o modelo treinado e os dados de\n",
    "    # xtest normalizado.\n",
    "    ypredicao = predicaoModelo(classificador, xtest_normalizado)\n",
    "    \n",
    "    # Ira conter os rotulos dos dados da coluna alvo\n",
    "    rotulos = [0,1]\n",
    "    \n",
    "    # Retorno da matriz de confusão usando os dados reais, a classificação\n",
    "    # modelo e os rotulos dos dados da coluna alvo\n",
    "    return matrizConfusao(ytest, ypredicao, rotulos)\n",
    "    "
   ]
  },
  {
   "cell_type": "markdown",
   "id": "ea3728e4",
   "metadata": {},
   "source": [
    "Visualizando os resultados da classificação"
   ]
  },
  {
   "cell_type": "code",
   "execution_count": 5,
   "id": "6708031e",
   "metadata": {},
   "outputs": [
    {
     "data": {
      "text/plain": [
       "array([[2, 0],\n",
       "       [0, 0]])"
      ]
     },
     "execution_count": 5,
     "metadata": {},
     "output_type": "execute_result"
    }
   ],
   "source": [
    "ArvoreDecisao(nome_do_arquivo='Dados/admission.csv', delimitador=';', lista_rotulacao=[0])"
   ]
  },
  {
   "cell_type": "markdown",
   "id": "48e03923",
   "metadata": {},
   "source": [
    "                    Interpretação dos resultados da classificação\n",
    "\n",
    "-> 2: Quantidade de pessoas que o modelo classificou corretamente como \n",
    "não aprovados\n",
    "\n",
    "-> 0: Quantidade de pessoas que o modelo classificou incorretamente como\n",
    "aprovados\n",
    "\n",
    "-> 0: Quantidade de pessoas que o modelo classificou incorretamente como\n",
    "não aprovados\n",
    "\n",
    "-> 0: Quantidade de pessoas que o modelo classificou corretamente como\n",
    "aprovados\n",
    "    "
   ]
  },
  {
   "cell_type": "markdown",
   "id": "332d3b78",
   "metadata": {},
   "source": [
    "Testando a eficiência do modelo"
   ]
  },
  {
   "cell_type": "code",
   "execution_count": null,
   "id": "0d1cab10",
   "metadata": {},
   "outputs": [],
   "source": [
    "# Como precisamos passar a função como argumento do teste de eficiência\n",
    "# precisamos usar o lambda para connseguir passarmos junto com a função\n",
    "# os argumentos que constrói o modelo. \n",
    "arvore = lambda: ArvoreDecisao(nome_do_arquivo='Dados/admission.csv', delimitador=';', lista_rotulacao=[0])\n"
   ]
  },
  {
   "cell_type": "markdown",
   "id": "9653b6b1",
   "metadata": {},
   "source": [
    "Resultado da acurácia do modelo"
   ]
  },
  {
   "cell_type": "code",
   "execution_count": 7,
   "id": "f1531602",
   "metadata": {},
   "outputs": [
    {
     "name": "stderr",
     "output_type": "stream",
     "text": [
      "porcentagem de execução do teste de acurácia: 100%|██████████| 20/20 [00:00<00:00, 112.08it/s]"
     ]
    },
    {
     "name": "stdout",
     "output_type": "stream",
     "text": [
      "Média das acurácias do modelo de classificação: 0.85\n"
     ]
    },
    {
     "name": "stderr",
     "output_type": "stream",
     "text": [
      "\n"
     ]
    }
   ],
   "source": [
    "funcoes.testar_modelo_classificacao(arvore, 20, 'porcentagem de execução do teste de acurácia')"
   ]
  }
 ],
 "metadata": {
  "kernelspec": {
   "display_name": "Python 3",
   "language": "python",
   "name": "python3"
  },
  "language_info": {
   "codemirror_mode": {
    "name": "ipython",
    "version": 3
   },
   "file_extension": ".py",
   "mimetype": "text/x-python",
   "name": "python",
   "nbconvert_exporter": "python",
   "pygments_lexer": "ipython3",
   "version": "3.12.10"
  }
 },
 "nbformat": 4,
 "nbformat_minor": 5
}
