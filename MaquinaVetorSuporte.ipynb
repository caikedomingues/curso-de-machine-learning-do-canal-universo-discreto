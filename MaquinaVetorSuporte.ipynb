{
 "cells": [
  {
   "cell_type": "markdown",
   "id": "5b372887",
   "metadata": {},
   "source": [
    "                                Máquina de vetor Suporte\n",
    "-> A máquina de vetor suporte (svm) é um modelo de machine learning que pode\n",
    "ser usado tanto para classificação quanto para regressão. No contexto de\n",
    "classificação, a svm busca encontrar a melhor maneira de separar os dados\n",
    "em diferentes classes.\n",
    "\n",
    "-> Ideia Principal: Imagine que você tem um conjunto de dados com 2 tipos\n",
    "de pontos (por exemplo, \"maçãs\" e \"laranjas\") espelhados em um gráfico.\n",
    "A svm tenta encontrar uma linha (ou um \"hiperplano\", em dimensões superiores)\n",
    "que não só separe as duas classes, mas que faça isso da forma mais otimizada\n",
    "possivel.\n",
    "\n",
    "-> O grande diferencial da SVM é que ela não se contenta em encontrar\n",
    "qualquer linha de separação; ela busca a linha que tenha a maior margem\n",
    "de segurança possivel entre as classes.\n",
    "\n",
    "-> margem: É a distância entre o hiperplano (a linha de separação) e\n",
    "os pontos de dados mais próximos de cada classe.\n",
    "\n",
    "-> Vetor de Suporte: São esses pontos de dados mais próximos a linha de\n",
    "separação. Eles são os \"vetores de suporte\" do modelo, pois são os únicos\n",
    "pontos que realmente importam para definir a margem e o hiperplano. O restante dos pontos pode ser ignorado."
   ]
  },
  {
   "cell_type": "markdown",
   "id": "5baa4185",
   "metadata": {},
   "source": [
    "primeiro, vamos criar a função que irá realizar a predição do modelo"
   ]
  },
  {
   "cell_type": "code",
   "execution_count": null,
   "id": "0522ada5",
   "metadata": {},
   "outputs": [],
   "source": [
    "# Função que irá retornar a predição do modelo. A função retorna\n",
    "# como argumento:\n",
    "# classificador: Irá conter o modelo treinado.\n",
    "# xtest: Irá conter os dados necessários para realizar\n",
    "# a predição.\n",
    "def predicaoModelo(classificador, xtest):\n",
    "    \n",
    "    # Retorno da predição do modelo usando os dados do\n",
    "    # xtest como argumento da função predict. \n",
    "    return classificador.predict(xtest[0])"
   ]
  },
  {
   "cell_type": "markdown",
   "id": "45a98dd3",
   "metadata": {},
   "source": [
    "Função que irá criar a matriz de confusão que tem como objetivo mostrar a quantidade de erros e acertos do modelo"
   ]
  },
  {
   "cell_type": "code",
   "execution_count": null,
   "id": "4f1552cc",
   "metadata": {},
   "outputs": [],
   "source": [
    "# Função que irá construir a matriz de confusão. A função irá receber como\n",
    "# argumento:\n",
    "# classificador: Contém o modelo treinado\n",
    "# ytest: Ira conter os dados reais que serão comparados com a\n",
    "# predição do modelo.\n",
    "# ypredicao: Ira conter as classificações do modelo.\n",
    "def matriz_confusao(classificador, ytest, ypredicao):\n",
    "    \n",
    "    # Import da classe confusion_matrix da biblioteca metrics do\n",
    "    # módulo sklearn que tem como objetivo criar matrizes de confusão.\n",
    "    from sklearn.metrics import confusion_matrix\n",
    "    \n",
    "    # Instância da classe de matriz de confusão. Ela irá receber\n",
    "    # no seu construtor os dados reais (ytest) e a predição do \n",
    "    # modelo (ypredicao)\n",
    "    matriz = confusion_matrix(ytest, ypredicao)\n",
    "    \n",
    "    # Retorno da matriz de confusão construida    \n",
    "    return matriz"
   ]
  },
  {
   "cell_type": "markdown",
   "id": "1b09a5df",
   "metadata": {},
   "source": [
    "Função que irá construir o modelo de máquina vetor de suporte"
   ]
  },
  {
   "cell_type": "code",
   "execution_count": null,
   "id": "babd404a",
   "metadata": {},
   "outputs": [],
   "source": [
    "# Função que irá construir o modelo. A função recebe como argumento:\n",
    "# xtrain: Dados de treino do conjunto x (caracteristicas)\n",
    "# ytrain: Dados de treino do conjunto y (variável alvo)\n",
    "# kernel: Algoritmo que o modelo usará para classificar os dados.\n",
    "def computarSVC(xtrain, ytrain, kernel):\n",
    "\n",
    "    # Import da classe SVC da biblioteca svm do módulo sklearn\n",
    "    # que tem como objetivo criar o modelo de máquina de vetor\n",
    "    # suporte para classificação.\n",
    "    from sklearn.svm import SVC\n",
    "    \n",
    "    # Instância da classe de máquina de vetor suporte. O construtor\n",
    "    # da classe irá receber como argumento o kernel que será utilizado\n",
    "    # pelo modelo.\n",
    "    classificador = SVC(kernel=kernel)\n",
    "    \n",
    "    # Treinamento do modelo usando os dados de treino com o objetivo\n",
    "    # de identificar padrões e tendências.\n",
    "    classificador.fit(xtrain[0], ytrain)\n",
    "    \n",
    "    # Retorno do modelo treinado\n",
    "    return classificador\n",
    "    "
   ]
  },
  {
   "cell_type": "markdown",
   "id": "de857703",
   "metadata": {},
   "source": [
    "Função que irá acessar os datasets e utilizar a função que constrói o\n",
    "modelo de máquina de vetor suporte"
   ]
  },
  {
   "cell_type": "code",
   "execution_count": null,
   "id": "dc72cb0d",
   "metadata": {},
   "outputs": [],
   "source": [
    "# Import do nosso arquivo de funções\n",
    "from minhasfuncoes import funcoes\n",
    "\n",
    "# Criação da função que irá acessar os datasets e aplicar o modelo de\n",
    "# classificação. A função recebe como argumento:\n",
    "# nome_do_arquivo: Local que a base de dados está armazenada.\n",
    "\n",
    "# delimitador: Sinal que separa os dados no arquivo csv. Ele terá como\n",
    "# valor padrão a ',' que é o sinal padrão de arquivos csv.\n",
    "\n",
    "# inicio_coluna_preenchimento: Indice da coluna inicial que terá os seus\n",
    "# dados faltantes preenchidos. O argumento irá receber como valor padrão\n",
    "# o None, dessa maneira não precisaremos atribuir um valor ao parametro\n",
    "# caso o dataset não possua valores faltantes.\n",
    "\n",
    "# fim_coluna_preenchimento: Indice da coluba final que terá os seus dados\n",
    "# faltantes preenchidos. O argumento irá receber como valor padrão o None\n",
    "# dessa maneira não precisaremos atribuir um valor ao parametro caso o\n",
    "# dataset não possua valores faltantes.\n",
    "\n",
    "# lista_rotulacao: ira conter a lista de indices das colunas categóricas\n",
    "# que devem ser numericamente rotuladas. O argumento recebe como valor \n",
    "# padrão o None, dessa maneira, não precisaremos atribuir um valor ao\n",
    "# parametro caso o dataset não possua colunas categóricas\n",
    "def SVC(nome_do_arquivo, delimitador = ',', inicio_coluna_preenchimento = None, fim_coluna_preenchimento = None, lista_rotulacao = None):\n",
    "    \n",
    "    \n",
    "    x, y = funcoes.carregar_Dataset(nome_do_arquivo, delimitador)\n",
    "    \n",
    "    \n",
    "    if inicio_coluna_preenchimento and fim_coluna_preenchimento != None:\n",
    "        \n",
    "        x = funcoes.preencherDadosFaltantes(x, inicio_coluna_preenchimento, fim_coluna_preenchimento)\n",
    "    \n",
    "    if lista_rotulacao != None:\n",
    "        \n",
    "        for i in lista_rotulacao:\n",
    "            \n",
    "            x = funcoes.rotulacao(x, i)\n",
    "    \n",
    "    xtrain, xtest, ytrain, ytest = funcoes.treino_teste(x, y, 0.2)\n",
    "    \n",
    "    \n",
    "    xtrain = funcoes.normalizacao(xtrain)\n",
    "    \n",
    "    xtest = funcoes.normalizacao(xtest)\n",
    "    \n",
    "    classificador = computarSVC(xtrain, ytrain, 'linear')\n",
    "    \n",
    "    ypredicao = predicaoModelo(classificador, xtest)\n",
    "    \n",
    "    return matriz_confusao(classificador, ytest, ypredicao)\n",
    "    \n",
    "\n",
    "    \n",
    "    \n",
    "    "
   ]
  },
  {
   "cell_type": "markdown",
   "id": "75742370",
   "metadata": {},
   "source": [
    "Aplicando a função no dataset titanic"
   ]
  },
  {
   "cell_type": "code",
   "execution_count": 30,
   "id": "16f38f15",
   "metadata": {},
   "outputs": [
    {
     "name": "stdout",
     "output_type": "stream",
     "text": [
      "[[89 18]\n",
      " [23 49]]\n"
     ]
    }
   ],
   "source": [
    "matriz_titanic = SVC(nome_do_arquivo='Dados/titanic.csv', inicio_coluna_preenchimento=2, fim_coluna_preenchimento=2, lista_rotulacao=[1,0])\n",
    "\n",
    "print(matriz_titanic)"
   ]
  },
  {
   "cell_type": "markdown",
   "id": "1b73b13e",
   "metadata": {},
   "source": [
    "Aplicando a função no dataset pc"
   ]
  },
  {
   "cell_type": "code",
   "execution_count": 31,
   "id": "f2fa426e",
   "metadata": {},
   "outputs": [
    {
     "name": "stdout",
     "output_type": "stream",
     "text": [
      "[[15  2]\n",
      " [ 1  2]]\n"
     ]
    }
   ],
   "source": [
    "matriz_pc = SVC(nome_do_arquivo='Dados/pc.csv')\n",
    "\n",
    "print(matriz_pc)"
   ]
  },
  {
   "cell_type": "markdown",
   "id": "161282d5",
   "metadata": {},
   "source": [
    "Vamos agora comparar o modelo de maquina de vetor com o knn usando o arquivo pc"
   ]
  },
  {
   "cell_type": "markdown",
   "id": "c1570cc0",
   "metadata": {},
   "source": [
    "Primeiro vamos importar os arquivos jupyter que convertemos para py (o arquivo que contém os modelos knn e regressão logistica)"
   ]
  },
  {
   "cell_type": "markdown",
   "id": "9b17fdae",
   "metadata": {},
   "source": [
    "                                                            Passo a Passo para conversão de arquivos\n",
    "-> 1.Copie os arquivos que serão convertidos e cole-os em uma pasta\n",
    "\n",
    "-> 2.Acesse via terminal a pasta que contém as cópias dos notebooks\n",
    "\n",
    "-> 3.Utilize o comando \"jupyter nbconvert --to script nome do arquivo.ipynb\" para converter os\n",
    "arquivos para o formato .py "
   ]
  },
  {
   "cell_type": "code",
   "execution_count": 32,
   "id": "2d8d2101",
   "metadata": {},
   "outputs": [],
   "source": [
    "from arquivospy import knn as knn\n",
    "\n",
    "from arquivospy import Regressaologistica as rl"
   ]
  },
  {
   "cell_type": "markdown",
   "id": "803cf8ba",
   "metadata": {},
   "source": [
    "Realizando as classficações usando os modelos que serão comparados"
   ]
  },
  {
   "cell_type": "code",
   "execution_count": 33,
   "id": "518849d5",
   "metadata": {},
   "outputs": [
    {
     "name": "stdout",
     "output_type": "stream",
     "text": [
      "[[16  0]\n",
      " [ 4  0]]\n"
     ]
    }
   ],
   "source": [
    "modelo_knn = knn.knn('Dados/pc.csv')\n",
    "\n",
    "print(modelo_knn)"
   ]
  },
  {
   "cell_type": "code",
   "execution_count": 34,
   "id": "a425ae7a",
   "metadata": {},
   "outputs": [
    {
     "name": "stdout",
     "output_type": "stream",
     "text": [
      "[[16  1]\n",
      " [ 1  2]]\n"
     ]
    }
   ],
   "source": [
    "modelo_maquina_vetor_suporte = SVC(nome_do_arquivo='Dados/pc.csv')\n",
    "\n",
    "print(modelo_maquina_vetor_suporte)"
   ]
  },
  {
   "cell_type": "code",
   "execution_count": 35,
   "id": "2b9de0f4",
   "metadata": {},
   "outputs": [
    {
     "name": "stdout",
     "output_type": "stream",
     "text": [
      "[[16  0]\n",
      " [ 4  0]]\n"
     ]
    }
   ],
   "source": [
    "modelo_regressao_logistica = rl.computarRegressaoLogistica('Dados/pc.csv')\n",
    "\n",
    "print(modelo_regressao_logistica)"
   ]
  },
  {
   "cell_type": "markdown",
   "id": "d75ca8ad",
   "metadata": {},
   "source": [
    "Agora vamos realizar a comparação de acurácias desses modelos. Para garantirmos a eficiência do teste de \n",
    "comparação, devemos repetir o processo de execução dos modelos várias vezes"
   ]
  },
  {
   "cell_type": "code",
   "execution_count": 36,
   "id": "6140ae98",
   "metadata": {},
   "outputs": [
    {
     "name": "stdout",
     "output_type": "stream",
     "text": [
      "Média das acurácias do modelo knn: 0.80 \n",
      "Média das acurácias do modelo de máquina de vetor suporte: 0.90 \n",
      "Média das acurácias do modelo de regressão logistica: 0.80 \n"
     ]
    }
   ],
   "source": [
    "import numpy as np\n",
    "\n",
    "array_knn = []\n",
    "\n",
    "for i in range(0, 100):\n",
    "        \n",
    "        classificacao_knn = modelo_knn\n",
    "        \n",
    "        array_knn.append(funcoes.acuracia(modelo_knn))\n",
    "\n",
    "print(\"Média das acurácias do modelo knn: %.2f \"% np.mean(array_knn))\n",
    "\n",
    "\n",
    "array_maquina_vetor_suporte = []\n",
    "\n",
    "for i in range(0, 100):\n",
    "    \n",
    "    classificacao_maquina_vetor_suporte = modelo_maquina_vetor_suporte\n",
    "    \n",
    "    array_maquina_vetor_suporte.append(funcoes.acuracia(classificacao_maquina_vetor_suporte))\n",
    "    \n",
    "\n",
    "print(\"Média das acurácias do modelo de máquina de vetor suporte: %.2f \"% np.mean(array_maquina_vetor_suporte))\n",
    "        \n",
    "\n",
    "array_regressao_logistica = []\n",
    "\n",
    "for i in range(0, 100):\n",
    "    \n",
    "    classificacao_regressao_logistica = modelo_regressao_logistica\n",
    "    \n",
    "    array_regressao_logistica.append(funcoes.acuracia(classificacao_regressao_logistica))\n",
    "    \n",
    "print(\"Média das acurácias do modelo de regressão logistica: %.2f \"% np.mean(array_regressao_logistica))\n",
    "\n",
    "        "
   ]
  }
 ],
 "metadata": {
  "kernelspec": {
   "display_name": "Python 3",
   "language": "python",
   "name": "python3"
  },
  "language_info": {
   "codemirror_mode": {
    "name": "ipython",
    "version": 3
   },
   "file_extension": ".py",
   "mimetype": "text/x-python",
   "name": "python",
   "nbconvert_exporter": "python",
   "pygments_lexer": "ipython3",
   "version": "3.12.10"
  }
 },
 "nbformat": 4,
 "nbformat_minor": 5
}
