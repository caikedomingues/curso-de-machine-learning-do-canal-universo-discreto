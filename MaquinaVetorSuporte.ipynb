{
 "cells": [
  {
   "cell_type": "markdown",
   "id": "5b372887",
   "metadata": {},
   "source": [
    "                                Máquina de vetor Suporte\n",
    "-> A máquina de vetor suporte (svm) é um modelo de machine learning que pode\n",
    "ser usado tanto para classificação quanto para regressão. No contexto de\n",
    "classificação, a svm busca encontrar a melhor maneira de separar os dados\n",
    "em diferentes classes.\n",
    "\n",
    "-> Ideia Principal: Imagine que você tem um conjunto de dados com 2 tipos\n",
    "de pontos (por exemplo, \"maçãs\" e \"laranjas\") espelhados em um gráfico.\n",
    "A svm tenta encontrar uma linha (ou um \"hiperplano\", em dimensões superiores)\n",
    "que não só separe as duas classes, mas que faça isso da forma mais otimizada\n",
    "possivel.\n",
    "\n",
    "-> O grande diferencial da SVM é que ela não se contenta em encontrar\n",
    "qualquer linha de separação; ela busca a linha que tenha a maior margem\n",
    "de segurança possivel entre as classes.\n",
    "\n",
    "-> margem: É a distância entre o hiperplano (a linha de separação) e\n",
    "os pontos de dados mais próximos de cada classe.\n",
    "\n",
    "-> Vetor de Suporte: São esses pontos de dados mais próximos a linha de\n",
    "separação. Eles são os \"vetores de suporte\" do modelo, pois são os únicos\n",
    "pontos que realmente importam para definir a margem e o hiperplano. O restante dos pontos pode ser ignorado."
   ]
  },
  {
   "cell_type": "markdown",
   "id": "5baa4185",
   "metadata": {},
   "source": [
    "primeiro, vamos criar a função que irá realizar a predição do modelo"
   ]
  },
  {
   "cell_type": "code",
   "execution_count": 18,
   "id": "0522ada5",
   "metadata": {},
   "outputs": [],
   "source": [
    "# Função que irá retornar a predição do modelo. A função retorna\n",
    "# como argumento:\n",
    "# classificador: Irá conter o modelo treinado.\n",
    "# xtest: Irá conter os dados necessários para realizar\n",
    "# a predição.\n",
    "def predicaoModelo(classificador, xtest):\n",
    "    \n",
    "    # Retorno da predição do modelo usando os dados do\n",
    "    # xtest como argumento da função predict. \n",
    "    return classificador.predict(xtest[0])"
   ]
  },
  {
   "cell_type": "markdown",
   "id": "45a98dd3",
   "metadata": {},
   "source": [
    "Função que irá criar a matriz de confusão que tem como objetivo mostrar a quantidade de erros e acertos do modelo"
   ]
  },
  {
   "cell_type": "code",
   "execution_count": 19,
   "id": "4f1552cc",
   "metadata": {},
   "outputs": [],
   "source": [
    "# Função que irá construir a matriz de confusão. A função irá receber como\n",
    "# argumento:\n",
    "# ytest: Ira conter os dados reais que serão comparados com a\n",
    "# predição do modelo.\n",
    "# ypredicao: Ira conter as classificações do modelo.\n",
    "def matriz_confusao(ytest, ypredicao):\n",
    "    \n",
    "    # Import da classe confusion_matrix da biblioteca metrics do\n",
    "    # módulo sklearn que tem como objetivo criar matrizes de confusão.\n",
    "    from sklearn.metrics import confusion_matrix\n",
    "    \n",
    "    # Instância da classe de matriz de confusão. Ela irá receber\n",
    "    # no seu construtor os dados reais (ytest) e a predição do \n",
    "    # modelo (ypredicao)\n",
    "    matriz = confusion_matrix(ytest, ypredicao)\n",
    "    \n",
    "    # Retorno da matriz de confusão construida    \n",
    "    return matriz"
   ]
  },
  {
   "cell_type": "markdown",
   "id": "1b09a5df",
   "metadata": {},
   "source": [
    "Função que irá construir o modelo de máquina vetor de suporte"
   ]
  },
  {
   "cell_type": "code",
   "execution_count": 20,
   "id": "babd404a",
   "metadata": {},
   "outputs": [],
   "source": [
    "# Função que irá construir o modelo. A função recebe como argumento:\n",
    "# xtrain: Dados de treino do conjunto x (caracteristicas)\n",
    "# ytrain: Dados de treino do conjunto y (variável alvo)\n",
    "# kernel: Algoritmo que o modelo usará para classificar os dados.\n",
    "def computarSVC(xtrain, ytrain, kernel):\n",
    "\n",
    "    # Import da classe SVC da biblioteca svm do módulo sklearn\n",
    "    # que tem como objetivo criar o modelo de máquina de vetor\n",
    "    # suporte para classificação.\n",
    "    from sklearn.svm import SVC\n",
    "    \n",
    "    # Instância da classe de máquina de vetor suporte. O construtor\n",
    "    # da classe irá receber como argumento o kernel que será utilizado\n",
    "    # pelo modelo.\n",
    "    classificador = SVC(kernel=kernel)\n",
    "    \n",
    "    # Treinamento do modelo usando os dados de treino com o objetivo\n",
    "    # de identificar padrões e tendências.\n",
    "    classificador.fit(xtrain[0], ytrain)\n",
    "    \n",
    "    # Retorno do modelo treinado\n",
    "    return classificador\n",
    "    "
   ]
  },
  {
   "cell_type": "markdown",
   "id": "de857703",
   "metadata": {},
   "source": [
    "Função que irá acessar os datasets e utilizar a função que constrói o\n",
    "modelo de máquina de vetor suporte"
   ]
  },
  {
   "cell_type": "code",
   "execution_count": 21,
   "id": "dc72cb0d",
   "metadata": {},
   "outputs": [],
   "source": [
    "# Import do nosso arquivo de funções\n",
    "from minhasfuncoes import funcoes\n",
    "\n",
    "# Criação da função que irá acessar os datasets e aplicar o modelo de\n",
    "# classificação. A função recebe como argumento:\n",
    "# nome_do_arquivo: Local que a base de dados está armazenada.\n",
    "\n",
    "# delimitador: Sinal que separa os dados no arquivo csv. Ele terá como\n",
    "# valor padrão a ',' que é o sinal padrão de arquivos csv.\n",
    "\n",
    "# inicio_coluna_preenchimento: Indice da coluna inicial que terá os seus\n",
    "# dados faltantes preenchidos. O argumento irá receber como valor padrão\n",
    "# o None, dessa maneira não precisaremos atribuir um valor ao parametro\n",
    "# caso o dataset não possua valores faltantes.\n",
    "\n",
    "# fim_coluna_preenchimento: Indice da coluba final que terá os seus dados\n",
    "# faltantes preenchidos. O argumento irá receber como valor padrão o None\n",
    "# dessa maneira não precisaremos atribuir um valor ao parametro caso o\n",
    "# dataset não possua valores faltantes.\n",
    "\n",
    "# lista_rotulacao: ira conter a lista de indices das colunas categóricas\n",
    "# que devem ser numericamente rotuladas. O argumento recebe como valor \n",
    "# padrão o None, dessa maneira, não precisaremos atribuir um valor ao\n",
    "# parametro caso o dataset não possua colunas categóricas\n",
    "def SVC(nome_do_arquivo, delimitador = ',', inicio_coluna_preenchimento = None, fim_coluna_preenchimento = None, lista_rotulacao = None):\n",
    "    \n",
    "    # Trecho que irá carregar o dataset na memória: Como no arquivo\n",
    "    # de funções nós dividimos os dados em x (caracteristicas) e y\n",
    "    # (variável alvo) usando a função values do pandas (que trans\n",
    "    # formará os dados em um array numpy) será necessário atraibuir\n",
    "    # o valor da coluna carregar_dataset em duas variáveis.\n",
    "    \n",
    "    # x: Variáveis caracteristicas da base de dados.\n",
    "    # y: Variável alvo da base de dados. \n",
    "    # Carregar_dataset: Função que irá carregar o dataset na memória usando\n",
    "    # como argumento o nome do arquivo e o seu delimitador. \n",
    "    x, y = funcoes.carregar_Dataset(nome_do_arquivo, delimitador)\n",
    "    \n",
    "    # Nessa etapa iremos verificar se será necessário ou não utilizar os\n",
    "    # argumentos que preenchem dados faltantes ou rotulam colunas categó\n",
    "    # ricas.\n",
    "\n",
    "    # Primeiro, vamos verificar se os argumentos inicio_coluna_preenchimento\n",
    "    # e fim_coluna_preenchimento são diferentes do valor padrão None, ou\n",
    "    # seja, se o argumento possui algum valor.\n",
    "    if inicio_coluna_preenchimento and fim_coluna_preenchimento != None:\n",
    "        \n",
    "        # Se essa condição for verdadeira, vamos chamar a função que \n",
    "        # preenche os dados faltantes usando o simpleimputer com os\n",
    "        # seguintes argumentos:\n",
    "        # x: Conjunto de dados que serão preenchidos\n",
    "        # inicio_coluna_preenchimento: Coluna inicial do preenchimento\n",
    "        # fim_coluna_preenchimento: Coluna final do preenchimento\n",
    "        x = funcoes.preencherDadosFaltantes(x, inicio_coluna_preenchimento, fim_coluna_preenchimento)\n",
    "    \n",
    "    # Agora, iremos verificar se será necessário utilizar a função de\n",
    "    # rotulação com o argumento lista_rotulacao. Basicamente, iremos\n",
    "    # verificar se o valor do argumento é diferente do padrão definido\n",
    "    # (None), ou seja, se o argumento possui um valor definido na chamada\n",
    "    # do método\n",
    "    if lista_rotulacao != None:\n",
    "        \n",
    "        # Se essa condição for verdadeira, iremos percorrer o argumento\n",
    "        # lista_rotulacao que irá conter uma lista com os indices das\n",
    "        # variáveis categóricas que serão numericamente rotuladas\n",
    "        for i in lista_rotulacao:\n",
    "            \n",
    "            # Atribuição do método nos indices listados. \n",
    "            # x: Conjunto que será rotulado\n",
    "            # i: Indice da coluna que será rotulada.\n",
    "            x = funcoes.rotulacao(x, i)\n",
    "    \n",
    "    # Trecho que irá dividir os dados em treino e teste.\n",
    "    # xtrain: Irá conter o conjunto de treino das caracteristicas\n",
    "    # que irá ensinar o modelo a perceber padrões e tendências.\n",
    "    \n",
    "    # xtest: Irá conter o conjunto de caracteristicas que o modelo\n",
    "    # usará para realizar a predição/classificação.\n",
    "    \n",
    "    # Ytrain: Dados de treino de y (variável alvo) que ensinará como\n",
    "    # o modelo deve classificar os dados após a análise das caracter\n",
    "    # isticas\n",
    "    \n",
    "    # ytest: Dados reais que serão comparados com a predição do modelo.\n",
    "    \n",
    "    # treino_teste: Função do nosso arquivo de funções que irá separa\n",
    "    # os dados. A função ira receber como argumento:\n",
    "    # x: Caracteristicas que serão separadas em treino e teste\n",
    "    # y: Variável alvo que será separada em treino e teste.\n",
    "    # 0.2: Tamanho do conjunto de teste (20% para testes e 80% para\n",
    "    # treino).\n",
    "    xtrain, xtest, ytrain, ytest = funcoes.treino_teste(x, y, 0.2)\n",
    "    \n",
    "    # Função que irá normalizar os dados de treino e teste de x\n",
    "    # com o objetivo de criar escalas que padronizam os dados e\n",
    "    # evitam dados discrepantes criando uma média zero e um desvio\n",
    "    # padrão 1 \n",
    "    xtrain = funcoes.normalizacao(xtrain)\n",
    "    \n",
    "    xtest = funcoes.normalizacao(xtest)\n",
    "    \n",
    "    # Variável que irá conter a função computarSVC que tem como objetivo\n",
    "    # retornar o modelo treinado e pronto para realizar predições. A função\n",
    "    # irá conter como o argumento:\n",
    "    # xtrain: Dados de treino de x\n",
    "    # ytrain: Dados de treino de y\n",
    "    # linear: kernel (modelo) escolhido para realizar o cálculo\n",
    "    # que irá definir a classificação dos dados.\n",
    "    classificador = computarSVC(xtrain, ytrain, 'linear')\n",
    "    \n",
    "    # Variável que irá conter a predição do modelo. A função irá receber\n",
    "    # como argumento o classificador (modelo treinado que contém a função\n",
    "    # computarSVC) e os dados necessários para a predição (dados no\n",
    "    # conjunto de xtest).\n",
    "    ypredicao = predicaoModelo(classificador, xtest)\n",
    "    \n",
    "    # Retorno da matriz confusão que irá conter a quantidade de erros e acertos\n",
    "    # do sistema usando a predição do modelo e os dados reais.\n",
    "    return matriz_confusao(ytest, ypredicao)"
   ]
  },
  {
   "cell_type": "markdown",
   "id": "75742370",
   "metadata": {},
   "source": [
    "Aplicando a função no dataset titanic"
   ]
  },
  {
   "cell_type": "code",
   "execution_count": 22,
   "id": "16f38f15",
   "metadata": {},
   "outputs": [
    {
     "name": "stdout",
     "output_type": "stream",
     "text": [
      "[[91 20]\n",
      " [20 48]]\n"
     ]
    }
   ],
   "source": [
    "# Como o delimitador do arquivo é a virgula (delimitador padrão) não será\n",
    "# necessário especificar esse argumento na chamada do método\n",
    "matriz_titanic = SVC(nome_do_arquivo='Dados/titanic.csv', inicio_coluna_preenchimento=2, fim_coluna_preenchimento=2, lista_rotulacao=[1,0])\n",
    "\n",
    "print(matriz_titanic)"
   ]
  },
  {
   "cell_type": "markdown",
   "id": "20bb767c",
   "metadata": {},
   "source": [
    "        Interpretação dos resultados da matriz do arquivo titanic\n",
    "\n",
    "-> 91: Numero de pessoas que o modelo classificou corretamente como\n",
    "não sobreviventes\n",
    "\n",
    "-> 20: Numero de pessoas que o modelo classificou incorretamente como\n",
    "sobreviventes\n",
    "\n",
    "-> 20: Numero de pessoas que o modelo classificou incorretamente como\n",
    " não sobreviventes\n",
    "\n",
    " -> 48:  Numero de pessoas que o modelo classificou corretamente como \n",
    " sobreviventes"
   ]
  },
  {
   "cell_type": "markdown",
   "id": "1b73b13e",
   "metadata": {},
   "source": [
    "Aplicando a função no dataset admission"
   ]
  },
  {
   "cell_type": "code",
   "execution_count": 23,
   "id": "f2fa426e",
   "metadata": {},
   "outputs": [
    {
     "name": "stdout",
     "output_type": "stream",
     "text": [
      "[[1 0]\n",
      " [0 1]]\n"
     ]
    }
   ],
   "source": [
    "# Como no nosso caso não necessidade de preencher dados faltantes\n",
    "# vamos passar como argumento apenas o nome do arquivo, o delimitador\n",
    "# e a lista que contém os indices das colunas categóricas que serão\n",
    "# numericamente rotuladas\n",
    "matriz_pc = SVC(nome_do_arquivo='Dados/admission.csv', delimitador=';',lista_rotulacao=[0])\n",
    "\n",
    "print(matriz_pc)"
   ]
  },
  {
   "cell_type": "markdown",
   "id": "fc24b9bb",
   "metadata": {},
   "source": [
    "        Interpretação dos resultados da matriz do arquivo admission\n",
    "\n",
    "-> 0: Numero de pessoas que o modelo classificou corretamente como não\n",
    "aprovados\n",
    "\n",
    "-> 0: Numero de pessoas que o modelo classificou incorretamente como aprovados\n",
    "\n",
    "-> 1: Numero de pessoas que o modelo classificou incorretamente como não\n",
    "aprovado\n",
    "\n",
    "-> 1: Numero de pessoas que o modelo classificou corretamente como aprovado\n"
   ]
  },
  {
   "cell_type": "markdown",
   "id": "161282d5",
   "metadata": {},
   "source": [
    "Vamos agora comparar o modelo de maquina de vetor com o knn usando o arquivo admission"
   ]
  },
  {
   "cell_type": "markdown",
   "id": "c1570cc0",
   "metadata": {},
   "source": [
    "Primeiro vamos importar os arquivos jupyter que convertemos para py (arquivo que contém o modelo knn)"
   ]
  },
  {
   "cell_type": "markdown",
   "id": "9b17fdae",
   "metadata": {},
   "source": [
    "                                                            Passo a Passo para conversão de arquivos\n",
    "-> 1.Copie os arquivos que serão convertidos e cole-os em uma pasta\n",
    "\n",
    "-> 2.Acesse via terminal a pasta que contém as cópias dos notebooks\n",
    "\n",
    "-> 3.Utilize o comando \"jupyter nbconvert --to script nome do arquivo.ipynb\" para converter os\n",
    "arquivos para o formato .py "
   ]
  },
  {
   "cell_type": "code",
   "execution_count": null,
   "id": "2d8d2101",
   "metadata": {},
   "outputs": [],
   "source": [
    "# Import do arquivo que contém a função do modelo knn\n",
    "from arquivospy import knn as knn"
   ]
  },
  {
   "cell_type": "markdown",
   "id": "803cf8ba",
   "metadata": {},
   "source": [
    "Realizando as classficações usando os modelos que serão comparados"
   ]
  },
  {
   "cell_type": "code",
   "execution_count": 25,
   "id": "518849d5",
   "metadata": {},
   "outputs": [
    {
     "name": "stdout",
     "output_type": "stream",
     "text": [
      "[[0 0]\n",
      " [1 1]]\n"
     ]
    }
   ],
   "source": [
    "# Observação: Essa função já contém o trecho que rotula variáveis categóricas \n",
    "modelo_knn = knn.knn(nome_arquivo='Dados/admission.csv', delimitador=';')\n",
    "\n",
    "print(modelo_knn)"
   ]
  },
  {
   "cell_type": "code",
   "execution_count": 26,
   "id": "a425ae7a",
   "metadata": {},
   "outputs": [
    {
     "name": "stdout",
     "output_type": "stream",
     "text": [
      "[[1 0]\n",
      " [0 1]]\n"
     ]
    }
   ],
   "source": [
    "modelo_maquina_vetor_suporte = SVC(nome_do_arquivo='Dados/admission.csv', delimitador=';', lista_rotulacao=[0])\n",
    "\n",
    "print(modelo_maquina_vetor_suporte)"
   ]
  },
  {
   "cell_type": "markdown",
   "id": "d75ca8ad",
   "metadata": {},
   "source": [
    "Agora vamos realizar a comparação de acurácias desses modelos. Para garantirmos a eficiência do teste de \n",
    "comparação, devemos repetir o processo de execução dos modelos várias vezes"
   ]
  },
  {
   "cell_type": "code",
   "execution_count": 30,
   "id": "6140ae98",
   "metadata": {},
   "outputs": [
    {
     "name": "stdout",
     "output_type": "stream",
     "text": [
      "Média das acurácias do modelo knn: 0.45 \n",
      "Média das acurácias do modelo de máquina de vetor suporte: 0.76 \n"
     ]
    }
   ],
   "source": [
    "# Import da biblioteca numpy que possibilita realizar cálculos\n",
    "# matemáticos e manipular arrays. Vamos usar ela para calcular\n",
    "# a média das acurácias do modelo\n",
    "import numpy as np\n",
    "\n",
    "# Criação do array que irá conter os valores da acurácia do modelo knn\n",
    "array_knn = []\n",
    "\n",
    "# Loop que irá executar e coletar a acurácia do modelo knn 100 vezes\n",
    "for i in range(0, 100):\n",
    "        \n",
    "        # Ira executar o modelo knn 100 vezes\n",
    "        classificacao_knn = knn.knn('Dados/admission.csv', ';')\n",
    "        \n",
    "        # Ira adicionar os resultados da função acurácia (que \n",
    "        # recebe como argumento a variável classificação_knn\n",
    "        # que contém a predição do modelo) no array_knn.\n",
    "        array_knn.append(funcoes.acuracia(classificacao_knn))\n",
    "\n",
    "# Impressão da média das acurácias coletadas usando a função mean\n",
    "# do numpy que recebe como argumento o array_knn\n",
    "print(\"Média das acurácias do modelo knn: %.2f \"% np.mean(array_knn))\n",
    "\n",
    "\n",
    "# criação do array que ira conter as acurácias do modelo de maquina de vetor suporte.\n",
    "array_maquina_vetor_suporte = []\n",
    "\n",
    "# Loop que irá executar e coletar a acurácia do modelo de vetor\n",
    "# suporte 100 vezes\n",
    "for i in range(0, 100):\n",
    "    \n",
    "    # Ira conter o resultado do modelo maquina de vetorsuporte 100 vezes\n",
    "    classificacao_maquina_vetor_suporte = SVC(nome_do_arquivo='Dados/admission.csv', delimitador=';', lista_rotulacao=[0])\n",
    "    \n",
    "    # Ira adicionar os resultados da função acurácia (que \n",
    "    # recebe como argumento a variável classificacao_maquina_vetor_suporte\n",
    "    # que contém a predição do modelo) no array_maquina_vetor_suporte.\n",
    "    array_maquina_vetor_suporte.append(funcoes.acuracia(classificacao_maquina_vetor_suporte))\n",
    "    \n",
    "# Impressão da média das acurácias coletadas usando a função mean\n",
    "# do numpy que recebe como argumento o array_maquina_vetor_suporte\n",
    "print(\"Média das acurácias do modelo de máquina de vetor suporte: %.2f \"% np.mean(array_maquina_vetor_suporte))\n",
    "        "
   ]
  },
  {
   "cell_type": "markdown",
   "id": "b34b2ceb",
   "metadata": {},
   "source": [
    "                            Interpretação das acurácias\n",
    "-> Podemos observar que o modelo de máquina vetor suporte é superior nas predições desse dataset.\n",
    "\n",
    "-> Vale sempre lembrar que o desempenho dos modelos podem variar de acordo \n",
    "com a base de dados análisada"
   ]
  }
 ],
 "metadata": {
  "kernelspec": {
   "display_name": "Python 3",
   "language": "python",
   "name": "python3"
  },
  "language_info": {
   "codemirror_mode": {
    "name": "ipython",
    "version": 3
   },
   "file_extension": ".py",
   "mimetype": "text/x-python",
   "name": "python",
   "nbconvert_exporter": "python",
   "pygments_lexer": "ipython3",
   "version": "3.12.10"
  }
 },
 "nbformat": 4,
 "nbformat_minor": 5
}
