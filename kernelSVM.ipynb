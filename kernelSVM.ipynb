{
 "cells": [
  {
   "cell_type": "markdown",
   "id": "8024fffe",
   "metadata": {},
   "source": [
    "                                    Kernel\n",
    "-> O kernel é uma função que transformaa sua visão dos dados, levando-os para\n",
    "um \"novo quarto\" (ou seja, um espaço de dimensão diferente). Nesse novo espaço,\n",
    "os grupos que antes estavam misturados agora se tornam facilmente separáveis\n",
    "por uma linha ou um plano.\n",
    "\n",
    "-> O mais interessante é que o kernel faz essa transformação de forma \n",
    "\"mágica\", sem a necessidade de calcular a posição exata da pessoa no\n",
    "novo quarto. Ele simplesmente usa um truque matemático para encontrar\n",
    "a melhor separação de forma muito mais rápida e eficiente.\n",
    "\n",
    "                                    Resumo\n",
    "-> Problema: Dados que não podem ser separados por uma linha.\n",
    "\n",
    "-> Solução: O kernel \"move\" os dados para um espaço de dimensão\n",
    "maior.\n",
    "\n",
    "-> Resultado: No novo espaço, a separaçaõ se torna simples e linear"
   ]
  },
  {
   "cell_type": "markdown",
   "id": "f2f22a52",
   "metadata": {},
   "source": [
    "Basicamente, iremos utilizar 2 kernels diferentes para classificar os dados do arquivo titanic. Após a classificação\n",
    "iremos comparar os kernels para definir qual é o mais eficiente na classificação desses dados."
   ]
  },
  {
   "cell_type": "markdown",
   "id": "7277ea06",
   "metadata": {},
   "source": [
    "Função que irá treinar os dados e construir o modelo"
   ]
  },
  {
   "cell_type": "code",
   "execution_count": 1,
   "id": "df2e1733",
   "metadata": {},
   "outputs": [],
   "source": [
    "# Função que irá treinar e construir o modelo SVC (máquina de vetor\n",
    "# suporte para classificação). A função irá receber como argumento:\n",
    "\n",
    "# xtrain: Dados de treino do conjunto x (caracteristicas)\n",
    "\n",
    "# ytrain: Dados de treino do conjunto y (variável alvo).\n",
    "\n",
    "# kernel: Modelo/tipo de cálxulo que o modelo irá usar para\n",
    "# classificar os modelos\n",
    "\n",
    "# degree: Grau do polinomio para modelos polinomiais. A\n",
    "# função tem como valor padrão o None, já que alguns kernel\n",
    "# não utilizam valores polinomiais. Os graus do polinomio\n",
    "# basicamente, definem a intensidade da curva que percorre\n",
    "# os dados do arquivo.\n",
    "def  computarModelo(xtrain, ytrain, kernel, degree = None):\n",
    "    \n",
    "    # Import da classe SVC da biblioteca svm do módulo sklearn que tem\n",
    "    # como objetivo construir maquinas de vetor suporte para classificação\n",
    "    # (SVC).\n",
    "    from sklearn.svm import SVC\n",
    "    \n",
    "    # Antes de instânciar o objeto, vamos verificar se o kernel escolhido\n",
    "    # é o polinomial.\n",
    "    if kernel == 'poly':\n",
    "        \n",
    "        # Se essa condição for verdadeira, vamos instansciar o modelo\n",
    "        # SVC e passar como argumento para o construtor o kernel (no\n",
    "        # caso será o polinomial) e o degree (grau do polinomio)\n",
    "        classificador = SVC(kernel=kernel, degree=degree)\n",
    "\n",
    "    else:\n",
    "        \n",
    "        # Se a condição não for verdadeira, vamos passar para o\n",
    "        # o construtor do objeto apenas o kernel escolhido.\n",
    "        classificador = SVC(kernel = kernel)\n",
    "    \n",
    "    # Função que irá treinar o modelo usando os dados de treino\n",
    "    # com o objetivo de ensinar o modelo a identificar padrões\n",
    "    # e tendências\n",
    "    classificador.fit(xtrain[0], ytrain)\n",
    "    \n",
    "    # Retorno do modelo treinado e pronto para realizar predições  \n",
    "    return classificador"
   ]
  },
  {
   "cell_type": "markdown",
   "id": "2a9e5e5a",
   "metadata": {},
   "source": [
    "Função que irá realizar a predição do modelo"
   ]
  },
  {
   "cell_type": "code",
   "execution_count": 2,
   "id": "9453abb8",
   "metadata": {},
   "outputs": [],
   "source": [
    "# Função que irá conter a classificação do modelo. A função recebe\n",
    "# como argumento:\n",
    "# classificador: Modelo instanciado e treinado\n",
    "# xtest: Dados que serão utilizados na predição \n",
    "# modelo.\n",
    "def predicao_modelo(classificador, xtest):\n",
    "    \n",
    "    # Retorno da predição do modelo usando a função\n",
    "    # predict que irá receber como argumento o xtest\n",
    "    return classificador.predict(xtest[0])"
   ]
  },
  {
   "cell_type": "markdown",
   "id": "d5cc14a1",
   "metadata": {},
   "source": [
    "Função que irá construir a matriz de confusão"
   ]
  },
  {
   "cell_type": "code",
   "execution_count": 3,
   "id": "fc33a9e5",
   "metadata": {},
   "outputs": [],
   "source": [
    "# Função que irá construir a matriz confusão do modelo que tem como\n",
    "# objetivo mostrar a quantidade de erros e acertos. A função recebe\n",
    "# como argumento:\n",
    "# ypredicao: Predição do modelo\n",
    "# ytest: Dados reais que serão comparados com a classificação\n",
    "# do modelo.\n",
    "def matriz_confusao(ypredicao, ytest):\n",
    "    \n",
    "    # Import da classe confusion_matrix da biblioteca metrics do\n",
    "    # módulo sklearn que tem como objetivo construir matrizes de\n",
    "    # confusão.\n",
    "    from sklearn.metrics import confusion_matrix\n",
    "    \n",
    "    # Instância (criação do objeto) da matriz de confusão. O\n",
    "    # construtor da classe ira conter como argumento a predição\n",
    "    # do modelo (ypredicao) e os dados reais das classificações\n",
    "    # (ytest) \n",
    "    matriz = confusion_matrix(ytest, ypredicao)\n",
    "    \n",
    "    # Retorno da matriz construida.\n",
    "    return matriz"
   ]
  },
  {
   "cell_type": "markdown",
   "id": "8c9ff31c",
   "metadata": {},
   "source": [
    "Função que irá construir o modelo de classificação SVC"
   ]
  },
  {
   "cell_type": "code",
   "execution_count": 4,
   "id": "7bc6eeb2",
   "metadata": {},
   "outputs": [],
   "source": [
    "\n",
    "from minhasfuncoes import funcoes\n",
    "\n",
    "def SVC(nome_do_arquivo, kernel, delimitador=',', inicio_preenchimento = None, fim_preenchimento = None, lista_rotulacao = None,degree=None):\n",
    "    \n",
    "    x, y = funcoes.carregar_Dataset(nome_do_arquivo, delimitador)\n",
    "    \n",
    "    \n",
    "    if inicio_preenchimento != None and fim_preenchimento != None:\n",
    "        \n",
    "        x = funcoes.preencherDadosFaltantes(x, inicio_preenchimento, fim_preenchimento)\n",
    "    \n",
    "    if lista_rotulacao != None:\n",
    "        \n",
    "        for i in lista_rotulacao:\n",
    "            \n",
    "            x = funcoes.rotulacao(x, i)\n",
    "    \n",
    "    xtrain, xtest, ytrain, ytest = funcoes.treino_teste(x, y, 0.2)\n",
    "    \n",
    "    xtrain = funcoes.normalizacao(xtrain)\n",
    "    \n",
    "    xtest = funcoes.normalizacao(xtest)\n",
    "    \n",
    "    \n",
    "    classificador = computarModelo(xtrain, ytrain, kernel, degree)\n",
    "    \n",
    "    ypredicao = predicao_modelo(classificador, xtest)\n",
    "    \n",
    "    return matriz_confusao(ypredicao, ytest)\n",
    "        \n",
    "        \n",
    "    "
   ]
  },
  {
   "cell_type": "code",
   "execution_count": 5,
   "id": "01b318ff",
   "metadata": {},
   "outputs": [
    {
     "name": "stdout",
     "output_type": "stream",
     "text": [
      "[[85 22]\n",
      " [26 46]]\n"
     ]
    }
   ],
   "source": [
    "matriz_modelo = SVC(nome_do_arquivo='Dados/titanic.csv', inicio_preenchimento=2, fim_preenchimento=2, lista_rotulacao = [1,0], kernel='linear')\n",
    "\n",
    "print(matriz_modelo)"
   ]
  },
  {
   "cell_type": "code",
   "execution_count": 6,
   "id": "eee42ec2",
   "metadata": {},
   "outputs": [
    {
     "name": "stdout",
     "output_type": "stream",
     "text": [
      "[[96 15]\n",
      " [26 42]]\n"
     ]
    }
   ],
   "source": [
    "matriz_modelo_polinomial = SVC(nome_do_arquivo='Dados/titanic.csv', inicio_preenchimento=2, fim_preenchimento=2, lista_rotulacao = [1,0], kernel='poly', degree= 3)\n",
    "\n",
    "print(matriz_modelo_polinomial)"
   ]
  },
  {
   "cell_type": "markdown",
   "id": "c7896ecc",
   "metadata": {},
   "source": [
    "Comparando os resultados dos kernels"
   ]
  },
  {
   "cell_type": "code",
   "execution_count": 7,
   "id": "28e89c05",
   "metadata": {},
   "outputs": [],
   "source": [
    "from tqdm import tqdm\n",
    "\n",
    "import numpy as np"
   ]
  },
  {
   "cell_type": "code",
   "execution_count": null,
   "id": "58e80587",
   "metadata": {},
   "outputs": [
    {
     "name": "stderr",
     "output_type": "stream",
     "text": [
      "Construindo o modelo de kernel linear:  64%|██████▍   | 64/100 [00:20<00:01, 30.26it/s]"
     ]
    }
   ],
   "source": [
    "array_linear = []\n",
    "\n",
    "for i in tqdm(range(0,100), desc='Construindo o modelo de kernel linear'):\n",
    "    \n",
    "    modelo_linear = SVC(nome_do_arquivo='Dados/titanic.csv', inicio_preenchimento = 2, fim_preenchimento = 2, lista_rotulacao=[1,0], kernel='linear')\n",
    "    \n",
    "    array_linear.append(funcoes.acuracia(modelo_linear))\n",
    "    \n",
    "\n",
    "print(\"Média das acurácias da kerenl linear: %.2f \"% np.mean(array_linear))"
   ]
  },
  {
   "cell_type": "code",
   "execution_count": null,
   "id": "3332742c",
   "metadata": {},
   "outputs": [
    {
     "name": "stderr",
     "output_type": "stream",
     "text": [
      "Construindo o modelo de kernel polinomial:   5%|▌         | 5/100 [00:11<00:04, 21.78it/s]"
     ]
    }
   ],
   "source": [
    "array_polinomial= []\n",
    "\n",
    "for i in tqdm(range(0,100), desc='Construindo o modelo de kernel polinomial'):\n",
    "    \n",
    "    modelo_polinomial= SVC(nome_do_arquivo='Dados/titanic.csv', inicio_preenchimento = 2, fim_preenchimento = 2, lista_rotulacao=[1,0], kernel='poly', degree=3)\n",
    "    \n",
    "    array_polinomial.append(funcoes.acuracia(modelo_polinomial))\n",
    "    \n",
    "\n",
    "print(\"Média das acurácias da kerenl linear: %.2f \"% np.mean(array_polinomial))"
   ]
  }
 ],
 "metadata": {
  "kernelspec": {
   "display_name": "Python 3",
   "language": "python",
   "name": "python3"
  },
  "language_info": {
   "codemirror_mode": {
    "name": "ipython",
    "version": 3
   },
   "file_extension": ".py",
   "mimetype": "text/x-python",
   "name": "python",
   "nbconvert_exporter": "python",
   "pygments_lexer": "ipython3",
   "version": "3.12.10"
  }
 },
 "nbformat": 4,
 "nbformat_minor": 5
}
