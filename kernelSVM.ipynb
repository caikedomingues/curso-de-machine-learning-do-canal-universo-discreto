{
 "cells": [
  {
   "cell_type": "markdown",
   "id": "8024fffe",
   "metadata": {},
   "source": [
    "                                    Kernel\n",
    "-> O kernel é uma função que transformaa sua visão dos dados, levando-os para\n",
    "um \"novo quarto\" (ou seja, um espaço de dimensão diferente). Nesse novo espaço,\n",
    "os grupos que antes estavam misturados agora se tornam facilmente separáveis\n",
    "por uma linha ou um plano.\n",
    "\n",
    "-> O mais interessante é que o kernel faz essa transformação de forma \n",
    "\"mágica\", sem a necessidade de calcular a posição exata da pessoa no\n",
    "novo quarto. Ele simplesmente usa um truque matemático para encontrar\n",
    "a melhor separação de forma muito mais rápida e eficiente.\n",
    "\n",
    "                                    Resumo\n",
    "-> Problema: Dados que não podem ser separados por uma linha.\n",
    "\n",
    "-> Solução: O kernel \"move\" os dados para um espaço de dimensão\n",
    "maior.\n",
    "\n",
    "-> Resultado: No novo espaço, a separaçaõ se torna simples e linear"
   ]
  },
  {
   "cell_type": "markdown",
   "id": "f2f22a52",
   "metadata": {},
   "source": [
    "Basicamente, iremos utilizar 2 kernels diferentes para classificar os dados do arquivo titanic. Após a classificação\n",
    "iremos comparar os kernels para definir qual é o mais eficiente na classificação desses dados."
   ]
  },
  {
   "cell_type": "markdown",
   "id": "7277ea06",
   "metadata": {},
   "source": [
    "Função que irá treinar os dados e construir o modelo"
   ]
  },
  {
   "cell_type": "code",
   "execution_count": 1,
   "id": "df2e1733",
   "metadata": {},
   "outputs": [],
   "source": [
    "# Função que irá treinar e construir o modelo SVC (máquina de vetor\n",
    "# suporte para classificação). A função irá receber como argumento:\n",
    "\n",
    "# xtrain: Dados de treino do conjunto x (caracteristicas)\n",
    "\n",
    "# ytrain: Dados de treino do conjunto y (variável alvo).\n",
    "\n",
    "# kernel: Modelo/tipo de cálxulo que o modelo irá usar para\n",
    "# classificar os modelos\n",
    "\n",
    "# degree: Grau do polinomio para modelos polinomiais. A\n",
    "# função tem como valor padrão o None, já que alguns kernel\n",
    "# não utilizam valores polinomiais. Os graus do polinomio\n",
    "# basicamente, definem a intensidade da curva que percorre\n",
    "# os dados do arquivo.\n",
    "def  computarModelo(xtrain, ytrain, kernel, degree = None):\n",
    "    \n",
    "    # Import da classe SVC da biblioteca svm do módulo sklearn que tem\n",
    "    # como objetivo construir maquinas de vetor suporte para classificação\n",
    "    # (SVC).\n",
    "    from sklearn.svm import SVC\n",
    "    \n",
    "    # Antes de instânciar o objeto, vamos verificar se o kernel escolhido\n",
    "    # é o polinomial.\n",
    "    if kernel == 'poly':\n",
    "        \n",
    "        # Se essa condição for verdadeira, vamos instansciar o modelo\n",
    "        # SVC e passar como argumento para o construtor o kernel (no\n",
    "        # caso será o polinomial) e o degree (grau do polinomio)\n",
    "        classificador = SVC(kernel=kernel, degree=degree)\n",
    "\n",
    "    else:\n",
    "        \n",
    "        # Se a condição não for verdadeira, vamos passar para o\n",
    "        # o construtor do objeto apenas o kernel escolhido.\n",
    "        classificador = SVC(kernel = kernel)\n",
    "    \n",
    "    # Função que irá treinar o modelo usando os dados de treino\n",
    "    # com o objetivo de ensinar o modelo a identificar padrões\n",
    "    # e tendências\n",
    "    classificador.fit(xtrain[0], ytrain)\n",
    "    \n",
    "    # Retorno do modelo treinado e pronto para realizar predições  \n",
    "    return classificador"
   ]
  },
  {
   "cell_type": "markdown",
   "id": "2a9e5e5a",
   "metadata": {},
   "source": [
    "Função que irá realizar a predição do modelo"
   ]
  },
  {
   "cell_type": "code",
   "execution_count": 2,
   "id": "9453abb8",
   "metadata": {},
   "outputs": [],
   "source": [
    "# Função que irá conter a classificação do modelo. A função recebe\n",
    "# como argumento:\n",
    "# classificador: Modelo instanciado e treinado\n",
    "# xtest: Dados que serão utilizados na predição \n",
    "# modelo.\n",
    "def predicao_modelo(classificador, xtest):\n",
    "    \n",
    "    # Retorno da predição do modelo usando a função\n",
    "    # predict que irá receber como argumento o xtest\n",
    "    return classificador.predict(xtest[0])"
   ]
  },
  {
   "cell_type": "markdown",
   "id": "d5cc14a1",
   "metadata": {},
   "source": [
    "Função que irá construir a matriz de confusão"
   ]
  },
  {
   "cell_type": "code",
   "execution_count": 3,
   "id": "fc33a9e5",
   "metadata": {},
   "outputs": [],
   "source": [
    "# Função que irá construir a matriz confusão do modelo que tem como\n",
    "# objetivo mostrar a quantidade de erros e acertos. A função recebe\n",
    "# como argumento:\n",
    "# ypredicao: Predição do modelo\n",
    "# ytest: Dados reais que serão comparados com a classificação\n",
    "# do modelo.\n",
    "def matriz_confusao(ypredicao, ytest):\n",
    "    \n",
    "    # Import da classe confusion_matrix da biblioteca metrics do\n",
    "    # módulo sklearn que tem como objetivo construir matrizes de\n",
    "    # confusão.\n",
    "    from sklearn.metrics import confusion_matrix\n",
    "    \n",
    "    # Instância (criação do objeto) da matriz de confusão. O\n",
    "    # construtor da classe ira conter como argumento a predição\n",
    "    # do modelo (ypredicao) e os dados reais das classificações\n",
    "    # (ytest) \n",
    "    matriz = confusion_matrix(ytest, ypredicao)\n",
    "    \n",
    "    # Retorno da matriz construida.\n",
    "    return matriz"
   ]
  },
  {
   "cell_type": "markdown",
   "id": "8c9ff31c",
   "metadata": {},
   "source": [
    "Função que irá construir o modelo de classificação SVC"
   ]
  },
  {
   "cell_type": "code",
   "execution_count": null,
   "id": "7bc6eeb2",
   "metadata": {},
   "outputs": [],
   "source": [
    "# Import do nosso arquivo de funções \n",
    "from minhasfuncoes import funcoes\n",
    "\n",
    "# Criação da função que irá construir o modelo de classificação máquina\n",
    "# de vetor suporte. A função irá receber como argumento:\n",
    "# nome_do_arquivo: Local que a base de dados utilizada está armazenada\n",
    "\n",
    "# kernel: Tipo de cálculo que o modelo usará para classificar os dados\n",
    "\n",
    "# delimitador: Sinal que separa os dados no arquivos csv. O argumento irá\n",
    "# receber como valor padrão a ',' que é o sinal comumente usado em arquivos\n",
    "# csv.\n",
    "\n",
    "# inicio_preenchimento: Irá receber o indice da coluna que será a primeira\n",
    "# ser preenchida no intervalo. Como posteriormente iremos verificar se é\n",
    "# necessário ou nao passar esse parametro, vamos definir o valor padrão\n",
    "# como None.\n",
    "\n",
    "# fim_preenchimento: Irá receber o indice da ultima coluna que será\n",
    "# preenchida no intervalo. Posteriormente iremos verificar se é necessário\n",
    "# passar esse argumento para a função, logo, ele terá como valor padrão o\n",
    "# None.\n",
    "def SVC(nome_do_arquivo, kernel, delimitador=',', inicio_preenchimento = None, fim_preenchimento = None, lista_rotulacao = None,degree=None):\n",
    "    \n",
    "    # Trecho que irá carregar o dataset: Como no arquivo de funções nós \n",
    "    # dividimos os dados em x e y usando o values do pandas ( que trans\n",
    "    # forma x e y em um array numpy), precisamos atribuir o valor da \n",
    "    # função carregar_Dataset nas 2 variaveis x e y.\n",
    "    \n",
    "    # carregar_dataset: Função que irá carregar a base de dados na memória\n",
    "    # ram. A função irá receber como argumento o nome do arquivo e o seu\n",
    "    # delimitador.\n",
    "    # x: Ira receber as caracteristicas\n",
    "    # y: Irá receber a variável alvo da classificação/predição\n",
    "    x, y = funcoes.carregar_Dataset(nome_do_arquivo, delimitador)\n",
    "    \n",
    "    # Como nem sempre precisaremos preencher dados faltantes, vamos verificar\n",
    "    # se os argumentos inicio_preenchimento e fim_preenchimento possuem\n",
    "    # um valor diferente de None.\n",
    "    if inicio_preenchimento != None and fim_preenchimento != None:\n",
    "        \n",
    "        # Se a condição for verdadeira, vamos chamar a função de\n",
    "        # preenchimento que irá receber como argumento o conjunto\n",
    "        # de dados que será preenchido(x), o inicio do intervalo\n",
    "        # que será preenchido (inicio_preenchimento) e o fim do\n",
    "        # intervalo(fim_preenchimento).\n",
    "        x = funcoes.preencherDadosFaltantes(x, inicio_preenchimento, fim_preenchimento)\n",
    "    \n",
    "    # Agora iremos verificar se a lista de rotulação de variáveis categóricas\n",
    "    # possui algum valor diferente do None.\n",
    "    if lista_rotulacao != None:\n",
    "        \n",
    "        # Se a condição for verdadeira, iremos percorrer a lista aplicando\n",
    "        # a função de rotulação em cada coluna presente na lista.\n",
    "        for i in lista_rotulacao:\n",
    "            \n",
    "            # Chamada da função que irá rotular numéricamente cada coluna\n",
    "            # da lista. A função ira receber como argumento:\n",
    "            # x: Conjunto que será rotulado\n",
    "            # i: Indice da coluna categórica que será convertida.\n",
    "            x = funcoes.rotulacao(x, i)\n",
    "    \n",
    "    # Trecho que irá separar os dados em treino e teste\n",
    "    \n",
    "    # Xtrain: Irá receber os dados de treino do conjunto x\n",
    "    # (caracteristicas) que irão ensinar o modelo a identificar\n",
    "    # padrões\n",
    "    \n",
    "    # xtest: Irá receber os dados que serão utilizados na\n",
    "    # classificação do modelo\n",
    "    \n",
    "    # ytrain: Ira receber os dados de treino de y (variável alvo) que irão ensinar como o modelo deve classificar os dados.\n",
    "    \n",
    "    # ytest: Dados reais que serão comparados com a predição do modelo.\n",
    "    \n",
    "    # treino_teste: Função que irá realizar a separação dos dados. A função\n",
    "    # irá receber como argumento:\n",
    "    \n",
    "    # x: Caracteristicas\n",
    "    # y: Variável alvo\n",
    "    # 0.2: Tamanho do conjunto de teste, os outros 80% irão para o \n",
    "    # conjunto de treino\n",
    "    xtrain, xtest, ytrain, ytest = funcoes.treino_teste(x, y, 0.2)\n",
    "    \n",
    "    # Função que irá normalizar os dados com o objetivo de criar escalas\n",
    "    # que padronizam os dados e evitam outliers. A função irá criar para\n",
    "    # os dados uma média zero e um desvio padrão 1. A função recebe como\n",
    "    # argumento o conjunto que será normalizado \n",
    "    xtrain = funcoes.normalizacao(xtrain)\n",
    "    \n",
    "    xtest = funcoes.normalizacao(xtest)\n",
    "    \n",
    "    # Ira criar o modelo treinado e pronto para realizar predições. A\n",
    "    # função irá receber como argumento os dados de treino de x (xtrain),\n",
    "    # os dados de treino de y (ytrain), o tipo de calculo que será utilizado\n",
    "    # na classificação (kernel) e o grau do polinomio (degree não obrigatório).\n",
    "    classificador = computarModelo(xtrain, ytrain, kernel, degree)\n",
    "    \n",
    "    # Ira conter a predição do modelo. A função irá receber como argumento\n",
    "    # o modelo treinado(classificador) e os dados que serão utilizado na \n",
    "    # predição (xtest)\n",
    "    ypredicao = predicao_modelo(classificador, xtest)\n",
    "    \n",
    "    # retorno da função que cria matrizes de confusão com a quantidade\n",
    "    # de erros e acertos do modelo. A função irá usar como argumento\n",
    "    # os dados reais e a predição do modelo.\n",
    "    return matriz_confusao(ytest, ypredicao)\n",
    "        \n",
    "        \n",
    "    "
   ]
  },
  {
   "cell_type": "markdown",
   "id": "b82ca8a9",
   "metadata": {},
   "source": [
    "Aplicando o kernel linear no arquivo titanic"
   ]
  },
  {
   "cell_type": "code",
   "execution_count": 13,
   "id": "01b318ff",
   "metadata": {},
   "outputs": [
    {
     "name": "stdout",
     "output_type": "stream",
     "text": [
      "[[85 22]\n",
      " [23 49]]\n"
     ]
    }
   ],
   "source": [
    "matriz_modelo = SVC(nome_do_arquivo='Dados/titanic.csv', inicio_preenchimento=2, fim_preenchimento=2, lista_rotulacao = [1,0], kernel='linear')\n",
    "\n",
    "print(matriz_modelo)"
   ]
  },
  {
   "cell_type": "markdown",
   "id": "60dc0c4a",
   "metadata": {},
   "source": [
    "                    Interpretação dos resultados da kernel linear\n",
    "-> 85: Quantidade de pessoas que o modelo classificou corretamente como\n",
    "não sobrevivente.\n",
    "\n",
    "-> 22: Quantidade de pessoas que o modelo classificou incorretamente como\n",
    "sobreviventes\n",
    "\n",
    "-> 23: Quantidade de pessoas que o modelo classificou incorretamente como\n",
    "não sobrevivente\n",
    "\n",
    "-> 49: Quantidade de pessoas que o modelo classificou corretamente como\n",
    "sobreviventes"
   ]
  },
  {
   "cell_type": "markdown",
   "id": "ce1392b1",
   "metadata": {},
   "source": [
    "Aplicando o kernel polinomial ao arquivo titanic"
   ]
  },
  {
   "cell_type": "code",
   "execution_count": 14,
   "id": "eee42ec2",
   "metadata": {},
   "outputs": [
    {
     "name": "stdout",
     "output_type": "stream",
     "text": [
      "[[97 26]\n",
      " [19 37]]\n"
     ]
    }
   ],
   "source": [
    "matriz_modelo_polinomial = SVC(nome_do_arquivo='Dados/titanic.csv', inicio_preenchimento=2, fim_preenchimento=2, lista_rotulacao = [1,0], kernel='poly', degree= 3)\n",
    "\n",
    "print(matriz_modelo_polinomial)"
   ]
  },
  {
   "cell_type": "markdown",
   "id": "f7b79235",
   "metadata": {},
   "source": [
    "                Interpretando os resultados da kernel polinomial\n",
    "-> 97: Quantidade de pessoas que o modelo classificou corretamente como\n",
    "não sobreviventes.\n",
    "\n",
    "-> 26: Quantidade de pessoas que o modelo classificou incorretamente\n",
    "como sobreviventes\n",
    "\n",
    "-> 19: Quantidade de pessoas que o modelo classificou incorretamente\n",
    "como não sobreviventes.\n",
    "\n",
    "-> 37: Quantidade de pessoas que o modelo classificou corretamente como\n",
    "sobreviventes"
   ]
  },
  {
   "cell_type": "markdown",
   "id": "c7896ecc",
   "metadata": {},
   "source": [
    "Comparando os resultados dos kernels. A idéia será executar os métodos\n",
    "20 vezes e tirar uma média das acurácias para definir qual modelo foi o \n",
    "o mais eficiente"
   ]
  },
  {
   "cell_type": "code",
   "execution_count": null,
   "id": "28e89c05",
   "metadata": {},
   "outputs": [],
   "source": [
    "# imoport da função tqdm da biblioteca tqdm que tem como objetivo\n",
    "# criar uma barra de progresso que mostra a porcentagem da execução\n",
    "# de um loop\n",
    "from tqdm import tqdm\n",
    "\n",
    "# Import da boblioteca numpy que permite realizar cálculos matematicos\n",
    "# e manipular arrays\n",
    "import numpy as np"
   ]
  },
  {
   "cell_type": "code",
   "execution_count": null,
   "id": "58e80587",
   "metadata": {},
   "outputs": [
    {
     "name": "stderr",
     "output_type": "stream",
     "text": [
      "Construindo o modelo de kernel linear:   0%|          | 0/20 [00:00<?, ?it/s]"
     ]
    },
    {
     "name": "stderr",
     "output_type": "stream",
     "text": [
      "Construindo o modelo de kernel linear: 100%|██████████| 20/20 [00:00<00:00, 54.10it/s]"
     ]
    },
    {
     "name": "stdout",
     "output_type": "stream",
     "text": [
      "Média das acurácias da kerenl linear: 0.78 \n"
     ]
    },
    {
     "name": "stderr",
     "output_type": "stream",
     "text": [
      "\n"
     ]
    }
   ],
   "source": [
    "# Criação do array que irá conter os resultados das acurácias\n",
    "# do kernel linear. \n",
    "array_linear = []\n",
    "\n",
    "# For que irá possibilitar que o modelo seja executado 20 vezes. O for\n",
    "# utilizara na construção do loop a função tqdm que irá receber como\n",
    "# argumento o range (que define o tamanho do loop) e o desc (que contém\n",
    "# a descrição da barra de projetos).\n",
    "for i in tqdm(range(0,20), desc='Construindo o modelo de kernel linear'):\n",
    "    \n",
    "    # Irá executar o modelo SVC 20 vezes \n",
    "    modelo_linear = SVC(nome_do_arquivo='Dados/titanic.csv', inicio_preenchimento = 2, fim_preenchimento = 2, lista_rotulacao=[1,0], kernel='linear')\n",
    "    \n",
    "    # Ira adicionar no array as acurácias das execuções feitas pelo loop\n",
    "    array_linear.append(funcoes.acuracia(modelo_linear))\n",
    "    \n",
    "# Impressão da média das acurácias usando a função mean que irá receber\n",
    "# como argumento o array que contém as acurácias do modelo\n",
    "print(\"Média das acurácias da kerenl linear: %.2f \"% np.mean(array_linear))"
   ]
  },
  {
   "cell_type": "code",
   "execution_count": null,
   "id": "3332742c",
   "metadata": {},
   "outputs": [
    {
     "name": "stderr",
     "output_type": "stream",
     "text": [
      "Construindo o modelo de kernel polinomial: 100%|██████████| 20/20 [00:00<00:00, 52.88it/s]"
     ]
    },
    {
     "name": "stdout",
     "output_type": "stream",
     "text": [
      "Média das acurácias da kerenl linear: 0.80 \n"
     ]
    },
    {
     "name": "stderr",
     "output_type": "stream",
     "text": [
      "\n"
     ]
    }
   ],
   "source": [
    "# Criação do array que irá conter os resultados das acurácias\n",
    "# do kernel polinomial. \n",
    "array_polinomial= []\n",
    "\n",
    "# For que irá possibilitar que o modelo seja executado 20 vezes. O for\n",
    "# utilizara na construção do loop a função tqdm que irá receber como\n",
    "# argumento o range (que define o tamanho do loop) e o desc (que contém\n",
    "# a descrição da barra de projetos).\n",
    "for i in tqdm(range(0,20), desc='Construindo o modelo de kernel polinomial'):\n",
    "    \n",
    "     # Irá executar o modelo SVC 20 vezes \n",
    "    modelo_polinomial= SVC(nome_do_arquivo='Dados/titanic.csv', inicio_preenchimento = 2, fim_preenchimento = 2, lista_rotulacao=[1,0], kernel='poly', degree=3)\n",
    "    \n",
    "    # Ira adicionar no array as acurácias das execuções feitas pelo loop\n",
    "    array_polinomial.append(funcoes.acuracia(modelo_polinomial))\n",
    "    \n",
    "# Impressão da média das acurácias usando a função mean que irá receber\n",
    "# como argumento o array que contém as acurácias do modelo\n",
    "print(\"Média das acurácias da kerenl linear: %.2f \"% np.mean(array_polinomial))"
   ]
  }
 ],
 "metadata": {
  "kernelspec": {
   "display_name": "Python 3",
   "language": "python",
   "name": "python3"
  },
  "language_info": {
   "codemirror_mode": {
    "name": "ipython",
    "version": 3
   },
   "file_extension": ".py",
   "mimetype": "text/x-python",
   "name": "python",
   "nbconvert_exporter": "python",
   "pygments_lexer": "ipython3",
   "version": "3.12.10"
  }
 },
 "nbformat": 4,
 "nbformat_minor": 5
}
