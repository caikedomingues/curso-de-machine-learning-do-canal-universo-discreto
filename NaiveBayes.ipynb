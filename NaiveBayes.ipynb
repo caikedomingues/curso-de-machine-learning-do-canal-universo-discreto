{
 "cells": [
  {
   "cell_type": "markdown",
   "id": "e1d7a8e8",
   "metadata": {},
   "source": [
    "                                        Naive Bayes\n",
    "\n",
    "-> É um modelo de classificação mais simples e  rápido que existe e seu conceito é baseado em probabilidade.                                  \n",
    "\n",
    "-> A palavra \"Naive\" (ingênuo em ingles) no nome do modelo é a chave para\n",
    "entende-lo. Isso porque o Naive Bayes faz uma suposição muito ingênua, mas\n",
    "que funciona surpreendentemente bem na prática: ele assume que as caracte\n",
    "risticas: ele assume que as caracteristicas de um objeto são independentes\n",
    "umas das outras. \n",
    "\n",
    "-> Pense em um classificador de e-mails de spam. O modelo Naive Bayes vai\n",
    "analisar cada palavra do e-mail independente para decidir se é spam ou não.\n",
    "Por exemplo:\n",
    "\n",
    "    -> Se o e-mail tem a palavra \"promoção\", a probabilidade de ser spam\n",
    "    aumenta\n",
    "\n",
    "    -> Se ele tem a palavra \"desconto\" a probabilidade também aumenta.\n",
    "\n",
    "    -> Se ele tem a palavra \"reunião\", a probabilidade de não ser spam\n",
    "    aumenta\n",
    "\n",
    "-> O modelo Naive Bayes não se importa se as palavras \"promoção\" e \"desconto\" aparecem juntas. Ele simplesmente soma as probabilidades de cada palavra individualmente. É como se ele dissesse: \"Eu sei a probabilidade de um e-mail\n",
    "com a palavra \"promoção\" ser spam. Eu também sei a probabilidade de um -email\n",
    "com \"desconto\" ser spam. Para um email com duas palavras, eu só somo as duas\n",
    "probabilidades."
   ]
  },
  {
   "cell_type": "markdown",
   "id": "44891b75",
   "metadata": {},
   "source": [
    "                        Criando a predição do modelo"
   ]
  },
  {
   "cell_type": "code",
   "execution_count": null,
   "id": "76647a86",
   "metadata": {},
   "outputs": [],
   "source": [
    "# Função que irá criar a classificação do modelo. A função irá receber\n",
    "# como argumento:\n",
    "# classificador: Modelo instanciado e treinado\n",
    "# xtest:Dados que serão utilizados na classificação dos dados\n",
    "def predicaoModelo(classificador, xtest):\n",
    "    \n",
    "    # Retorno da predição do modelo que irá usar a função predict do\n",
    "    # classificador para classificar os dados usando os valores de xtest\n",
    "    return classificador.predict(xtest[0])"
   ]
  },
  {
   "cell_type": "markdown",
   "id": "8d528051",
   "metadata": {},
   "source": [
    "Criando a matriz que contabiliza os erros e acertos do modelo de classificação"
   ]
  },
  {
   "cell_type": "code",
   "execution_count": null,
   "id": "069d1452",
   "metadata": {},
   "outputs": [],
   "source": [
    "# Criação da função que irá construir a matriz de confusão.\n",
    "# A função irá receber como argumento:\n",
    "# ytest: valores reais da classificação\n",
    "#ypredicao: Classificação feita pelo modelo.\n",
    "def MatrizConfusao(ytest, ypredicao):\n",
    "    \n",
    "    # Import da classe confusion_matrix da biblioteca metrics do\n",
    "    # módulo sklearn que tem como objetivo construir matrizes de\n",
    "    # confusão com a quantidade de acertos e erros do modelo de \n",
    "    # classificação.\n",
    "    from sklearn.metrics import confusion_matrix\n",
    "    \n",
    "    # Instância da classe (criação do objeto). O construtor irá receber\n",
    "    # como argumento os valores de ytest e ypredicao\n",
    "    matriz = confusion_matrix(ytest, ypredicao)\n",
    "    \n",
    "    # Retorno da matriz construida\n",
    "    return matriz"
   ]
  },
  {
   "cell_type": "markdown",
   "id": "cd8caf31",
   "metadata": {},
   "source": [
    "Construindo o modelo Naive Bayes"
   ]
  },
  {
   "cell_type": "code",
   "execution_count": null,
   "id": "b908a30a",
   "metadata": {},
   "outputs": [],
   "source": [
    "    # Função que irá construir e treinar o modelo Naive Bayes.\n",
    "    # A função irá receber como argumento:\n",
    "    # xtrain: Conjunto de treino de x\n",
    "    # ytrain: Conjunto de treino de y\n",
    "    def computarNaiveBayes(xtrain, ytrain):\n",
    "        \n",
    "        # Import da classe GaussianNB da biblioteca naive_bayes do\n",
    "        # módulo sklearn que tem como objetivo construir modelos de\n",
    "        # classificação Naive Bayes\n",
    "        from sklearn.naive_bayes import GaussianNB\n",
    "        \n",
    "        # Instância / criação do objeto\n",
    "        classificador = GaussianNB()\n",
    "\n",
    "        # Função que irá treinar o modelo usando os dados de xtrain\n",
    "        # e ytrain. Vale lembrar que como o modelo trata todas as caracteristicas\n",
    "        # como independentes, acredito que ele não irá identificar correlações em seu\n",
    "        # treinamento\n",
    "        classificador.fit(xtrain[0], ytrain)\n",
    "        \n",
    "        # Retorno do modelo treinado e pronto para realizar predições\n",
    "        return classificador"
   ]
  },
  {
   "cell_type": "markdown",
   "id": "31f3b63e",
   "metadata": {},
   "source": [
    "Aplicando o modelo nos dados"
   ]
  },
  {
   "cell_type": "code",
   "execution_count": null,
   "id": "afeff238",
   "metadata": {},
   "outputs": [],
   "source": [
    "# Import do nosso arquivo de funções\n",
    "from minhasfuncoes import funcoes\n",
    "\n",
    "# Função que irá aplicar o modelo de classificação nos dados. A função irá receber como argumento:\n",
    "# nome_do_arquivo: Local que a base de dados está armazenada.\n",
    "\n",
    "# Delimitador: Sinal que separa os dados no arquivo que contém a base de dados. O argumento terá\n",
    "# como valor padrão a ',' que é o sinal comumente utilizado em arquivos csv.\n",
    "\n",
    "# inicio_preenchimento: Irá conter o indice da coluna inicial do intervalo de preenchimento de \n",
    "# dados faltantes. Como não será um argumento obrigatório, ele tera como valor padrão o None\n",
    "\n",
    "# fim_preenchimento: Irá conter o indice da coluna final do intervalo de preenchimento de \n",
    "# dados faltantes. Como não será um argumento obrigatório, ele tera como valor padrão o None\n",
    "\n",
    "# lista_rotulacao: Irá conter a lista de indices de colunas categóricas que serão numericamente rotuladas\n",
    "# com o objetivo de serem identificadas pelo modelo de classificação.\n",
    "def NaiveBayes(nome_do_arquivo, delimitador=',', inicio_preenchimento = None, fim_preenchimento = None, lista_rotulacao = None):\n",
    "    \n",
    "    # Trecho que irá carregar o dataset na memória ram do computador: Como no arquivo\n",
    "    # de funções nós dividimos os dados em 2 categorias (caracteristicas e alvo) usando\n",
    "    # a função values do pandas (que transforma os dados em um array numpy), vamos precisar\n",
    "    # atribuir os valores da função carregar_Dataset em 2 variáveis (x e y)\n",
    "    \n",
    "    # x: Caracteristicas\n",
    "    \n",
    "    # y: Variável alvo\n",
    "    \n",
    "    # carregar_Dataset: função que irá carregar o dataset usando o nome do arquivo\n",
    "    # e o seu delimitador.\n",
    "    x, y = funcoes.carregar_Dataset(nome_do_arquivo, delimitador)\n",
    "    \n",
    "    # Nessa etapa iremos verificar se a base de dados possui dados faltantes.\n",
    "    # Basicamente, iremos verificar se os valore dos argumentos inicio_preenchimento\n",
    "    # e fim_preenchimento são diferentes de None.\n",
    "    if inicio_preenchimento != None and fim_preenchimento != None:\n",
    "        \n",
    "        # Se a condição for verdadeira, vamos atribuir em x a função que utiliza\n",
    "        # o simpleImputer para preencher dados faltantes como argumentos o x (con\n",
    "        # junto que será preenchido), o inicio_preenchimento e o fim_preenchimento. \n",
    "        x = funcoes.preencherDadosFaltantes(x, inicio_preenchimento, fim_preenchimento)\n",
    "    \n",
    "    \n",
    "    # Nessa etapa vamos verificar se a necessidade de rotular numericamente \n",
    "    # colunas categóricas. Basicamente, vamos verificar se a lista_rotulcao\n",
    "    # possui algum valor diferente do None\n",
    "    if lista_rotulacao != None:\n",
    "        \n",
    "        # Se a condição for verdadeira, vamos percorrer a lista de \n",
    "        # indices aplicando a função de rotulação em todas as colunas\n",
    "        # categóricas presentes na lista\n",
    "        for i in lista_rotulacao:\n",
    "            \n",
    "            # Aplicando a função de rotulação usando os argumentos:\n",
    "            # x: Conjunto que contém as colunas que serão rotuladas\n",
    "            # i: Indice da coluna que será rotulada.\n",
    "            x = funcoes.rotulacao(x, i)\n",
    "    \n",
    "    # Trecho que irá separar os dados em treino e teste\n",
    "    # xtrain: Ira conter o conjunto de treino de x que irá ensinar o modelo\n",
    "    # a identificar padrões (sem realizar correlações no caso)\n",
    "    \n",
    "    # xtest: Irá conter os dados usados na classificação\n",
    "    \n",
    "    # ytrain: Ira conter o conjunto de treino de y que irá ensinar como o\n",
    "    # modelo deve classificar os dados, ou seja, como ele deve apresentar\n",
    "    # as suas respostas.\n",
    "    \n",
    "    # ytest: Ira conter os dados reais que serão comparados com a predição\n",
    "    # do modelo.\n",
    "    \n",
    "    # treino_teste: Função do nosso arquivo de funções que irá separar\n",
    "    # os dados em conjuntos de treino e teste. A função irá receber como\n",
    "    # argumento o conjunto x, o conjunto y e o tamanho do conjunto de testes\n",
    "    # (0.2, 20% para testes e 80% para treino).\n",
    "    xtrain, xtest, ytrain, ytest = funcoes.treino_teste(x, y, 0.2)\n",
    "    \n",
    "    # Função que irá normalizar/padronizar os dados de treino e testes com o objetivo de criar escalas que evitam outliers. A escala criada será definir a média como zero e o desvio padrão igual a 1.\n",
    "    xtrain = funcoes.normalizacao(xtrain)\n",
    "    \n",
    "    xtest = funcoes.normalizacao(xtest)\n",
    "    \n",
    "    # Variável que irá conter a criação do modelo treinado usando os dados\n",
    "    # de x treino e y treino.\n",
    "    classificador = computarNaiveBayes(xtrain, ytrain)\n",
    "    \n",
    "    # Variável que irá conter a classificação do modelo usando o modelo\n",
    "    # treinado e os dados de xtest. \n",
    "    ypredicao = predicaoModelo(classificador, xtest)\n",
    "    \n",
    "    # Retorno da matriz confsão contendo a quantidade de erros e acertos\n",
    "    # do modelo. A função irá receber como argumento os dados reais (ytest)\n",
    "    # e a classificação do modelo (ypredicao)\n",
    "    return MatrizConfusao(ytest, ypredicao)   "
   ]
  },
  {
   "cell_type": "markdown",
   "id": "03b3441a",
   "metadata": {},
   "source": [
    "Chamada da função que irá aplicar o modelo de classificação nos dados."
   ]
  },
  {
   "cell_type": "code",
   "execution_count": null,
   "id": "f7a79f37",
   "metadata": {},
   "outputs": [
    {
     "data": {
      "text/plain": [
       "array([[95, 19],\n",
       "       [19, 46]])"
      ]
     },
     "execution_count": 62,
     "metadata": {},
     "output_type": "execute_result"
    }
   ],
   "source": [
    "# Observação: Como o arquivo utilizado ja possui o delimitador padrão (',')\n",
    "# vamos omitir esse argumento na chamada da função\n",
    "NaiveBayes(nome_do_arquivo='Dados/titanic.csv', inicio_preenchimento = 2, fim_preenchimento = 2,  lista_rotulacao = [1,0])"
   ]
  },
  {
   "cell_type": "markdown",
   "id": "53989193",
   "metadata": {},
   "source": [
    "                  Interpretação dos resultados da classificação\n",
    "\n",
    "-> 95: Quantidade de pessoas que o modelo classificou corretamente como \n",
    "não sobreviventes\n",
    "\n",
    "-> 19: Quantidade de pessoas que o modelo classificou incorretamente\n",
    "como sobreviventes\n",
    "\n",
    "-> 19: Quantidade de pessoas que o modelo classificou incorretamente \n",
    "como não sobreviventes\n",
    "\n",
    "-> 46: Quantidade de pessoas que o modelo classificou corretamente\n",
    "como sobreviventes"
   ]
  },
  {
   "cell_type": "markdown",
   "id": "8dc36f2d",
   "metadata": {},
   "source": [
    "Testando a acurácia do modelo: Mesmo que não haja comparações nesse exercicio,\n",
    "é interessante executar o modelo mais de uma vez. Dessa maneira conseguriemos\n",
    "lidar com a aleatoriedade dos dados na separação dos dados em treino e teste, \n",
    "logo o teste da acurácia se torna mais eficiente já que iremos verificar o\n",
    "desempenho do modelo em conjuntos diferentes."
   ]
  },
  {
   "cell_type": "code",
   "execution_count": null,
   "id": "1b7e2768",
   "metadata": {},
   "outputs": [
    {
     "name": "stderr",
     "output_type": "stream",
     "text": [
      "Testando a acurácia do modelo: 100%|██████████| 20/20 [00:00<00:00, 72.28it/s]"
     ]
    },
    {
     "name": "stdout",
     "output_type": "stream",
     "text": [
      "Média das acurácias do modelo: 0.78\n"
     ]
    },
    {
     "name": "stderr",
     "output_type": "stream",
     "text": [
      "\n"
     ]
    }
   ],
   "source": [
    "# Import da função que constroi barras de progresso\n",
    "# em estruturas de repetição\n",
    "from tqdm import tqdm as tq\n",
    "\n",
    "# Import da biblioteca numpy  que tem como objetivo realizar\n",
    "# cálculos matemáticos e manipular arrays.\n",
    "import numpy as np\n",
    "\n",
    "# Lista que irá conter os valores das acurácias do modelo.  \n",
    "array_naive_bayes = []\n",
    "\n",
    "# For que irá permitir que a execução do modelo ocorra 20 vezes.\n",
    "# Iremos utilizar na construção do for a função tqdm que irá \n",
    "# construir a barra de progresso. A função ira receber como\n",
    "# argumento o range (que define o tamanho do loop) e o desc\n",
    "# (que contém a descrição da barra de progresso).\n",
    "for i in tq(range(0,20),desc=\"Testando a acurácia do modelo\"):\n",
    "    \n",
    "    # Execução da função que aplica o modelo\n",
    "    modelo = NaiveBayes(nome_do_arquivo='Dados/titanic.csv', inicio_preenchimento = 2, fim_preenchimento = 2,  lista_rotulacao = [1,0])\n",
    "    \n",
    "    # Inserção dos valores da função acurácia no array. A função irá\n",
    "    # receber como argumento a variável que contém o modelo de classificação.\n",
    "    array_naive_bayes.append(funcoes.acuracia(modelo))\n",
    "\n",
    "# Impressão da média das acurácias usando a função mean do numpy que\n",
    "# retorna a média de um conjunto de valores.  \n",
    "print(\"Média das acurácias do modelo: %.2f\"% np.mean(array_naive_bayes))"
   ]
  }
 ],
 "metadata": {
  "kernelspec": {
   "display_name": "Python 3",
   "language": "python",
   "name": "python3"
  },
  "language_info": {
   "codemirror_mode": {
    "name": "ipython",
    "version": 3
   },
   "file_extension": ".py",
   "mimetype": "text/x-python",
   "name": "python",
   "nbconvert_exporter": "python",
   "pygments_lexer": "ipython3",
   "version": "3.12.10"
  }
 },
 "nbformat": 4,
 "nbformat_minor": 5
}
