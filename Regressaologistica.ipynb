{
 "cells": [
  {
   "cell_type": "markdown",
   "id": "2d1f8e40",
   "metadata": {},
   "source": [
    "                                    Regressão Logistica\n",
    "-> A regressão logistica é um modelo de Machine Learning usado para problemas\n",
    "de classificação e não de regressão. Apesar do nome \"regressao\", a ideia\n",
    "principal dela é prever a probabilidade de um resultado pertencer a uma de \n",
    "duas categorias\n",
    "\n",
    "-> Analogia: E-mail de Spam: Pense em um problema simples, você quer classificar um e-mail como \"spam\" ou \"não spam\". A regressão linear não\n",
    "funcionaria bem aqui, pois ela prevê um valor continuo (como o preço de\n",
    "uma casa), e você precisa de uma resposta binária. (sim ou não).\n",
    "\n",
    "A regressão logistica faz o seguinte:\n",
    "\n",
    "-> Ela análisa as caracteristicas do email (quantidade de palavras de spam, remetente, etc)\n",
    "\n",
    "-> Em vez de dar uma resposta direta como 0 ou 1, ela calcula a probabilidade,\n",
    "um número entre 0 e 1. Por exemplo, ela pode dizer que a probabilidade de um\n",
    "e-mail ser spam é de 0.95 (95%)\n",
    "\n",
    "-> Você então define um limiar (geralmente 0.5 ou 50%). Se a probabilidade\n",
    "calculada for maior que o limiar, o modelo classifica o e-mail como spam.\n",
    "Se for menor, ele classifica como não spam.\n",
    "\n",
    "-> A regressão logistica usa uma função matemática especial (chamada sigmoide)\n",
    "que trasforma o resultado continuo da regressão linear em uma curva em formato\n",
    "\"S\", que limita valores entre 0 e 1.\n",
    "\n",
    "-> Resumindo: Calcula a probabilidade de um evento acontecer e usa um limiar para tomar uma decisão de classificação.\n"
   ]
  },
  {
   "cell_type": "markdown",
   "id": "c0d51190",
   "metadata": {},
   "source": [
    "                                 Treinando os dados"
   ]
  },
  {
   "cell_type": "code",
   "execution_count": 72,
   "id": "9974b712",
   "metadata": {},
   "outputs": [],
   "source": [
    "# Função que irá treinar o modelo para classificação dos valores.\n",
    "# A funão recebe como argumento:\n",
    "# xtrain: Dados de treino do conjunto x\n",
    "# ytrain: Dados de treino do conjunto y\n",
    "def Treinando_o_modelo(xtrain, ytrain):\n",
    "    \n",
    "    # Import da classe LogisticRegression que da biblioteca linear_model\n",
    "    # que tem como objetivo classificar os dados usando a regressão logistica \n",
    "    from sklearn.linear_model import LogisticRegression\n",
    "    \n",
    "    # Instância da (criação do objeto) classe LogisticRegression. O construtor\n",
    "    # irá receber como argumento o solver de valor 'lbfgs' que é a maneira\n",
    "    # que a regressão utilizara para realizar a classificação\n",
    "    classificador = LogisticRegression(solver='lbfgs')\n",
    "    \n",
    "    # Treinando o modelo usando os dados de treino e o método fit\n",
    "    # que irá aprender a classificar os dados.\n",
    "    # xtrain[0]: Ao acessar o indiece 0 iremos garantir que o modelo\n",
    "    # considere apenas os dados do arquivo csv sem usar metadados.\n",
    "    classificador.fit(xtrain[0], ytrain)\n",
    "    \n",
    "    # Retorno do modelo treinado e pronto para realizar predições\n",
    "    return classificador"
   ]
  },
  {
   "cell_type": "markdown",
   "id": "9b824637",
   "metadata": {},
   "source": [
    "                        Criando a classificação do modelo"
   ]
  },
  {
   "cell_type": "code",
   "execution_count": 73,
   "id": "7d492947",
   "metadata": {},
   "outputs": [],
   "source": [
    "# Função que irá realizar a classificação do modelo. A função irá receber\n",
    "# como argumento:\n",
    "# classificador: Ira receber o modelo treinado e pronto para realização da\n",
    "# classificação.\n",
    "# xtest: Valores que serão utilizados na classificação\n",
    "def predictmodel(classificador, xtest):\n",
    "    \n",
    "    # Retorno da classificação do modelo\n",
    "    return classificador.predict(xtest[0])"
   ]
  },
  {
   "cell_type": "markdown",
   "id": "d105f144",
   "metadata": {},
   "source": [
    "                         Criando a matriz de confusão"
   ]
  },
  {
   "cell_type": "code",
   "execution_count": 74,
   "id": "5fee266a",
   "metadata": {},
   "outputs": [],
   "source": [
    "# Matriz que irá mostrar a quantidade de valores acertados e errados pelo \n",
    "# modelo. A função recebe como argumento:\n",
    "# classificador: Ira receber o modelo de classificação.\n",
    "\n",
    "# ytest: Contém os valores reais das classificações\n",
    "# ira conter a classificação feita pelo modelo.\n",
    "# Com esses dados poderemos ver a quantidade de acertos\n",
    "# do modelo através da comparação com os valores reais (ytest)\n",
    "\n",
    "# ypredição: Classificação do modelo\n",
    "def matriz_confusao(classificador, ytest, ypredicao):\n",
    "    \n",
    "    # Matriz de confusão: É uma tabela que serve para avaliar o desempenho\n",
    "    # de um modelo de classificação. Ela mostra visualmente o quão bem\n",
    "    # o seu modelo acertou ou errou as previsões, comparando as previsões\n",
    "    # do modelo com os valores reais da sua base de dados.\n",
    "    \n",
    "    # A matriz tem quatro partes principais, que respondem a perguntas\n",
    "    # cruciais sobre o seu modelo:\n",
    "    \n",
    "    # verdadeiro positivo: O modelo previu que a resposta era 1 e a\n",
    "    # resposta real era 1. O modelo acertou a previsão positiva.\n",
    "    \n",
    "    # verdadeiro negativo: O modelo previu que a resposta era 0 e a\n",
    "    # resposta real era 0. O modelo acertou a previsão negativa.\n",
    "    \n",
    "    # Falso Positivo: O modelo previu que a resposta era 1, mas a \n",
    "    # resposta era 0. O modelo errou, e previu positivo onde era \n",
    "    # negativo\n",
    "    \n",
    "    # Import da classe confusion_matrox da biblioteca metrics do\n",
    "    # sklearn que tem como objetivo construir matrizes de confusão.\n",
    "    from sklearn.metrics import confusion_matrix\n",
    "    \n",
    "    # Instancia da classe (criação do objeto) confusion_matrix.\n",
    "    # O construtor irá receber como argumento:\n",
    "    # ytest: valores reais da classificação.\n",
    "    # ypredução: Classificação do modelo.\n",
    "    matriz = confusion_matrix(ytest, ypredicao)\n",
    "\n",
    "    # Retorno da matriz de confusão\n",
    "    return matriz"
   ]
  },
  {
   "cell_type": "markdown",
   "id": "1cc7e942",
   "metadata": {},
   "source": [
    "                Aplicando o modelo de regressão logistica"
   ]
  },
  {
   "cell_type": "code",
   "execution_count": null,
   "id": "7ef2f94a",
   "metadata": {},
   "outputs": [],
   "source": [
    "# Import do nosso arquivo de funções\n",
    "from minhasfuncoes import funcoes\n",
    "\n",
    "# Método que irá aplicar o modelo de classificação e utilizar\n",
    "# matriz de confusão. A função recebe como argumento:\n",
    "\n",
    "# nome_do_arquivo: Local que a base de dados está armazenada.\n",
    "\n",
    "# delimitador: sinal que separa os dados na base de dados. O\n",
    "# argumento irá receber como valor padrão a virgula (sinal padrão\n",
    "# dos arquivos csv).\n",
    "def computarRegressaoLogistica(nome_do_arquivo, delimitador = ','):\n",
    "    \n",
    "    # Trecho que irá carregar o dataset: Como no nosso arquivo de\n",
    "    # funções nós dividimos os dados em x (caracteristicas) e y\n",
    "    # (variável alvo) usando o values do pandas (que transforma\n",
    "    # x e y em um array numpy).\n",
    "    \n",
    "    # x: Ira receber o conjunto de caracteristicas.\n",
    "    \n",
    "    # y: Irá receber a variável alvo.\n",
    "    \n",
    "    # carregar_dataset: Função que irá carregar o dataset na \n",
    "    # memória usando o nome do arquivo e o delimitador. \n",
    "    x, y = funcoes.carregar_Dataset(nome_do_arquivo, delimitador)\n",
    "    \n",
    "    # Ira preencher os dados faltantes da base de dados.\n",
    "    \n",
    "    # x: Conjunto que terá os dados preenchidos\n",
    "    \n",
    "    # 2: Primeira coluna que irá ter os dados preenchidos (coluna de idade)\n",
    "    \n",
    "    # 3: ultima coluna que terá os valores preenchidos (coluna idade).\n",
    "    x = funcoes.preencherDadosFaltantes(x, 2, 2)\n",
    "    \n",
    "    # Como a nossa função de rotulação só pode ser aplicada em apenas\n",
    "    # uma coluna por vez, vamos utilizar um for que irá aplicar essa\n",
    "    # função em todas as colunas que queremos rotular.\n",
    "    \n",
    "    # Lista que irá conter o indice das colunas categóricas que\n",
    "    # serão rotuladas. É importante lembrar que como a função\n",
    "    # rotulação ira apagar a coluna categórica (para inserir de volta\n",
    "    # a mesma coluna só que rotulada), temos que inverter a ordem dos\n",
    "    # indices na lista dessa maneira a função conseguira achar o indice\n",
    "    # da coluna que deve ser convertida\n",
    "    colunas_para_rotular = [1, 0]\n",
    "    \n",
    "    # For que irá percorrer a lista de indices com o objetivo de \n",
    "    # acessar cada coluna categórica.\n",
    "    for i in colunas_para_rotular:\n",
    "        \n",
    "        # Aplicando a função de rotulação nas colunas categóricas\n",
    "        # presentes na lista. A função recebe como argumento \n",
    "        # x: Conjunto que contém as colunas que serão convertidas\n",
    "        # i: Indice das colunas que serão convertidas (indices prese\n",
    "        # ntes na lista).\n",
    "        x = funcoes.rotulacao(x, i)\n",
    "    \n",
    "    # Ira dividir os dados em treino e teste\n",
    "    # xtrain: Ira conter as caracteristicas que o modelo usará para\n",
    "    # aprender a prever os dados.\n",
    "    \n",
    "    # ytrain: Irá conter uma parte das classificações que irá ensinar\n",
    "    # o modelo como ele deve classificar os dados.\n",
    "    \n",
    "    # xtest: Irá conter conjunto de dados que o modelo usará para classificar os dados\n",
    "    \n",
    "    # y_test: Irá conter os Valores reais da classificação que serão comparados com a predição do modelo\n",
    "    \n",
    "    # treino_teste: Função do arquivo funcoes.py que tem como objetivo\n",
    "    # dividir os dados em treino e teste. A função recebe como argumento:\n",
    "    \n",
    "    # x: Irá conter o conjunto de caracteristicas\n",
    "    \n",
    "    # y: Irá conter a variável alvo\n",
    "    \n",
    "    # 0.2: Tamanho do conjunto de testes (80% para treino, 20% para testes)\n",
    "    xtrain, xtest, ytrain, ytest = funcoes.treino_teste(x, y, 0.2)\n",
    "    \n",
    "    # Chamada da nossa função de normalização: Que tem como objetivo criar\n",
    "    # escalas (média zero e desvio padrão 1). Dessa maneira conseguimos\n",
    "    # construir um padrão entre os valores. Iremos aplicar a função nas\n",
    "    # caracteristicas de treino e teste\n",
    "    xtrain = funcoes.normalizacao(xtrain)\n",
    "    \n",
    "    xtest = funcoes.normalizacao(xtest)\n",
    "    \n",
    "    # Ira receber o modelo treinado e pronto para realização\n",
    "    # da classificação dos dados.\n",
    "    classificador = Treinando_o_modelo(xtrain, ytrain)\n",
    "    \n",
    "    # Ira receber a função que realiza a predição do modelo. A função\n",
    "    # irá receber como argumento o modelo treinado e as caracteristicas\n",
    "    # necessárias para realizar a predição.\n",
    "    ypredicao = predictmodel(classificador, xtest)\n",
    "    \n",
    "    # Retono da função que irá construir a matriz confusão. A função irá \n",
    "    # receber como argumento:\n",
    "    \n",
    "    # Classificador: irá receber o modelo treinado.\n",
    "    # ytest: Irá conter os valores reais da classificação\n",
    "    # ypredicao: Ira conter a classificação do modelo.\n",
    "    return matriz_confusao(classificador, ytest, ypredicao)"
   ]
  },
  {
   "cell_type": "markdown",
   "id": "6b3972e4",
   "metadata": {},
   "source": [
    "Função que irá mostrar a acurácia (eficiência do modelo)"
   ]
  },
  {
   "cell_type": "code",
   "execution_count": null,
   "id": "05551455",
   "metadata": {},
   "outputs": [],
   "source": [
    "# Função que irá testar a eficiencia de classificação do modelo. A função\n",
    "# irá receber como argumento a matriz de confusão com os resultados da \n",
    "# classificação.\n",
    "def acuracia(matriz_confusao):\n",
    "    \n",
    "    # matriz_confusao[0][0]: Este valor representa os verdadeiros\n",
    "    # negativos. São as previsões que o modelo classificou como 0\n",
    "    # e que de fato, eram 0. \n",
    "    \n",
    "    # matriz_confusao[1][1]: Este valor representa os verdadeiros\n",
    "    # negativos. São as previsões que o modelo classificou como 1\n",
    "    # e que de fato, eram 1.\n",
    "    \n",
    "    # soma (matriz_confusao[0][0] + matriz_confusao[1][1]) no numerador da fórmula representa o total de acertos do modelo.\n",
    "    \n",
    "    # matriz_confusao[0][0] + matriz_confusao[1][0] + matriz_confusao[0][1] + matriz_confusao[1][1]: Esta soma representa o total de previsões feitas pelo modelo, ou seja, todos os elementos da matriz de confusão.\n",
    "    \n",
    "    accuracy = (matriz_confusao[0][0] + matriz_confusao[1][1]) / (matriz_confusao[0][0] + matriz_confusao[1][0] + matriz_confusao[0][1] + matriz_confusao[1][1])\n",
    "    return print(accuracy)"
   ]
  },
  {
   "cell_type": "markdown",
   "id": "a9517d02",
   "metadata": {},
   "source": [
    "Mostrando a matriz de confusão"
   ]
  },
  {
   "cell_type": "code",
   "execution_count": 77,
   "id": "b56bd6b1",
   "metadata": {},
   "outputs": [
    {
     "name": "stdout",
     "output_type": "stream",
     "text": [
      "[[99 12]\n",
      " [23 45]]\n"
     ]
    }
   ],
   "source": [
    "matriz = computarRegressaoLogistica('Dados/titanic.csv')\n",
    "print(matriz)\n"
   ]
  },
  {
   "cell_type": "code",
   "execution_count": 78,
   "id": "9208e852",
   "metadata": {},
   "outputs": [
    {
     "name": "stdout",
     "output_type": "stream",
     "text": [
      "0.8044692737430168\n"
     ]
    }
   ],
   "source": [
    "acuracia(matriz)"
   ]
  }
 ],
 "metadata": {
  "kernelspec": {
   "display_name": "Python 3",
   "language": "python",
   "name": "python3"
  },
  "language_info": {
   "codemirror_mode": {
    "name": "ipython",
    "version": 3
   },
   "file_extension": ".py",
   "mimetype": "text/x-python",
   "name": "python",
   "nbconvert_exporter": "python",
   "pygments_lexer": "ipython3",
   "version": "3.12.10"
  }
 },
 "nbformat": 4,
 "nbformat_minor": 5
}
