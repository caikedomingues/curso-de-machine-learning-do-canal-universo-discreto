{
 "cells": [
  {
   "cell_type": "markdown",
   "id": "4a7be614",
   "metadata": {},
   "source": [
    "                                K-Means\n",
    "-> O k-means é um algoritmo de aprendizado não supervisionado usado para\n",
    "resolver problemas de agrupamento (clustering)\n",
    "\n",
    "    -> Não supervisionado: Significa que você não precisa de dados rotulados\n",
    "    (ou seja, não precisa dizer ao algoritmo o que é certo ou errado). Você\n",
    "    apenas fornece os dados brutos, e o algoritmo encontra os padrões e \n",
    "    estruturas por conta própria.\n",
    "\n",
    "    -> Agrupamento: O objetivo é dividir um conjunto de dados em k grupos\n",
    "    distintos, onde K é um número predefinido por você. O algoritmo garante\n",
    "    que os pontos em um mesmo grupo (ou cluster) sejam mais parecidos entre\n",
    "    si do que com os pontos de dados de outros grupos.\n",
    "\n",
    "\n",
    "                            Para que serve?\n",
    "-> O k-means é usado principalmente para:\n",
    "\n",
    "    -> 1. Segmentação de clientes: Separar clientes com base em hábitos\n",
    "    de compra ou dados demográficos.\n",
    "\n",
    "    -> 2. Análise de dados: Identificar grupos naturais ou anomalias em\n",
    "    um grande conjunto de dados.\n",
    "\n",
    "    -> 3. Processamento de imagem: Agrupar pixels de cores semelhantes para\n",
    "    compressão ou segmentação de imagens.\n",
    "\n",
    "\n",
    "                    Como o k-means funciona (o algoritmo)\n",
    "-> 1.Inicialização\n",
    "\n",
    "    -> Você escolhe o número de grupos que deseka formar (o valor de k).\n",
    "\n",
    "    -> O algoritmo seleciona k pontos aleatórios nos dados. Esses pontos\n",
    "    são chamados de centroides (o centro inicial de cada grupo).\n",
    "\n",
    "-> 2.Atribuição (Clustering)\n",
    "\n",
    "    -> Para cada ponto de dado no seu conjunto, o algoritmo calcula a \n",
    "    distância desse ponto para todos os k centroides\n",
    "\n",
    "    -> O ponto de dado é, então, atribuido ao centroide mais próximo.\n",
    "    Isso forma os k grupos inciais.\n",
    "\n",
    "-> 3 Atualização (Movimento dos centroides)\n",
    "\n",
    "    -> Depois que todos os pontos são atribuidos, os centroides originais\n",
    "    são removidos.\n",
    "\n",
    "    -> O novo centroide de cada grupo é calculado como a média (o mean, \n",
    "    por isso o nome k-means) de todos os pontos de dado que foram atribuidos\n",
    "    aquele grupo.\n",
    "\n",
    "-> 4.Repetição\n",
    "\n",
    "    -> Os passos 2 e 3 são repetidos continuamente: \n",
    "\n",
    "        -> Reatribuir todos os pontos de dado aos seus novos centroides\n",
    "        mais próximos.\n",
    "\n",
    "        -> Recalcular a posição dos centroides (o novo ponto médio)\n",
    "\n",
    "-> Condição de parada\n",
    "\n",
    "    -> O processo para quando:\n",
    "\n",
    "        -> Os centroides nao se movem significativamente em relação ao\n",
    "        passo anterior.\n",
    "\n",
    "        -> Nenhum ponto de dado muda de grupo\n",
    "\n",
    "        -> O número máximo de iterações (predefinido) é atigindo.\n",
    "\n",
    "-> O resultado final são k grupos onde a variação (distância) entre os\n",
    "pontos dentro de cada grupo é minimizada."
   ]
  },
  {
   "cell_type": "markdown",
   "id": "909fbd90",
   "metadata": {},
   "source": [
    "Import das bibliotecas necessárias"
   ]
  },
  {
   "cell_type": "code",
   "execution_count": 1,
   "id": "07717869",
   "metadata": {},
   "outputs": [],
   "source": [
    "# Import da biblioteca que irá acessar e manipular os dados\n",
    "import pandas as pd\n",
    "\n",
    "# Import da biblioteca que irá manipular arrays e realizar cálculos\n",
    "# matemáticos\n",
    "import numpy as np\n",
    "\n",
    "# Biblioteca que permite a construção e visualização de gráficos\n",
    "import matplotlib.pyplot as plt\n",
    "\n",
    "# Import da classe means da biblioteca cluster do módulo sklearn\n",
    "from sklearn.cluster import KMeans\n",
    "\n",
    "# Import do meu arquivo de funções\n",
    "from minhasfuncoes import funcoes"
   ]
  },
  {
   "cell_type": "code",
   "execution_count": 2,
   "id": "74d44dd8",
   "metadata": {},
   "outputs": [],
   "source": [
    "base_de_dados = pd.read_csv('Dados/svbr.csv', delimiter=';')"
   ]
  },
  {
   "cell_type": "code",
   "execution_count": 3,
   "id": "640b6316",
   "metadata": {},
   "outputs": [
    {
     "data": {
      "text/html": [
       "<div>\n",
       "<style scoped>\n",
       "    .dataframe tbody tr th:only-of-type {\n",
       "        vertical-align: middle;\n",
       "    }\n",
       "\n",
       "    .dataframe tbody tr th {\n",
       "        vertical-align: top;\n",
       "    }\n",
       "\n",
       "    .dataframe thead th {\n",
       "        text-align: right;\n",
       "    }\n",
       "</style>\n",
       "<table border=\"1\" class=\"dataframe\">\n",
       "  <thead>\n",
       "    <tr style=\"text-align: right;\">\n",
       "      <th></th>\n",
       "      <th>Canal</th>\n",
       "      <th>Inscritos</th>\n",
       "      <th>Visualizações</th>\n",
       "    </tr>\n",
       "  </thead>\n",
       "  <tbody>\n",
       "    <tr>\n",
       "      <th>0</th>\n",
       "      <td>Site Arqueologia Egípcia</td>\n",
       "      <td>13438.0</td>\n",
       "      <td>406590.0</td>\n",
       "    </tr>\n",
       "    <tr>\n",
       "      <th>1</th>\n",
       "      <td>Terra Negra</td>\n",
       "      <td>35241.0</td>\n",
       "      <td>868235.0</td>\n",
       "    </tr>\n",
       "    <tr>\n",
       "      <th>2</th>\n",
       "      <td>Frank Jaava</td>\n",
       "      <td>31680.0</td>\n",
       "      <td>2856508.0</td>\n",
       "    </tr>\n",
       "    <tr>\n",
       "      <th>3</th>\n",
       "      <td>Dispersciência</td>\n",
       "      <td>25100.0</td>\n",
       "      <td>150000.0</td>\n",
       "    </tr>\n",
       "    <tr>\n",
       "      <th>4</th>\n",
       "      <td>Olá Ciência</td>\n",
       "      <td>32788.0</td>\n",
       "      <td>1575456.0</td>\n",
       "    </tr>\n",
       "  </tbody>\n",
       "</table>\n",
       "</div>"
      ],
      "text/plain": [
       "                      Canal  Inscritos  Visualizações\n",
       "0  Site Arqueologia Egípcia    13438.0       406590.0\n",
       "1               Terra Negra    35241.0       868235.0\n",
       "2               Frank Jaava    31680.0      2856508.0\n",
       "3            Dispersciência    25100.0       150000.0\n",
       "4               Olá Ciência    32788.0      1575456.0"
      ]
     },
     "execution_count": 3,
     "metadata": {},
     "output_type": "execute_result"
    }
   ],
   "source": [
    "base_de_dados.head()"
   ]
  },
  {
   "cell_type": "code",
   "execution_count": 4,
   "id": "d2c72311",
   "metadata": {},
   "outputs": [],
   "source": [
    "base_de_dados_array = funcoes.preencherDadosFaltantes(base_de_dados.to_numpy(), 1, 1)"
   ]
  },
  {
   "cell_type": "code",
   "execution_count": 5,
   "id": "8ac640b7",
   "metadata": {},
   "outputs": [
    {
     "name": "stdout",
     "output_type": "stream",
     "text": [
      "<class 'pandas.core.frame.DataFrame'>\n",
      "RangeIndex: 47 entries, 0 to 46\n",
      "Data columns (total 3 columns):\n",
      " #   Column         Non-Null Count  Dtype  \n",
      "---  ------         --------------  -----  \n",
      " 0   Canal          47 non-null     object \n",
      " 1   Inscritos      46 non-null     float64\n",
      " 2   Visualizações  46 non-null     float64\n",
      "dtypes: float64(2), object(1)\n",
      "memory usage: 1.2+ KB\n"
     ]
    }
   ],
   "source": [
    "base_de_dados.info()"
   ]
  },
  {
   "cell_type": "code",
   "execution_count": 6,
   "id": "30c91083",
   "metadata": {},
   "outputs": [],
   "source": [
    "base_de_dados_array[:,1] = base_de_dados_array[:, 1].astype(\"int\")\n",
    "\n",
    "base_de_dados_array = funcoes.preencherDadosFaltantes(base_de_dados_array, 2, 2)\n",
    "\n",
    "base_de_dados_array[:, 2] = base_de_dados_array[:, 2].astype(\"int\")"
   ]
  },
  {
   "cell_type": "code",
   "execution_count": 9,
   "id": "ff1935b2",
   "metadata": {},
   "outputs": [
    {
     "data": {
      "text/html": [
       "<div>\n",
       "<style scoped>\n",
       "    .dataframe tbody tr th:only-of-type {\n",
       "        vertical-align: middle;\n",
       "    }\n",
       "\n",
       "    .dataframe tbody tr th {\n",
       "        vertical-align: top;\n",
       "    }\n",
       "\n",
       "    .dataframe thead th {\n",
       "        text-align: right;\n",
       "    }\n",
       "</style>\n",
       "<table border=\"1\" class=\"dataframe\">\n",
       "  <thead>\n",
       "    <tr style=\"text-align: right;\">\n",
       "      <th></th>\n",
       "      <th>Inscritos</th>\n",
       "      <th>Visualizações</th>\n",
       "    </tr>\n",
       "  </thead>\n",
       "  <tbody>\n",
       "    <tr>\n",
       "      <th>0</th>\n",
       "      <td>13438</td>\n",
       "      <td>406590</td>\n",
       "    </tr>\n",
       "    <tr>\n",
       "      <th>1</th>\n",
       "      <td>35241</td>\n",
       "      <td>868235</td>\n",
       "    </tr>\n",
       "    <tr>\n",
       "      <th>2</th>\n",
       "      <td>31680</td>\n",
       "      <td>2856508</td>\n",
       "    </tr>\n",
       "    <tr>\n",
       "      <th>3</th>\n",
       "      <td>25100</td>\n",
       "      <td>150000</td>\n",
       "    </tr>\n",
       "    <tr>\n",
       "      <th>4</th>\n",
       "      <td>32788</td>\n",
       "      <td>1575456</td>\n",
       "    </tr>\n",
       "  </tbody>\n",
       "</table>\n",
       "</div>"
      ],
      "text/plain": [
       "  Inscritos Visualizações\n",
       "0     13438        406590\n",
       "1     35241        868235\n",
       "2     31680       2856508\n",
       "3     25100        150000\n",
       "4     32788       1575456"
      ]
     },
     "execution_count": 9,
     "metadata": {},
     "output_type": "execute_result"
    }
   ],
   "source": [
    "base_de_dados.at[28, 'Inscritos'] = base_de_dados_array[28][1]\n",
    "\n",
    "base_de_dados.at[28, 'Visualizações'] = base_de_dados_array[28][2]\n",
    "\n",
    "base_de_dados.Inscritos = base_de_dados.Inscritos.astype(\"int\")\n",
    "\n",
    "base_de_dados.Visualizações = base_de_dados.Visualizações.astype(\"int\")\n",
    "\n",
    "x = pd.DataFrame({'Inscritos': base_de_dados_array[:, 1], 'Visualizações': base_de_dados_array[:, 2]})\n",
    "\n",
    "x.head()"
   ]
  },
  {
   "cell_type": "code",
   "execution_count": 11,
   "id": "3f5b2d7f",
   "metadata": {},
   "outputs": [
    {
     "name": "stderr",
     "output_type": "stream",
     "text": [
      "100%|██████████| 10/10 [00:01<00:00,  9.19it/s]\n"
     ]
    },
    {
     "data": {
      "image/png": "[encoded data removed]",
      "text/plain": [
       "<Figure size 640x480 with 1 Axes>"
      ]
     },
     "metadata": {},
     "output_type": "display_data"
    }
   ],
   "source": [
    "import tqdm\n",
    "\n",
    "wcss = []\n",
    "\n",
    "for i in tqdm.tqdm(range(1, 11)):\n",
    "    \n",
    "    kmeans = KMeans(n_clusters = i, init = 'k-means++', max_iter = 300, n_init = 10)\n",
    "    \n",
    "    kmeans.fit(x)\n",
    "    \n",
    "    wcss.append(kmeans.inertia_)\n",
    "    \n",
    "\n",
    "plt.plot(range(1, 11), wcss)\n",
    "\n",
    "plt.title(\"Método do cotovelo\")\n",
    "\n",
    "plt.xlabel('Número de clusters')\n",
    "\n",
    "plt.ylabel('within-cluster-sum-of-squares')\n",
    "\n",
    "plt.show()"
   ]
  }
 ],
 "metadata": {
  "kernelspec": {
   "display_name": "Python 3",
   "language": "python",
   "name": "python3"
  },
  "language_info": {
   "codemirror_mode": {
    "name": "ipython",
    "version": 3
   },
   "file_extension": ".py",
   "mimetype": "text/x-python",
   "name": "python",
   "nbconvert_exporter": "python",
   "pygments_lexer": "ipython3",
   "version": "3.12.10"
  }
 },
 "nbformat": 4,
 "nbformat_minor": 5
}
