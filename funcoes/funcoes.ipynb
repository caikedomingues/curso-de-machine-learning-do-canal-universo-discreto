{
 "cells": [
  {
   "cell_type": "markdown",
   "id": "cee9aa8b",
   "metadata": {},
   "source": [
    "Resolvi criar essa pasta que irá conter as principais funções que iremos\n",
    "utilizar durante as aualas, dessa maneira, não precisarei ficar reescrevendo\n",
    "os mesmos blocos de código\n"
   ]
  },
  {
   "cell_type": "markdown",
   "id": "2a1f9d43",
   "metadata": {},
   "source": [
    "Método que irá carregar os arquivos e acessar os valores das colunas. O objetivo da criação desse método é facilitar a leitura dos arquivos csv\n",
    "e facilitar a captura dos valores das colunas, algo que, aparentemente,\n",
    "iremos fazer com frequência nas aulas"
   ]
  },
  {
   "cell_type": "code",
   "execution_count": 3,
   "id": "6f5c6931",
   "metadata": {},
   "outputs": [],
   "source": [
    "# Criação da função que irá carregar o dataset e capturar\n",
    "# os valores da coluna. A função irá conter 2 parametros:\n",
    "# O nome do aqruivo que está sendo acessado e o tipo de\n",
    "# delimitador (caractere que separa os valores).\n",
    "# Observação: O valor padrão do delimitador será None,\n",
    "# pois, caso o arquivo tenha como separador a \",\"(padrão\n",
    "# dos arquivos csv) não será necessário especificarmos um\n",
    "# delimitador\n",
    "def carregar_dataset(nome_arquivo, delimitador = None):\n",
    "    \n",
    "    # Ira importar a biblioteca pandas que irá acessar o dataset\n",
    "    # e manipulará os dados.\n",
    "    import pandas as pd\n",
    "    \n",
    "    # Variável que irá acessar o dataset através do seu nome e do\n",
    "    # seu delimitador\n",
    "    base_de_dados = pd.read_csv(nome_arquivo, delimiter=delimitador)\n",
    "    \n",
    "    # Variável que irá acessar os valores de todas as colunas exceto\n",
    "    # a ultima (geralmente a variável x representa um conjunto de carac\n",
    "    # teristicas que serão usadas para treinar modelos de predição/class\n",
    "    # ificação)\n",
    "    x = base_de_dados.iloc[:,:-1].values\n",
    "    \n",
    "    # Variável que irá conter os valores apenas da ultima coluna. Geralmente\n",
    "    # a variável y é o alvo da predição/classificação e contém os valores reais\n",
    "    # da base de dados que serão comparados com a previsão ou classificação do\n",
    "    # modelo\n",
    "    y = base_de_dados.iloc[:, -1].values\n",
    "    \n",
    "    # Ira retornar os valores de x e y\n",
    "    return x, y "
   ]
  },
  {
   "cell_type": "markdown",
   "id": "5edc1f01",
   "metadata": {},
   "source": [
    "Função que irá preencher dados faltantes da base de dados usando a classe SimpleImputer"
   ]
  },
  {
   "cell_type": "code",
   "execution_count": null,
   "id": "1b3b6639",
   "metadata": {},
   "outputs": [],
   "source": [
    "\n",
    "# Criação da função que terá como objetivo substituir valores Not a Number\n",
    "# ou seja linhas que não possuem valores. A função irá receber como parametro\n",
    "# 2 valores: a variável que terá os valores preenchidos e o tipo de estratégia\n",
    "# que o SimpleImputer irá utilizar para preencher esses dados como por exemplo\n",
    "# a média ou a mediana.\n",
    "def preencherDadosFaltantes(variavel_x, estrategia):\n",
    "    \n",
    "    # Import da classe SimpleImputer da biblioteca sklearn.impute.\n",
    "    # Essa será a classe que irá preencher os valores que estão faltando\n",
    "    # no dataset. Vale lembrar que a classe SimpleImputer só deve ser uti\n",
    "    # lizada em valores numéricos.\n",
    "    from sklearn.impute import SimpleImputer\n",
    "    \n",
    "    # Import da biblioteca numpy que irá possibilitar que acessamos\n",
    "    # os valores nan do dataset através do construtor da classe Simple\n",
    "    # Imputer.\n",
    "    import numpy as np\n",
    "    \n",
    "    # Instância da classe (criação do objeto) SimpleImputer. O construtor\n",
    "    # da classe irá receber o missing_values que indica o tipo de valor\n",
    "    # faltante e a estratégia que será utilizada para preenche-los. \n",
    "    imputer = SimpleImputer(missing_values=np.nan, strategy=estrategia)\n",
    "    \n",
    "    # Irá aplicar os preenchimentos no dataset no intervalo selecionado.\n",
    "    # O intervalo irá pegar todas as colunas exceto a primeira (que geralm\n",
    "    # ente contém ids ou nomes).\n",
    "    variavel_x[:,1:] = imputer.fit_transform(variavel_x[:,1:])\n",
    "    \n",
    "    # Retorna da variável x com as alterações\n",
    "    return variavel_x\n",
    "\n"
   ]
  },
  {
   "cell_type": "markdown",
   "id": "b65f427b",
   "metadata": {},
   "source": [
    "Criação da função que irá transformar dados categóricos em rótulos numéricos\n",
    "com o objetivo de conseguir inclui-los nos modelos de predição/classificação"
   ]
  },
  {
   "cell_type": "code",
   "execution_count": 5,
   "id": "53f664fa",
   "metadata": {},
   "outputs": [],
   "source": [
    "def rotulacao(variavel_x):\n",
    "    \n",
    "    from sklearn.preprocessing import LabelEncoder\n",
    "    \n",
    "    import pandas as pd\n",
    "    \n",
    "    import numpy as np\n",
    "    \n",
    "    label_encoder_x = LabelEncoder()\n",
    "    \n",
    "    variavel_x[:, 0] = label_encoder_x.fit_transform(variavel_x[:, 0])\n",
    "    \n",
    "    variavel_x = variavel_x[:, 1:]\n",
    "    \n",
    "    binario = pd.get_dummies(variavel_x[:,0])\n",
    "    \n",
    "    variavel_x = np.insert(variavel_x, 0, binario.values, axis=1)"
   ]
  }
 ],
 "metadata": {
  "kernelspec": {
   "display_name": "Python 3",
   "language": "python",
   "name": "python3"
  },
  "language_info": {
   "codemirror_mode": {
    "name": "ipython",
    "version": 3
   },
   "file_extension": ".py",
   "mimetype": "text/x-python",
   "name": "python",
   "nbconvert_exporter": "python",
   "pygments_lexer": "ipython3",
   "version": "3.12.10"
  }
 },
 "nbformat": 4,
 "nbformat_minor": 5
}
