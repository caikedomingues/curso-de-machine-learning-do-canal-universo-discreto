{
 "cells": [
  {
   "cell_type": "markdown",
   "id": "d026bc7c",
   "metadata": {},
   "source": [
    "                            KNN: K-vizinhos próximos\n",
    "\n",
    "-> O processo para classificar um novo ponto de dados é o seguinte:\n",
    "\n",
    "-> 1.Escolhe-se um valor para k: k é o número de \"vizinhos que o algoritmo\n",
    "irá considerar. SE k = 3, ele procurará os 3 vizinhos mais próximos. Se k = 5\n",
    "os 5 mais próximos, e assim por diante.\n",
    "\n",
    "-> 2.Calcula-se a distância: O algoritmo calcula a distância entre o novo \n",
    "ponto e todos os outros pontos no seu conjunto de dados de treino. A distância euclidiana é a mais comum para isso.\n",
    "\n",
    "-> 3.Encontra-se os vizinhos mais próximos: Ele seleciona os k pontos\n",
    "que estão mais próximos do novo ponto.\n",
    "\n",
    "-> 4.Faz-se uma votação: O modelo verifica a classe ou rótulo de cada desses\n",
    "k vizinhos. A classe que aparecer com mais frequência é a vencedora.\n",
    "\n",
    "-> 5.Atribui-se a classe: O novo ponto de dados é classificado como\n",
    "pertencente á classe vencedora da votação."
   ]
  },
  {
   "cell_type": "markdown",
   "id": "9c03c2b1",
   "metadata": {},
   "source": [
    "Primeiro, vamos criar a função que irá retornar a classificação do modelo\n",
    "knn "
   ]
  },
  {
   "cell_type": "code",
   "execution_count": null,
   "id": "8af8f1c5",
   "metadata": {},
   "outputs": [],
   "source": [
    "# Função que irá criar a predição do modelo. A função tem como argumento:\n",
    "# classificador: Ira receber a classe/modelo knn treinado e preparado\n",
    "# para realizar predições\n",
    "\n",
    "# xtest: Dados que serão utilizados na classificação.\n",
    "def predicaoModelo(classificador, xtest):\n",
    "    \n",
    "    # Retorno da predição do modelo\n",
    "    return classificador.predict(xtest[0])"
   ]
  },
  {
   "cell_type": "markdown",
   "id": "ad3b3fe9",
   "metadata": {},
   "source": [
    "Criação da matriz de confusão que irá mostrar a quantidade de erros e acertos do modelo."
   ]
  },
  {
   "cell_type": "code",
   "execution_count": 108,
   "id": "94d270a7",
   "metadata": {},
   "outputs": [],
   "source": [
    "# Função que irá construir a matriz de confusão. A função irá receber\n",
    "# como argumento:\n",
    "# classificador: Modelo knn treinado\n",
    "\n",
    "# ypredicao: irá conter as predições do modelo knn\n",
    "\n",
    "# ytest: Valores reias das classificações que serão comparados\n",
    "# com as predições do modelo knn \n",
    "def matriz_confusao(classificador, ypredicao, ytest):\n",
    "    \n",
    "    # Import da classe confusion_matrix da biblioteca metrics do módulo\n",
    "    # sklearn que tem como objetivo criar matrizes de confusão que mostram\n",
    "    # a quantidade de acertos e erros do modelo.\n",
    "    from sklearn.metrics import confusion_matrix\n",
    "    \n",
    "    # Instância da (criação do objeto) classe confusion_matrix. O \n",
    "    # construtor recebe como argumento;\n",
    "    # ytest: valores reais\n",
    "    # ypredicao: Predição do modelo\n",
    "    matriz = confusion_matrix(ytest, ypredicao)\n",
    "    \n",
    "    # Retorno da matriz construida com os valores dos argumentos.\n",
    "    return matriz"
   ]
  },
  {
   "cell_type": "markdown",
   "id": "21d503e8",
   "metadata": {},
   "source": [
    "Função que irá construir o modelo KNN"
   ]
  },
  {
   "cell_type": "code",
   "execution_count": 109,
   "id": "b7ac4f78",
   "metadata": {},
   "outputs": [],
   "source": [
    "# Função que irá criar e treinar o modelo usando dados de treino.\n",
    "# A função recebe como argumento:\n",
    "\n",
    "# xtrain: Dados de treino de x que irão ensinar o modelo\n",
    "# a identificar padrões e tendências\n",
    "\n",
    "# ytrain: Irá conter respostas que ensinam como o modelo deve classificar\n",
    "# os dados.\n",
    "\n",
    "def computarKNN(xtrain, ytrain):\n",
    "    \n",
    "    # Import da classe KNeighborsClassifier da biblioteca neighbors\n",
    "    # do módulo sklearn que tem como objetivo criar modelos knn \n",
    "    from sklearn.neighbors import KNeighborsClassifier\n",
    "    \n",
    "    # Instância da classe KNeighborsClassifier. O construtor irá receber\n",
    "    # como argumento\n",
    "    # n_neighbors: Numero de vizinhos que serão procurados na base de \n",
    "    # dados. Observação: É importante que o numero de vizinhos seja sempre\n",
    "    # um valor impar, pois, na votação, sempre devemos ter um grupo que\n",
    "    # contém um vizinho a mais.\n",
    "    \n",
    "    # p: Define o tipo de cálculo que irá calcular a distância entre os \n",
    "    # vizinhos. O 2 representa o cálculo de euclides (o mais comum em \n",
    "    # modelos knn) \n",
    "    classificador = KNeighborsClassifier(n_neighbors=5, p = 2)\n",
    "    \n",
    "    # Treinamento do modelo usando os dados de treino\n",
    "    classificador.fit(xtrain[0], ytrain)\n",
    "    \n",
    "    # Retorno do modelo treinado e pronto para realizar predições\n",
    "    return classificador"
   ]
  },
  {
   "cell_type": "markdown",
   "id": "27ad16f4",
   "metadata": {},
   "source": [
    "Função que irá aplicar o modelo knn"
   ]
  },
  {
   "cell_type": "code",
   "execution_count": null,
   "id": "002e2d4c",
   "metadata": {},
   "outputs": [],
   "source": [
    "# Import do nosso arquivo de funções\n",
    "from minhasfuncoes import funcoes\n",
    "\n",
    "# Criação da função que irá aplicar o knn. A função irá receber como\n",
    "# argumento:\n",
    "# nome_arquivo: Local que a base de dados está armazenada.\n",
    "# delimitador: Sinal que separa os dados no arquivo. O\n",
    "# argumento terá como valor padrão a ',' que o sinal mais comum\n",
    "# em arquivos csv.\n",
    "def knn(nome_arquivo, delimitador=','):\n",
    "    \n",
    "    # Trecho que irá carregar o dataset: Como no nosso arquivo de funções\n",
    "    # nós dividimos os dados do dataset em x (caracteristicas) e y (variável \n",
    "    # alvo) da classificação/predição (que resulta transformar x e y em um\n",
    "    # array numpy), precisamos atribuir a função em 2 variáveis (x e y)\n",
    "    \n",
    "    # carregar_Dataset: Função que tem como objetivo carregar o dataset\n",
    "    # na memória. A função recebe como argumento o nome do arquivo e o\n",
    "    # delimitador\n",
    "    x, y = funcoes.carregar_Dataset(nome_arquivo, delimitador)\n",
    "    \n",
    "    # Função que irá preencher os dados faltantes usando a média aaritmética.\n",
    "    # A função recebe como argumento:\n",
    "    # x: conjunto de dados que será preenchido\n",
    "    # 2: indice da coluna inicial que será preenchida (coluna de idade)\n",
    "    # 2: indice da coluna final que será preenchida (coluna de idade)\n",
    "    x = funcoes.preencherDadosFaltantes(x, 2, 2)\n",
    "    \n",
    "    # Agora iremos rotular numericamente os valores categóricos com  o\n",
    "    # objetivo de possibilitar que o modelo consiga considerar essas\n",
    "    # colunas em sua predição. Como a nossa função de rotulação aplica\n",
    "    # os rótulos em apenas uma variável. Dito isso, precisaremos criar um\n",
    "    # for que irá aplicar a função de rotulação no intervalo de colunas\n",
    "    # que queremos modificar.\n",
    "    \n",
    "    # Lista de indices das colunas que queremos rotular. Vale lembrar que,\n",
    "    # como os valores categóricos são eliminados (para que os valores \n",
    "    # rotulados entre na base de dados), precisamos inverter a ordem dos\n",
    "    # indices que serão modificados.\n",
    "    colunas_para_rotular = [1, 0]\n",
    "    \n",
    "    # Foe que irá percorrer a lista de indices\n",
    "    for i in colunas_para_rotular:\n",
    "        \n",
    "        # Chamada da função que ira rotular as colunas. Ela ira receber \n",
    "        # como argumento:\n",
    "        # x: Conjunto que será rotulado\n",
    "        # i: indice da coluna que será rotulada.\n",
    "        x = funcoes.rotulacao(x, i)\n",
    "    \n",
    "    # Trecho que irá separar os dados em conjuntos de treino e teste\n",
    "    \n",
    "    # xtrain: Ira conter as caracteristicas que o modelo irá usar para\n",
    "    # treinar a captura de padrões e tendências.\n",
    "    \n",
    "    # ytrain: Ira conter resultados das classificações que irão ensinar\n",
    "    # como o modelo deve classificar os valores.\n",
    "    \n",
    "    # xtest: Caracteristicas que serão utilizadas para realizar a predição\n",
    "    # do modelo.\n",
    "    \n",
    "    # ytest: Valores reais da classificação\n",
    "    \n",
    "    # x: conjunto de caracteristicas que serão dividas em treino e teste\n",
    "    \n",
    "    # y: Variável alvo que será dividida em treino e teste.\n",
    "    \n",
    "    # 0.2: Tamanho do conjunto de testes (20% para testes, 80% para treino)\n",
    "    xtrain, xtest, ytrain, ytest = funcoes.treino_teste(x, y, 0.2)\n",
    "    \n",
    "    # Chamada da função normalização que tem como objetivo criar escalas\n",
    "    # que padronizam os dados, dessa maneira evitamos um pouco a presençã\n",
    "    # de outliers. A função recebera como argumentos os conjuntos de treino\n",
    "    # e teste das caracteristicas.\n",
    "    xtrain = funcoes.normalizacao(xtrain)\n",
    "    \n",
    "    xtest = funcoes.normalizacao(xtest)\n",
    "    \n",
    "    # Ira treinar o modelo para realizar a classificação. A\n",
    "    # função irá receber como argumento oa dados de treino \n",
    "    # do modelo.\n",
    "    classificador = computarKNN(xtrain, ytrain)\n",
    "    \n",
    "    # Chamada da função que irá realizar a predição do modelo.\n",
    "    # A função irá receber como argumento:\n",
    "    # classificador: Modelo knn treinado.\n",
    "    \n",
    "    # xtest: Caracteristicas que serão utilizadas na predição \n",
    "    ypredicao = predicaoModelo(classificador, xtest)\n",
    "    \n",
    "    # Retorno da matriz de confusão que irá retornar a quantidade\n",
    "    # de erros e acertos do modelo knn usando o classificador, a\n",
    "    # predição do modelo e os dados reais que serão comparados\n",
    "    # com os resultados do modelo.\n",
    "    return matriz_confusao(classificador, ypredicao, ytest)\n",
    "    \n",
    "    "
   ]
  },
  {
   "cell_type": "markdown",
   "id": "1f9af7d7",
   "metadata": {},
   "source": [
    "Nessa etapa, vamos realizar as classificações usando 2 modelos: o knn e o de\n",
    "regressão logistica. Dessa maneira, poderemos comparar os 2 modelos."
   ]
  },
  {
   "cell_type": "markdown",
   "id": "af6a19b6",
   "metadata": {},
   "source": [
    "Para realizar essa comparação foi necessário converter o notebook de regressão\n",
    "logistica para um arquivo py com o objetivo de importar o arquivo e acessar a função que constrói regressões logisticas"
   ]
  },
  {
   "cell_type": "markdown",
   "id": "0a6a9d6a",
   "metadata": {},
   "source": [
    "Import do arquivo de regressão logistica"
   ]
  },
  {
   "cell_type": "code",
   "execution_count": 111,
   "id": "ae054c32",
   "metadata": {},
   "outputs": [],
   "source": [
    "from arquivospy import Regressaologistica as rl"
   ]
  },
  {
   "cell_type": "markdown",
   "id": "3bc05b14",
   "metadata": {},
   "source": [
    "Resultado do modelo knn"
   ]
  },
  {
   "cell_type": "code",
   "execution_count": null,
   "id": "186ca4b9",
   "metadata": {},
   "outputs": [
    {
     "name": "stdout",
     "output_type": "stream",
     "text": [
      "[[87 14]\n",
      " [22 56]]\n"
     ]
    }
   ],
   "source": [
    "# Chamada da função que irá classificar o arquivo titanic. Como\n",
    "# esse arquivo possui o delimitador padrão (,), não será necessário\n",
    "# passar o segundo argumento.\n",
    "matriz_knn = knn('Dados/titanic.csv')\n",
    "\n",
    "# Impressão dos resultados do modelo knn\n",
    "print(matriz_knn)"
   ]
  },
  {
   "cell_type": "markdown",
   "id": "7bd1db9c",
   "metadata": {},
   "source": [
    "                Interpretação dos resultados do modelo knn\n",
    "                \n",
    "87 → classificados corretamente como não sobreviventes\n",
    "\n",
    "56 → classificados corretamente como sobreviventes\n",
    "\n",
    "14 → classificados incorretamente como sobreviventes\n",
    "\n",
    "22 → classificados incorretamente como não sobreviventes\n"
   ]
  },
  {
   "cell_type": "code",
   "execution_count": 113,
   "id": "044d03c9",
   "metadata": {},
   "outputs": [
    {
     "name": "stdout",
     "output_type": "stream",
     "text": [
      "[[93 13]\n",
      " [19 54]]\n"
     ]
    }
   ],
   "source": [
    "matriz_logistica = rl.computarRegressaoLogistica('Dados/titanic.csv')\n",
    "\n",
    "print(matriz_logistica)"
   ]
  },
  {
   "cell_type": "markdown",
   "id": "041e4cac",
   "metadata": {},
   "source": [
    "                Interpretação dos resultados da reegressão logistica\n",
    "\n",
    "93 -> classificados corretamente como não sobreviventes\n",
    "\n",
    "13 -> Classificados incorretamente como sobreviventes\n",
    "\n",
    "19 -> Classificados incorretamente como não sobreviventes\n",
    "\n",
    "54 -> Classificados corretamente como sobreviventes."
   ]
  },
  {
   "cell_type": "markdown",
   "id": "2eddbe69",
   "metadata": {},
   "source": [
    "Acurácia (nivel de eficiência) do modelo knn"
   ]
  },
  {
   "cell_type": "code",
   "execution_count": 114,
   "id": "2856436a",
   "metadata": {},
   "outputs": [
    {
     "name": "stdout",
     "output_type": "stream",
     "text": [
      "0.7988826815642458\n"
     ]
    }
   ],
   "source": [
    "acuracia_knn = rl.acuracia(matriz_knn)\n",
    "\n",
    "print(acuracia_knn)"
   ]
  },
  {
   "cell_type": "markdown",
   "id": "a7275f22",
   "metadata": {},
   "source": [
    "Acurácia (nivel de eficiência) do modelo de regressão logistica"
   ]
  },
  {
   "cell_type": "code",
   "execution_count": 115,
   "id": "512c76cc",
   "metadata": {},
   "outputs": [
    {
     "name": "stdout",
     "output_type": "stream",
     "text": [
      "0.8212290502793296\n"
     ]
    }
   ],
   "source": [
    "acuracia_logistica = rl.acuracia(matriz_logistica)\n",
    "\n",
    "print(acuracia_logistica)"
   ]
  },
  {
   "cell_type": "markdown",
   "id": "ad54f4de",
   "metadata": {},
   "source": [
    "Agora, vamos realizar a comparação entre esses 2 modelos usando a acurácia\n",
    "de cada modelo"
   ]
  },
  {
   "cell_type": "code",
   "execution_count": null,
   "id": "0c8285ab",
   "metadata": {},
   "outputs": [
    {
     "name": "stdout",
     "output_type": "stream",
     "text": [
      "Média de eficiência da regressão logistica: 0.80\n",
      "Média de eficiência do modelo knn: 0.79\n"
     ]
    }
   ],
   "source": [
    "# Para realizar uma comparação que realmente seja eficiente, é necessário\n",
    "# repetir o processo várias vezes, dessa maneira, poderemos ter certeza\n",
    "# da eficiência do modelo, já que os valores das predições mudam frequen\n",
    "# temente. \n",
    "\n",
    "# Import da biblioteca que possibilita manipular arrays\n",
    "# e realizar cálculos matemáticos.\n",
    "import numpy as np\n",
    "\n",
    "# Array que irá conter as acurácias do modelo de logistica. Esses valores\n",
    "# serão coletados em cada volta do loop (execução do modelo de logistica).\n",
    "logistica_array = []\n",
    "\n",
    "# For que irá criar um loop que irá executar o modelo de logistica \n",
    "# 100 vezes e adicionara no array os resultados da acurácia do modelo\n",
    "# após cada execução.\n",
    "for i in range(0, 100):\n",
    "    \n",
    "    # Chamada da função que realiza a regressão logistica no arquivo\n",
    "    # titanic.csv.\n",
    "    modelo_logistica = rl.computarRegressaoLogistica('Dados/titanic.csv')\n",
    "    \n",
    "    # Função do array que irá inserir os resultados da função acurácia\n",
    "    # na lista\n",
    "    logistica_array.append(rl.acuracia(modelo_logistica))\n",
    "\n",
    "# impressão da média das acurácia que iremos utilizar na comparação\n",
    "# entre os modelos.\n",
    "\n",
    "# np.mean: Função da biblioteca numpy que calcula a média de um \n",
    "# conjunto de valores. A função ira receber como argumento a lista\n",
    "# de acurácias que terão as suas médias calculadas.\n",
    "print(\"Média de eficiência da regressão logistica: %.2f\"% np.mean(logistica_array))\n",
    "\n",
    "\n",
    "# Array que irá conter as acurácias do modelo knn. Esses valores\n",
    "# serão coletados em cada volta do loop (execução do modelo knn).\n",
    "knn_array = []\n",
    "\n",
    "# For que irá criar um loop que irá executar o modelo de knn \n",
    "# 100 vezes e adicionara no array os resultados da acurácia do modelo\n",
    "# após cada execução.\n",
    "for i in range(0, 100):\n",
    "    \n",
    "    # Chamada da função que realiza a execu~ção do modelo knn no arquivo\n",
    "    # titanic.csv.\n",
    "    modelo_knn = knn('Dados/titanic.csv')\n",
    "    \n",
    "    # Função do array que irá inserir os resultados da função acurácia\n",
    "    # na lista\n",
    "    knn_array.append(rl.acuracia(modelo_knn))\n",
    "\n",
    "# impressão da média das acurácia que iremos utilizar na comparação\n",
    "# entre os modelos.\n",
    "\n",
    "# np.mean: Função da biblioteca numpy que calcula a média de um \n",
    "# conjunto de valores. A função ira receber como argumento a lista\n",
    "# de acurácias que terão as suas médias calculadas.\n",
    "print(\"Média de eficiência do modelo knn: %.2f\"% np.mean(knn_array))\n",
    "\n",
    "\n",
    "    \n",
    "    "
   ]
  },
  {
   "cell_type": "markdown",
   "id": "8c55ce30",
   "metadata": {},
   "source": [
    "                            Comparação entre os modelos\n",
    "-> Podemos reparar que os modelos praticamente empatam (levando em consideração a diferença extremamente pequena entre eles).\n",
    "\n",
    "-> Vale lembrar que o desempenho dos modelos podem variar de acordo com\n",
    "a base de dados análisada, ou seja, dependendo do arquivo, um modelo pode\n",
    "ser mais eficiente que o outro."
   ]
  }
 ],
 "metadata": {
  "kernelspec": {
   "display_name": "Python 3",
   "language": "python",
   "name": "python3"
  },
  "language_info": {
   "codemirror_mode": {
    "name": "ipython",
    "version": 3
   },
   "file_extension": ".py",
   "mimetype": "text/x-python",
   "name": "python",
   "nbconvert_exporter": "python",
   "pygments_lexer": "ipython3",
   "version": "3.12.10"
  }
 },
 "nbformat": 4,
 "nbformat_minor": 5
}
