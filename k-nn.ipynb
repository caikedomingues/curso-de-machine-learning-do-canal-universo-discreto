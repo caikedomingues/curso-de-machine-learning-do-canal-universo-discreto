{
 "cells": [
  {
   "cell_type": "code",
   "execution_count": 1,
   "id": "8af8f1c5",
   "metadata": {},
   "outputs": [],
   "source": [
    "def predicaoModelo(classificador, xtest):\n",
    "    \n",
    "    return classificador.predict(xtest[0])"
   ]
  },
  {
   "cell_type": "code",
   "execution_count": 2,
   "id": "94d270a7",
   "metadata": {},
   "outputs": [],
   "source": [
    "def matriz_confusao(classificador, ypredicao, ytest):\n",
    "    \n",
    "    from sklearn.metrics import confusion_matrix\n",
    "    \n",
    "    matriz = confusion_matrix(ytest, ypredicao)"
   ]
  },
  {
   "cell_type": "code",
   "execution_count": null,
   "id": "b7ac4f78",
   "metadata": {},
   "outputs": [],
   "source": [
    "def treino_knn(xtrain, ytrain, xtest):\n",
    "    \n",
    "    "
   ]
  },
  {
   "cell_type": "code",
   "execution_count": null,
   "id": "002e2d4c",
   "metadata": {},
   "outputs": [],
   "source": [
    "from minhasfuncoes import funcoes\n",
    "def knn(nome_arquivo, delimitador=','):\n",
    "    \n",
    "    x, y = funcoes.carregar_dataset(nome_arquivo, delimitador)\n",
    "    \n",
    "    x = funcoes.rotulacao()"
   ]
  }
 ],
 "metadata": {
  "kernelspec": {
   "display_name": "Python 3",
   "language": "python",
   "name": "python3"
  },
  "language_info": {
   "codemirror_mode": {
    "name": "ipython",
    "version": 3
   },
   "file_extension": ".py",
   "mimetype": "text/x-python",
   "name": "python",
   "nbconvert_exporter": "python",
   "pygments_lexer": "ipython3",
   "version": "3.12.10"
  }
 },
 "nbformat": 4,
 "nbformat_minor": 5
}
