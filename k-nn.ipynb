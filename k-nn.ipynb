{
 "cells": [
  {
   "cell_type": "markdown",
   "id": "d026bc7c",
   "metadata": {},
   "source": [
    "                            KNN: K-vizinhos próximos\n",
    "\n",
    "-> O processo para classificar um novo ponto de dados é o seguinte:\n",
    "\n",
    "-> 1.Escolhe-se um valor para k: k é o número de \"vizinhos que o algoritmo\n",
    "irá considerar. SE k = 3, ele procurará os 3 vizinhos mais próximos. Se k = 5\n",
    "os 5 mais próximos, e assim por diante.\n",
    "\n",
    "-> 2.Calcula-se a distância: O algoritmo calcula a distância entre o novo \n",
    "ponto e todos os outros pontos no seu conjunto de dados de treino. A distância euclidiana é a mais comum para isso.\n",
    "\n",
    "-> 3.Encontra-se os vizinhos mais próximos: Ele seleciona os k pontos\n",
    "que estão mais próximos do novo ponto.\n",
    "\n",
    "-> 4.Faz-se uma votação: O modelo verifica a classe ou rótulo de cada desses\n",
    "k vizinhos. A classe que aparecer com mais frequência é a vencedora.\n",
    "\n",
    "-> 5.Atribui-se a classe: O novo ponto de dados é classificado como\n",
    "pertencente á classe vencedora da votação."
   ]
  },
  {
   "cell_type": "markdown",
   "id": "9c03c2b1",
   "metadata": {},
   "source": [
    "Primeiro, vamos criar a função que irá retornar a classificação do modelo\n",
    "knn "
   ]
  },
  {
   "cell_type": "code",
   "execution_count": null,
   "id": "8af8f1c5",
   "metadata": {},
   "outputs": [],
   "source": [
    "# Função que irá criar a predição do modelo. A função tem como argumento:\n",
    "# classificador: Ira receber a classe/modelo knn treinado e preparado\n",
    "# para realizar predições\n",
    "\n",
    "# xtest: Dados que serão utilizados na classificação.\n",
    "def predicaoModelo(classificador, xtest):\n",
    "    \n",
    "    # Retorno da predição do modelo\n",
    "    return classificador.predict(xtest[0])"
   ]
  },
  {
   "cell_type": "markdown",
   "id": "ad3b3fe9",
   "metadata": {},
   "source": [
    "Criação da matriz de confusão que irá mostrar a quantidade de erros e acertos do modelo."
   ]
  },
  {
   "cell_type": "code",
   "execution_count": 108,
   "id": "94d270a7",
   "metadata": {},
   "outputs": [],
   "source": [
    "# Função que irá construir a matriz de confusão. A função irá receber\n",
    "# como argumento:\n",
    "# classificador: Modelo knn treinado\n",
    "\n",
    "# ypredicao: irá conter as predições do modelo knn\n",
    "\n",
    "# ytest: Valores reias das classificações que serão comparados\n",
    "# com as predições do modelo knn \n",
    "def matriz_confusao(classificador, ypredicao, ytest):\n",
    "    \n",
    "    # Import da classe confusion_matrix da biblioteca metrics do módulo\n",
    "    # sklearn que tem como objetivo criar matrizes de confusão que mostram\n",
    "    # a quantidade de acertos e erros do modelo.\n",
    "    from sklearn.metrics import confusion_matrix\n",
    "    \n",
    "    # Instância da (criação do objeto) classe confusion_matrix. O \n",
    "    # construtor recebe como argumento;\n",
    "    # ytest: valores reais\n",
    "    # ypredicao: Predição do modelo\n",
    "    matriz = confusion_matrix(ytest, ypredicao)\n",
    "    \n",
    "    # Retorno da matriz construida com os valores dos argumentos.\n",
    "    return matriz"
   ]
  },
  {
   "cell_type": "markdown",
   "id": "21d503e8",
   "metadata": {},
   "source": [
    "Função que irá construir o modelo KNN"
   ]
  },
  {
   "cell_type": "code",
   "execution_count": 109,
   "id": "b7ac4f78",
   "metadata": {},
   "outputs": [],
   "source": [
    "# Função que irá criar e treinar o modelo usando dados de treino.\n",
    "# A função recebe como argumento:\n",
    "\n",
    "# xtrain: Dados de treino de x que irão ensinar o modelo\n",
    "# a identificar padrões e tendências\n",
    "\n",
    "# ytrain: Irá conter respostas que ensinam como o modelo deve classificar\n",
    "# os dados.\n",
    "\n",
    "def computarKNN(xtrain, ytrain):\n",
    "    \n",
    "    # Import da classe KNeighborsClassifier da biblioteca neighbors\n",
    "    # do módulo sklearn que tem como objetivo criar modelos knn \n",
    "    from sklearn.neighbors import KNeighborsClassifier\n",
    "    \n",
    "    # Instância da classe KNeighborsClassifier. O construtor irá receber\n",
    "    # como argumento\n",
    "    # n_neighbors: Numero de vizinhos que serão procurados na base de \n",
    "    # dados. Observação: É importante que o numero de vizinhos seja sempre\n",
    "    # um valor impar, pois, na votação, sempre devemos ter um grupo que\n",
    "    # contém um vizinho a mais.\n",
    "    \n",
    "    # p: Define o tipo de cálculo que irá calcular a distância entre os \n",
    "    # vizinhos. O 2 representa o cálculo de euclides (o mais comum em \n",
    "    # modelos knn) \n",
    "    classificador = KNeighborsClassifier(n_neighbors=5, p = 2)\n",
    "    \n",
    "    # Treinamento do modelo usando os dados de treino\n",
    "    classificador.fit(xtrain[0], ytrain)\n",
    "    \n",
    "    # Retorno do modelo treinado e pronto para realizar predições\n",
    "    return classificador"
   ]
  },
  {
   "cell_type": "markdown",
   "id": "27ad16f4",
   "metadata": {},
   "source": [
    "Função que irá aplicar o modelo knn"
   ]
  },
  {
   "cell_type": "code",
   "execution_count": null,
   "id": "002e2d4c",
   "metadata": {},
   "outputs": [],
   "source": [
    "# Import do nosso arquivo de funções\n",
    "from minhasfuncoes import funcoes\n",
    "\n",
    "# Criação da função que irá aplicar o knn. A função irá receber como\n",
    "# argumento:\n",
    "# nome_arquivo: Local que a base de dados está armazenada.\n",
    "# delimitador: Sinal que separa os dados no arquivo. O\n",
    "# argumento terá como valor padrão a ',' que o sinal mais comum\n",
    "# em arquivos csv.\n",
    "def knn(nome_arquivo, delimitador=','):\n",
    "    \n",
    "    # Trecho que irá carregar o dataset: Como no nosso arquivo de funções\n",
    "    # nós dividimos os dados do dataset em x (caracteristicas) e y (variável \n",
    "    # alvo) da classificação/predição (que resulta transformar x e y em um\n",
    "    # array numpy), precisamos atribuir a função em 2 variáveis (x e y)\n",
    "    \n",
    "    # carregar_Dataset: Função que tem como objetivo carregar o dataset\n",
    "    # na memória. A função recebe como argumento o nome do arquivo e o\n",
    "    # delimitador\n",
    "    x, y = funcoes.carregar_Dataset(nome_arquivo, delimitador)\n",
    "    \n",
    "    # Função que irá preencher os dados faltantes usando a média aaritmética.\n",
    "    # A função recebe como argumento:\n",
    "    # x: conjunto de dados que será preenchido\n",
    "    # 2: indice da coluna inicial que será preenchida (coluna de idade)\n",
    "    # 2: indice da coluna final que será preenchida (coluna de idade)\n",
    "    x = funcoes.preencherDadosFaltantes(x, 2, 2)\n",
    "    \n",
    "    # Agora iremos rotular numericamente os valores categóricos com  o\n",
    "    # objetivo de possibilitar que o modelo consiga considerar essas\n",
    "    # colunas em sua predição. Como a nossa função de rotulação aplica\n",
    "    # os rótulos em apenas uma variável. Dito isso, precisaremos criar um\n",
    "    # for que irá aplicar a função de rotulação no intervalo de colunas\n",
    "    # que queremos modificar.\n",
    "    \n",
    "    # Lista de indices das colunas que queremos rotular. Vale lembrar que,\n",
    "    # como os valores categóricos são eliminados (para que os valores \n",
    "    # rotulados entre na base de dados), precisamos inverter a ordem dos\n",
    "    # indices que serão modificados.\n",
    "    colunas_para_rotular = [1, 0]\n",
    "    \n",
    "    # Foe que irá percorrer a lista de indices\n",
    "    for i in colunas_para_rotular:\n",
    "        \n",
    "        # Chamada da função que ira rotular as colunas. Ela ira receber \n",
    "        # como argumento:\n",
    "        # x: Conjunto que será rotulado\n",
    "        # i: indice da coluna que será rotulada.\n",
    "        x = funcoes.rotulacao(x, i)\n",
    "    \n",
    "    xtrain, xtest, ytrain, ytest = funcoes.treino_teste(x, y, 0.2)\n",
    "    \n",
    "    \n",
    "    xtrain = funcoes.normalizacao(xtrain)\n",
    "    \n",
    "    xtest = funcoes.normalizacao(xtest)\n",
    "    \n",
    "    classificador = computarKNN(xtrain, ytrain)\n",
    "    \n",
    "    ypredicao = predicaoModelo(classificador, xtest)\n",
    "    \n",
    "    return matriz_confusao(classificador, ypredicao, ytest)\n",
    "    \n",
    "    "
   ]
  },
  {
   "cell_type": "code",
   "execution_count": 111,
   "id": "ae054c32",
   "metadata": {},
   "outputs": [],
   "source": [
    "from arquivospy import Regressaologistica as rl"
   ]
  },
  {
   "cell_type": "code",
   "execution_count": 112,
   "id": "186ca4b9",
   "metadata": {},
   "outputs": [
    {
     "name": "stdout",
     "output_type": "stream",
     "text": [
      "[[87 14]\n",
      " [22 56]]\n"
     ]
    }
   ],
   "source": [
    "matriz_knn = knn('Dados/titanic.csv')\n",
    "\n",
    "print(matriz_knn)"
   ]
  },
  {
   "cell_type": "code",
   "execution_count": 113,
   "id": "044d03c9",
   "metadata": {},
   "outputs": [
    {
     "name": "stdout",
     "output_type": "stream",
     "text": [
      "[[93 13]\n",
      " [19 54]]\n"
     ]
    }
   ],
   "source": [
    "matriz_logistica = rl.computarRegressaoLogistica('Dados/titanic.csv')\n",
    "\n",
    "print(matriz_logistica)"
   ]
  },
  {
   "cell_type": "code",
   "execution_count": 114,
   "id": "2856436a",
   "metadata": {},
   "outputs": [
    {
     "name": "stdout",
     "output_type": "stream",
     "text": [
      "0.7988826815642458\n"
     ]
    }
   ],
   "source": [
    "acuracia_knn = rl.acuracia(matriz_knn)\n",
    "\n",
    "print(acuracia_knn)"
   ]
  },
  {
   "cell_type": "code",
   "execution_count": 115,
   "id": "512c76cc",
   "metadata": {},
   "outputs": [
    {
     "name": "stdout",
     "output_type": "stream",
     "text": [
      "0.8212290502793296\n"
     ]
    }
   ],
   "source": [
    "acuracia_logistica = rl.acuracia(matriz_logistica)\n",
    "\n",
    "print(acuracia_logistica)"
   ]
  },
  {
   "cell_type": "code",
   "execution_count": 116,
   "id": "0c8285ab",
   "metadata": {},
   "outputs": [
    {
     "name": "stdout",
     "output_type": "stream",
     "text": [
      "Média de eficiência da regressão logistica: 0.80\n",
      "Média de eficiência do modelo knn: 0.79\n"
     ]
    }
   ],
   "source": [
    "import numpy as np\n",
    "\n",
    "logistica_array = []\n",
    "\n",
    "for i in range(0, 100):\n",
    "    \n",
    "    modelo_logistica = rl.computarRegressaoLogistica('Dados/titanic.csv')\n",
    "    \n",
    "    logistica_array.append(rl.acuracia(modelo_logistica))\n",
    "\n",
    "print(\"Média de eficiência da regressão logistica: %.2f\"% np.mean(logistica_array))\n",
    "\n",
    "\n",
    "knn_array = []\n",
    "\n",
    "for i in range(0, 100):\n",
    "    \n",
    "    modelo_knn = knn('Dados/titanic.csv')\n",
    "    \n",
    "    knn_array.append(rl.acuracia(modelo_knn))\n",
    "\n",
    "print(\"Média de eficiência do modelo knn: %.2f\"% np.mean(knn_array))\n",
    "\n",
    "\n",
    "    \n",
    "    "
   ]
  }
 ],
 "metadata": {
  "kernelspec": {
   "display_name": "Python 3",
   "language": "python",
   "name": "python3"
  },
  "language_info": {
   "codemirror_mode": {
    "name": "ipython",
    "version": 3
   },
   "file_extension": ".py",
   "mimetype": "text/x-python",
   "name": "python",
   "nbconvert_exporter": "python",
   "pygments_lexer": "ipython3",
   "version": "3.12.10"
  }
 },
 "nbformat": 4,
 "nbformat_minor": 5
}
