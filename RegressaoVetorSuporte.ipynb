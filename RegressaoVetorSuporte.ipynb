{
 "cells": [
  {
   "cell_type": "markdown",
   "id": "272302fe",
   "metadata": {},
   "source": [
    "                                Regressão Vetor Suporte\n",
    "\n",
    "-> Diferente da regressão linear onde desenhamos uma linha. Na regressão\n",
    "de vetor suporte, desenhamos uma \"faixa\", uma zona de tolerância em volta\n",
    "da linha. Essa zona tem uma espessura que a gente escolhe. A SVR então faz\n",
    "duas coisas:\n",
    "\n",
    "-> Tenta encontrar uma linha que seja o mais plana possivel (como se fosse\n",
    "uma reta).\n",
    "\n",
    "-> Tenta colocar a maioria dos pontos DENTRO dessa faixa de tolerância, sem\n",
    "se importar com a posição exata deles lá dentro.\n",
    "\n",
    "-> A SVR só se preocupa com os pontos que estão fora da caixa ou que estão\n",
    "exatamente na borda da faixa. Esses pontos são os mais importantes e são chamados de vetores de suporte. Eles são os \"pontos de apoio\" que a SVR \n",
    "usa para a desenhar a linha."
   ]
  },
  {
   "cell_type": "markdown",
   "id": "b2acf4c6",
   "metadata": {},
   "source": [
    "Import das bibliotecas que utilizaremos em todas as funções"
   ]
  },
  {
   "cell_type": "code",
   "execution_count": null,
   "id": "079a3bf1",
   "metadata": {},
   "outputs": [],
   "source": [
    "# import dp nosso arquivo de funções (modularização) \n",
    "from minhasfuncoes import funcoes \n",
    "\n",
    "# Import da biblioteca que realiza cálculos matemáticos e manipulam arrays\n",
    "import numpy as np"
   ]
  },
  {
   "cell_type": "markdown",
   "id": "92c38c9e",
   "metadata": {},
   "source": [
    "criação da função que irá construir a regressão vetor suporte"
   ]
  },
  {
   "cell_type": "code",
   "execution_count": null,
   "id": "b13b75b9",
   "metadata": {},
   "outputs": [],
   "source": [
    "\n",
    "# A função que constroi regressão de vetor suporte irá receber como\n",
    "# argumento:\n",
    "# x: valores da caracteristica (experiência em anos)\n",
    "# y: Variável alvo que queremos prever (salário)\n",
    "# k: tipo do kernel (modelo da linha) que iremos utilizar\n",
    "# para fazer a regressão\n",
    "# d: valor que define a curvatora da linha do modelo polinomial\n",
    "def computarRegressaoVetorSuporte(x, y, k, d):\n",
    "    \n",
    "    # Import da classe SVR da biblioteca skalearn.svm que tem como\n",
    "    # objetvo criar regressões de vetor suporte\n",
    "    from sklearn.svm import SVR\n",
    "    \n",
    "    # Instância da classe (criação do objeto) do modelo de regressão\n",
    "    # de vetor de suporte\n",
    "    regressor = SVR()\n",
    "    \n",
    "    # Antes de passarmos o parametro k, vamos verificar se o modelo\n",
    "    # escolhido é o \"poly\" (kernel do modelo polinomiar)\n",
    "    if (k == \"poly\"):\n",
    "        \n",
    "        # Se o valor de k for igual a \"poly\", vamos adicionar como argumento\n",
    "        # no costrutor da classe o degree que define a curvatura da linha \n",
    "        # polinomial\n",
    "        regressor = SVR(kernel = k, degree = d)\n",
    "    \n",
    "    else:\n",
    "        \n",
    "        # Caso seja diferente, iremos apenas passar para o k do construtor o valor atribuido a ele\n",
    "        regressor = SVR(kernel = k)\n",
    "    \n",
    "    # x_train: Ira receber o conjunto de caracteristicas de  treino que irá ensinar o modelo a encontrar tendências e padrões entre as variáveis.\n",
    "    # x_test: Ira receber o conjunto que o modelo utilizara para realizar\n",
    "    # a predição\n",
    "    # y_train: Dados reais da variável alvo que treinarão as respostas\n",
    "    # do modelo.\n",
    "    # y_test: Dados reais que serão comparados com o resultado gerado\n",
    "    # pelo modelo\n",
    "    # chamada da nossa função de treino e teste de dados:\n",
    "    # x: conjunto de caracteristicas que serão divididas em treino e\n",
    "    # e teste\n",
    "    # y: variável alvo que será dividida em treino e teste \n",
    "    x_train, x_test, y_train, y_test = funcoes.treino_teste(x, y, 0.2)\n",
    "    \n",
    "    # Função da classe SVR que irá treinar o modelo usando os dados\n",
    "    # de treino\n",
    "    regressor.fit(x_train, np.ravel(y_train))\n",
    "    \n",
    "    # Retorno do modelo de suporte treinado \n",
    "    return regressor\n",
    "    "
   ]
  },
  {
   "cell_type": "markdown",
   "id": "61e031c9",
   "metadata": {},
   "source": [
    "Criação da função que irá realizar a construção do gráfico do modelo"
   ]
  },
  {
   "cell_type": "code",
   "execution_count": null,
   "id": "11baad0f",
   "metadata": {},
   "outputs": [],
   "source": [
    "# A função de construção de gráfico ira receber como argumento.\n",
    "# xpoints: Dados reais da experiencia em anos que serão representados\n",
    "# pelos pontos.\n",
    "# ypoints: Dados reais dos valores que queremos prever (salário) que serão\n",
    "# representados pelos pontos.\n",
    "# xline:  Dados reais da experiencia em anos que serão representados\n",
    "# pela linha de previsão do modelo.\n",
    "# yline: Dados reais dos valores que queremos prever (salário) que serão\n",
    "# representados pela linha de previsão do modelo.\n",
    "def showPlot(xpoints, ypoints, xline, yline):\n",
    "    \n",
    "    # Import da biblioteca que permite a construção e manipulação de\n",
    "    # gráficos.\n",
    "    import matplotlib.pyplot as plt\n",
    "   \n",
    "   # função que irá criar os pontos do gráfico\n",
    "   # xpoints: Valores das caracteristicas representadas por pontos.\n",
    "   # ypoints: Valores da variável alvo que serão representados por\n",
    "   # pontos\n",
    "   # color: cor dos pontos no gráfico\n",
    "    plt.scatter(xpoints, ypoints, color = 'red')\n",
    "    \n",
    "   # função que irá criar as linhas do gráfico\n",
    "   # xline: Valores das caracteristicas que a linha ira usar para prever\n",
    "   # os resultados.\n",
    "   # yline: Valores da variável alvo que o modelo preveu\n",
    "   # color: cor da linha no gráfico\n",
    "    plt.plot(xline, yline, color='blue')\n",
    "    \n",
    "    # Ira definir o titulo do gráfico\n",
    "    plt.title(\"Comparando os pontos reais com a reta produzida pela regressão vetor suporte\")\n",
    "    \n",
    "    # Ira definir o rótulo do eixo x\n",
    "    plt.xlabel(\"Experiência em anos\")\n",
    "    \n",
    "    # Ira definir o rótulo do eixo y\n",
    "    plt.ylabel(\"Salário\")\n",
    "    \n",
    "    # Irá exibir o gráfico na tela\n",
    "    plt.show()\n",
    "    "
   ]
  },
  {
   "cell_type": "markdown",
   "id": "1de7b7f8",
   "metadata": {},
   "source": [
    "Criação do método que irá aplicar a construção da regressão vetor suporte"
   ]
  },
  {
   "cell_type": "code",
   "execution_count": 123,
   "id": "579c5975",
   "metadata": {},
   "outputs": [],
   "source": [
    "def regressorVetorSuporte(nome_arquivo, delimitador = None):\n",
    "    \n",
    "    import time\n",
    "    \n",
    "    tempo_inicial = time.time()\n",
    "    \n",
    "    x, y = funcoes.carregar_Dataset(nome_arquivo, delimitador)\n",
    "    \n",
    "    tempo_necessario = time.time() - tempo_inicial\n",
    "    \n",
    "    print(\"Tempo necessário para o carregamento do dataset na memória: \", round(tempo_necessario,3), \" segundos\")\n",
    "    \n",
    "    tempo_inicial = time.time()\n",
    "    \n",
    "    x, scaleX = funcoes.normalizacao(x.reshape(-1, 1))\n",
    "    \n",
    "    y, scaleY = funcoes.normalizacao(np.reshape(y, (-1, 1)))\n",
    "    \n",
    "    tempo_necessario = time.time() - tempo_inicial\n",
    "    \n",
    "    print(\"Tempo necessário para normalização dos dados: \", round(tempo_necessario, 3), \" segundos\")\n",
    "    \n",
    "    tempo_inicial = time.time()\n",
    "    \n",
    "    svrModel = computarRegressaoVetorSuporte(x, y, \"poly\", 3)\n",
    "    \n",
    "    tempo_necessario = time.time() - tempo_inicial\n",
    "    \n",
    "    print(\"Tempo necessário para construção do modelo: \",round(tempo_necessario, 3), \" segundos\")\n",
    "    \n",
    "    \n",
    "    tempo_inicial = time.time()\n",
    "    \n",
    "    svrModel = computarRegressaoVetorSuporte(x, y, \"linear\", 3)\n",
    "    \n",
    "    tempo_necessario = time.time() - tempo_inicial\n",
    "    \n",
    "    print(\"Tempo necessário para construção do modelo: \",round(tempo_necessario, 3), \" segundos\")\n",
    "    \n",
    "    showPlot(scaleX.inverse_transform(x), scaleY.inverse_transform(y), scaleX.inverse_transform(x), scaleY.inverse_transform(svrModel.predict(x).reshape(-1, 1)))"
   ]
  },
  {
   "cell_type": "code",
   "execution_count": 124,
   "id": "1ebcd469",
   "metadata": {},
   "outputs": [
    {
     "name": "stdout",
     "output_type": "stream",
     "text": [
      "Tempo necessário para o carregamento do dataset na memória:  0.017  segundos\n",
      "Tempo necessário para normalização dos dados:  0.008  segundos\n",
      "Tempo necessário para construção do modelo:  0.005  segundos\n",
      "Tempo necessário para construção do modelo:  0.001  segundos\n"
     ]
    },
    {
     "data": {
      "image/png": "[encoded data removed]",
      "text/plain": [
       "<Figure size 640x480 with 1 Axes>"
      ]
     },
     "metadata": {},
     "output_type": "display_data"
    }
   ],
   "source": [
    "regressorVetorSuporte('Dados/salary.csv', ';')"
   ]
  }
 ],
 "metadata": {
  "kernelspec": {
   "display_name": "Python 3",
   "language": "python",
   "name": "python3"
  },
  "language_info": {
   "codemirror_mode": {
    "name": "ipython",
    "version": 3
   },
   "file_extension": ".py",
   "mimetype": "text/x-python",
   "name": "python",
   "nbconvert_exporter": "python",
   "pygments_lexer": "ipython3",
   "version": "3.12.10"
  }
 },
 "nbformat": 4,
 "nbformat_minor": 5
}
