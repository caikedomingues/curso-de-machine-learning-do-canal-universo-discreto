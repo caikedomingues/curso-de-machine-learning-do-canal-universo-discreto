{
 "cells": [
  {
   "cell_type": "markdown",
   "id": "ad2b0534",
   "metadata": {},
   "source": [
    "                        Floresta Aleatória de Classificação\n",
    "\n",
    "-> A Floresta Aleatória de Classificação (Random Forest) é um modelo de machine\n",
    "learning muito poderoso que, em vez de tomar decisões com base em um único modelo, usa o cocneito de \"sabedoria da multidão\".\n",
    "\n",
    "-> Pense nela como um comitê de especialistas. Em vez de confiar na opinião\n",
    "de um único especialista (um único modelo), a Floresta Aleatória reune dezenas\n",
    "ou centenas de especialistas (chamados de árvore de decisão) e torna a decisão final com base na maioria dos votos deles.\n",
    "\n",
    "                        Elementos principais\n",
    "\n",
    "-> Floresta: O modelo é uma coleção de várias Árvores de Decisão. Uma Árvore de Decisão é um modelo mais simples que toma decisões com base em uma série\n",
    "de perguntas (como um fluxograma).\n",
    "\n",
    "-> Aleatóriedade: A aleatoriedade é a chave para o poder da floresta. Cada\n",
    "árvore na floresta é treinada de uma maneira diferente:\n",
    "\n",
    "    -> Ela usa apenas um subconjunto aleatório dos dados de treino.\n",
    "\n",
    "    -> Para fazer suas decisões, ela considera apenas um subconjunto\n",
    "    aleatório das caracteristicas (colunas da sua base de dados).\n",
    "\n",
    "\n",
    "                    Como a Floresta Aleatória Faz Previsões\n",
    "\n",
    "-> Para classificar um novo dado, o modelo:\n",
    "\n",
    "-> 1.Envia esse dado para todas as árvores na floresta\n",
    "\n",
    "-> 2. Cada árvore, individualmente, faz sua própria previsão.\n",
    "\n",
    "-> 3. O modelo coleta as previsões de todas as árvores e a previsão final\n",
    "é a que recebeu o maior número de votos (o resultado mais comum).\n",
    "\n",
    "-> A principal vantagem da Floresta Aleatória é que essa abordagem de combinar\n",
    "várias árvores aleatórias reduz o problema de superajuste (overfitting) e \n",
    "geralmente resulta em um modelo final muito mais preciso e confiável do que\n",
    "qualquerr uma das árvores individuais."
   ]
  },
  {
   "cell_type": "markdown",
   "id": "9b9757d9",
   "metadata": {},
   "source": [
    "Criando a predição do modelo"
   ]
  },
  {
   "cell_type": "code",
   "execution_count": null,
   "id": "c6608e64",
   "metadata": {},
   "outputs": [],
   "source": [
    "# Função que irá criar a predição do modelo. A função irá receber como \n",
    "# argumento:\n",
    "# classificador: Ira conter o modelo treinado e pronto para realizar predições\n",
    "# xtest: Irá conter os dados que serão utilizados para a classificação do modelo.\n",
    "def predicaoModelo(classificador, xtest):\n",
    "    \n",
    "    # Irá retornar a predição do modelo usando a função predict que irá\n",
    "    # conter como argumento o xtest\n",
    "    return classificador.predict(xtest)"
   ]
  },
  {
   "cell_type": "markdown",
   "id": "da36a625",
   "metadata": {},
   "source": [
    "Criando a matriz confusão que irá mostrar a quantidade de erros e acertos \n",
    "do modelo "
   ]
  },
  {
   "cell_type": "code",
   "execution_count": null,
   "id": "68e31cdb",
   "metadata": {},
   "outputs": [],
   "source": [
    "# Função que irá construir a matriz de confusão. A função irá receber como\n",
    "# argumento:\n",
    "# ytest: Dados reais da classificação dos dados que serão comparados com\n",
    "# as predições do modelo.\n",
    "# ypredicao: Predição do modelo.\n",
    "def matrizConfusao(ytest, ypredicao):\n",
    "    \n",
    "    # Import da classe confusion_matrix do módulo metrics da biblioteca\n",
    "    # sklearn que tem como objetivo construir matrizes de confusão.\n",
    "    from sklearn.metrics import confusion_matrix\n",
    "    \n",
    "    # Instância da classe de matriz de confusão. O construtor da classe\n",
    "    # irá receber como argumento os dados reais e a predição do modelo.\n",
    "    matriz = confusion_matrix(ytest, ypredicao)\n",
    "    \n",
    "    # Retorno da matriz construida.\n",
    "    return matriz"
   ]
  },
  {
   "cell_type": "markdown",
   "id": "4e7c13cb",
   "metadata": {},
   "source": [
    "Construção do modelo de floresta aleatória"
   ]
  },
  {
   "cell_type": "code",
   "execution_count": null,
   "id": "d32fbba0",
   "metadata": {},
   "outputs": [],
   "source": [
    "# Função que irá construir a floresta aleatória. A função irá receber como\n",
    "# argumento:\n",
    "# xtrain: Dados de treino do conjunto x (caracteristicas)\n",
    "# ytrain: Dados de treino do conjunto y (variável alvo)\n",
    "# numero_arvores: Irá definir o numero de arvores que serão construidas\n",
    "# na floresta.\n",
    "def computarModelo(xtrain, ytrain, numero_arvores):\n",
    "    \n",
    "    # Import da classe RandomForestClassifier do módulo ensemble da\n",
    "    # biblioteca sklearn que tem como objetivo construir florestas\n",
    "    # aleatórias. \n",
    "    from sklearn.ensemble import RandomForestClassifier\n",
    "    \n",
    "    # Instância da classe (criação do objeto) RandomForestClassifier.\n",
    "    # O construtor da classe irá receber como argumento:\n",
    "    # n_estimators: Contém a quantidade de arvores que serão construidas\n",
    "    # na floresta.\n",
    "    # criterion: Será o cálculo que o modelo irá utilizar para classificar\n",
    "    # os dados. \n",
    "    classificador = RandomForestClassifier(n_estimators=numero_arvores, criterion='entropy')\n",
    "    \n",
    "    # Função que irá treinar o modelo usando os dados de treino.\n",
    "    classificador.fit(xtrain, ytrain)\n",
    "    \n",
    "    # Irá retornar o modelo treinado e pronto para realizar predições\n",
    "    return classificador"
   ]
  },
  {
   "cell_type": "markdown",
   "id": "f2863e59",
   "metadata": {},
   "source": [
    "Aplicando o modelo de classificação nos dados "
   ]
  },
  {
   "cell_type": "code",
   "execution_count": null,
   "id": "2ba6e264",
   "metadata": {},
   "outputs": [],
   "source": [
    "# Import do nosso arquivo de funções.\n",
    "from minhasfuncoes import funcoes\n",
    "\n",
    "# Função que irá aplicar o modelo de classificação nos dados. A função irá\n",
    "# receber como argumento:\n",
    "\n",
    "# nome_do_arquivo: Local que a base de dados análisada está armazenada.\n",
    "\n",
    "# delimitador: Sinal que separa os dados no dataset. Vamos definir como\n",
    "# valor padrão do argumento a ',' que é comumente usada em arquivos csv.\n",
    "\n",
    "# inicio_preenchimento: Ira conter a coluna inicial que será preenchida\n",
    "# caso o dataset tenha dados faltantes. Como nem todos os datasets possuem\n",
    "# dados faltantes, vamos definir como valor padrão para o argumento o None,\n",
    "# dessa maneira não seremos obrigados a atribuir um valor para essa variável\n",
    "\n",
    "# fim_preenchimento: Ira conter a coluna final que será preenchida\n",
    "# caso o dataset tenha dados faltantes. Como nem todos os datasets possuem\n",
    "# dados faltantes, vamos definir como valor padrão para o argumento o None,\n",
    "# dessa maneira não seremos obrigados a atribuir um valor para essa variável\n",
    "\n",
    "# lista_rotulacao: Irá conter uma lista das variáveis categóricas que devem\n",
    "# ser numericamente rotuladas com o objetivo de possibilitar que o modelo\n",
    "# interprete essas variáveis. Como nem todo dataset possui valores categóricos\n",
    "# , vamos definir como valor padrão o None que nos tira a obrigação de definir\n",
    "# um valor para esse argumento. \n",
    "def FlorestaAleatoriaDecisao(nome_do_arquivo, delimitador = ',', inicio_preenchimento = None, fim_preenchimento = None, lista_rotulacao = None):\n",
    "    \n",
    "    # Trecho que irá carregar o dataset na memória ram: Como no nosso arquivo \n",
    "    # de funções Nós dividimos os dados em x e y (utilizando a função values\n",
    "    # que transforma as variáveis em arrays numpy) com o objetivo de obtermos\n",
    "    # as caracteristicas e os alvos da base de dados.\n",
    "    \n",
    "    # x: Caracteristicas (variáveis independentes)\n",
    "    \n",
    "    # y: Variável alvo (variáveis dependentes)\n",
    "    \n",
    "    # carregar_Dataset: Função que irá carregar o dataset. A função irá\n",
    "    # receber como argumento o nome do arquivo e o seu delimitador.\n",
    "    x, y = funcoes.carregar_Dataset(nome_do_arquivo, delimitador)\n",
    "    \n",
    "    # If que irá verificar se é necessário preencher dados faltantes.\n",
    "    # Basicamente a estrutura irá verificar se os argumentos inicio_\n",
    "    # preenchimento e fim_preenchimento possuem algum valor diferente\n",
    "    # de None \n",
    "    if inicio_preenchimento != None and fim_preenchimento != None:\n",
    "        \n",
    "        # Se essa condição for verdadeira, vamos chamar a função\n",
    "        # que preenche dados faltantes usando a classe SimpleImputer.\n",
    "        # A função recebe como argumento: x (conjunto que será preenchido\n",
    "        # ), inicio_preenchimento (indice da coluna inicial que será preenchi\n",
    "        # da) e fim_preenchimento (indice da coluna final que será preenchida).\n",
    "        x = funcoes.preencherDadosFaltantes(x, inicio_preenchimento, fim_preenchimento)\n",
    "    \n",
    "    # Irá verificar se é necessário rotular os dados categóricos do dataset.\n",
    "    # Basicamente, o if irá verificar se a variável possui um valor diferente\n",
    "    # de None.\n",
    "    if lista_rotulacao != None:\n",
    "        \n",
    "        # Se a condição for verdadeira, vamos criar um for que irá percorrer\n",
    "        # a lista de indices das colunas com o objetivo de aplicar a função de\n",
    "        # rotulação em todas as colunas categóricas.\n",
    "        for indice in lista_rotulacao:\n",
    "            \n",
    "            # Função que irá rotular as colunas. A função irá receber como\n",
    "            # argumento o x (conjunto de dados análisado) e o indice (indice\n",
    "            # da coluna que será rotulada).\n",
    "            x = funcoes.rotulacao(x, indice)\n",
    "    \n",
    "    # xtrain: Irá conter as caracteristicas de treino que irão ensinar\n",
    "    # o modelo a identificar padrões e tendências.\n",
    "    \n",
    "    # xtest: Ira conter os dados que serão utilizados na predição do modelo\n",
    "    \n",
    "    # ytrain: Dados de treino do conjunto y que tem como objetivo conter\n",
    "    # as respostas coletadas pelo modelo no treinamento.\n",
    "    \n",
    "    # ytest: Dados reais da classificação que serõa comparados com a\n",
    "    # predição do modelo.\n",
    "    xtrain, xtest, ytrain, ytest = funcoes.treino_teste(x, y, 0.2)\n",
    "    \n",
    "    # Trecho que irá normalizar os dados com o objetivo de criar escalas\n",
    "    # que padronizam os dados e evitam outliers através da criação de uma\n",
    "    # média 0 e um desvio padrão 1.\n",
    "    \n",
    "    # Função que irá normalizar o conjunto de treino de x. Após normalizar\n",
    "    # os dados vamos atribuir o xtrain normalizado na variável escala que\n",
    "    # será utilizada na normalização do xtest.\n",
    "    xtrain_normalizado, escala = funcoes.normalizacao(xtrain)\n",
    "    \n",
    "    # Irá normalizar o xtest usando o xtrain\n",
    "    xtest_normalizado = escala.transform(xtest)\n",
    "    \n",
    "    # Função que irá construir o modelo usando os dados de treino (com\n",
    "    # o xtrain normalizado).\n",
    "    classificador = computarModelo(xtrain_normalizado, ytrain, 10)\n",
    "    \n",
    "    # Função que irá fazer a predição do modelo usando o classificador\n",
    "    # (modelo) e o  xtest_normalizado (dados que serão utilizados na\n",
    "    # predição)\n",
    "    ypredicao = predicaoModelo(classificador, xtest_normalizado)\n",
    "    \n",
    "    # Retorno da matriz confusão que irá comparar o ytest (dados reais\n",
    "    # ) e a predição do modelo.\n",
    "    return matrizConfusao(ytest, ypredicao)"
   ]
  },
  {
   "cell_type": "markdown",
   "id": "580159f5",
   "metadata": {},
   "source": [
    "Chamada da função que irá construir a matriz de confusão"
   ]
  },
  {
   "cell_type": "code",
   "execution_count": 46,
   "id": "d7af492d",
   "metadata": {},
   "outputs": [
    {
     "name": "stdout",
     "output_type": "stream",
     "text": [
      "[[105  16]\n",
      " [ 16  42]]\n"
     ]
    }
   ],
   "source": [
    "matriz = FlorestaAleatoriaDecisao(nome_do_arquivo = 'Dados/titanic.csv', inicio_preenchimento = 2, fim_preenchimento = 2, lista_rotulacao = [1, 0] )\n",
    "\n",
    "print(matriz)"
   ]
  },
  {
   "cell_type": "markdown",
   "id": "440dfaf3",
   "metadata": {},
   "source": [
    "                                Interpretação da Matriz\n",
    "-> 105: Quantidade de pessoas que o modelo classificou corretamente como\n",
    "não sobreviventes.\n",
    "\n",
    "-> 16: Quantidade de pessoas que o modelo classificou incorretamente como\n",
    "sobreviventes\n",
    "\n",
    "-> 16: Quantidade de pessoas que o modelo classificou incorretamente como\n",
    "não sobreviventes\n",
    "\n",
    "-> 42: Quantidade de pessoas que o modelo classificou corretamente como\n",
    "sobreviventes\n"
   ]
  },
  {
   "cell_type": "markdown",
   "id": "701788b7",
   "metadata": {},
   "source": [
    "Função que irá mostrar a acurácia do nosso sistema"
   ]
  },
  {
   "cell_type": "code",
   "execution_count": 50,
   "id": "73a95ee1",
   "metadata": {},
   "outputs": [
    {
     "name": "stdout",
     "output_type": "stream",
     "text": [
      "0.82\n"
     ]
    }
   ],
   "source": [
    "acuracia = funcoes.acuracia(matriz)\n",
    "\n",
    "print(round(acuracia, 2))"
   ]
  },
  {
   "cell_type": "markdown",
   "id": "65e17c85",
   "metadata": {},
   "source": [
    "Agora, vamos testar o nosso modelo várias vezes com o objetivo de capturar a média das acurácias do nosso modelo. Dessa forma, poderemos concluir o quão\n",
    "    bom é o nosso modelo."
   ]
  },
  {
   "cell_type": "code",
   "execution_count": null,
   "id": "2282b2e0",
   "metadata": {},
   "outputs": [],
   "source": [
    "# O lambda irá permitir que a gente passe como argumento para a função\n",
    "# testar_modelo_classificação a nossa função de floresta aleatória com\n",
    "# os seus argumentos preenchidos.\n",
    "floresta = lambda: FlorestaAleatoriaDecisao(nome_do_arquivo = 'Dados/titanic.csv', inicio_preenchimento = 2, fim_preenchimento = 2, lista_rotulacao = [1, 0] )"
   ]
  },
  {
   "cell_type": "markdown",
   "id": "e3782766",
   "metadata": {},
   "source": [
    "Testando a eficiência do modelo"
   ]
  },
  {
   "cell_type": "code",
   "execution_count": null,
   "id": "2a2e9ee2",
   "metadata": {},
   "outputs": [
    {
     "name": "stderr",
     "output_type": "stream",
     "text": [
      "Construindo o teste de eficiência da floresta aleatória: 100%|██████████| 20/20 [00:00<00:00, 32.48it/s]"
     ]
    },
    {
     "name": "stdout",
     "output_type": "stream",
     "text": [
      "Média das acurácias do modelo de classificação: 0.79\n"
     ]
    },
    {
     "name": "stderr",
     "output_type": "stream",
     "text": [
      "\n"
     ]
    }
   ],
   "source": [
    "# Chamada da função com os seguintes argumentos:\n",
    "# floresta: Função que constroi a floresta aleatória com os nossos argumentos\n",
    "# preenchidos.\n",
    "# 20: Tamanho do loop (quantidade de vezes que o modelo será executado)\n",
    "# 'Construindo o teste de eficiência da floresta aleatória': Descrição da\n",
    "# barra de progresso.\n",
    "teste_de_eficiência = funcoes.testar_modelo_classificacao(floresta, 20, 'Construindo o teste de eficiência da floresta aleatória')"
   ]
  }
 ],
 "metadata": {
  "kernelspec": {
   "display_name": "Python 3",
   "language": "python",
   "name": "python3"
  },
  "language_info": {
   "codemirror_mode": {
    "name": "ipython",
    "version": 3
   },
   "file_extension": ".py",
   "mimetype": "text/x-python",
   "name": "python",
   "nbconvert_exporter": "python",
   "pygments_lexer": "ipython3",
   "version": "3.12.10"
  }
 },
 "nbformat": 4,
 "nbformat_minor": 5
}
